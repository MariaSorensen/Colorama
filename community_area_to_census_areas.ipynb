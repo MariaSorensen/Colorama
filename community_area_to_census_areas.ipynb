{
 "cells": [
  {
   "cell_type": "code",
   "execution_count": 1,
   "metadata": {},
   "outputs": [],
   "source": [
    "import pandas as pd\n",
    "import numpy as np"
   ]
  },
  {
   "cell_type": "code",
   "execution_count": 2,
   "metadata": {},
   "outputs": [],
   "source": [
    "#csv files\n",
    "community_areas = pd.read_csv(\"Community_area_list.csv\")\n",
    "illinois_population = pd.read_csv(\"Illinois_Population.csv\")"
   ]
  },
  {
   "cell_type": "code",
   "execution_count": 3,
   "metadata": {},
   "outputs": [
    {
     "data": {
      "text/html": [
       "<div>\n",
       "<style scoped>\n",
       "    .dataframe tbody tr th:only-of-type {\n",
       "        vertical-align: middle;\n",
       "    }\n",
       "\n",
       "    .dataframe tbody tr th {\n",
       "        vertical-align: top;\n",
       "    }\n",
       "\n",
       "    .dataframe thead th {\n",
       "        text-align: right;\n",
       "    }\n",
       "</style>\n",
       "<table border=\"1\" class=\"dataframe\">\n",
       "  <thead>\n",
       "    <tr style=\"text-align: right;\">\n",
       "      <th></th>\n",
       "      <th>Unnamed: 0</th>\n",
       "      <th>Name</th>\n",
       "      <th>Total Population</th>\n",
       "      <th>Public Use Microdata Area</th>\n",
       "      <th>Year</th>\n",
       "    </tr>\n",
       "  </thead>\n",
       "  <tbody>\n",
       "    <tr>\n",
       "      <th>0</th>\n",
       "      <td>0</td>\n",
       "      <td>Jo Daviess, Carroll, Whiteside &amp; Lee Counties ...</td>\n",
       "      <td>132179</td>\n",
       "      <td>104</td>\n",
       "      <td>2012</td>\n",
       "    </tr>\n",
       "    <tr>\n",
       "      <th>1</th>\n",
       "      <td>1</td>\n",
       "      <td>Rock Island County PUMA, Illinois</td>\n",
       "      <td>147504</td>\n",
       "      <td>105</td>\n",
       "      <td>2012</td>\n",
       "    </tr>\n",
       "    <tr>\n",
       "      <th>2</th>\n",
       "      <td>2</td>\n",
       "      <td>Henry, Mercer, Henderson, Warren, Hancock, McD...</td>\n",
       "      <td>180417</td>\n",
       "      <td>202</td>\n",
       "      <td>2012</td>\n",
       "    </tr>\n",
       "    <tr>\n",
       "      <th>3</th>\n",
       "      <td>3</td>\n",
       "      <td>Adams, Pike, Brown, Schuyler &amp; Mason Counties ...</td>\n",
       "      <td>112582</td>\n",
       "      <td>300</td>\n",
       "      <td>2012</td>\n",
       "    </tr>\n",
       "    <tr>\n",
       "      <th>4</th>\n",
       "      <td>4</td>\n",
       "      <td>Cass, Morgan, Scott, Greene, Macoupin, Jersey ...</td>\n",
       "      <td>143980</td>\n",
       "      <td>401</td>\n",
       "      <td>2012</td>\n",
       "    </tr>\n",
       "  </tbody>\n",
       "</table>\n",
       "</div>"
      ],
      "text/plain": [
       "   Unnamed: 0                                               Name  \\\n",
       "0           0  Jo Daviess, Carroll, Whiteside & Lee Counties ...   \n",
       "1           1                  Rock Island County PUMA, Illinois   \n",
       "2           2  Henry, Mercer, Henderson, Warren, Hancock, McD...   \n",
       "3           3  Adams, Pike, Brown, Schuyler & Mason Counties ...   \n",
       "4           4  Cass, Morgan, Scott, Greene, Macoupin, Jersey ...   \n",
       "\n",
       "   Total Population  Public Use Microdata Area  Year  \n",
       "0            132179                        104  2012  \n",
       "1            147504                        105  2012  \n",
       "2            180417                        202  2012  \n",
       "3            112582                        300  2012  \n",
       "4            143980                        401  2012  "
      ]
     },
     "execution_count": 3,
     "metadata": {},
     "output_type": "execute_result"
    }
   ],
   "source": [
    "illinois_population.head()"
   ]
  },
  {
   "cell_type": "code",
   "execution_count": 4,
   "metadata": {},
   "outputs": [
    {
     "data": {
      "text/plain": [
       "dtype('O')"
      ]
     },
     "execution_count": 4,
     "metadata": {},
     "output_type": "execute_result"
    }
   ],
   "source": [
    "#pull only Name column\n",
    "public_use_list = illinois_population[\"Name\"]\n",
    "public_use_list = public_use_list.astype(str)\n",
    "public_use_list.dtypes"
   ]
  },
  {
   "cell_type": "code",
   "execution_count": 5,
   "metadata": {},
   "outputs": [],
   "source": [
    "#replace ; with ,\n",
    "public_use_2 = public_use_list.str.replace(';',\",\")"
   ]
  },
  {
   "cell_type": "code",
   "execution_count": 6,
   "metadata": {},
   "outputs": [],
   "source": [
    "#replace -- with ,\n",
    "public_use_3 = public_use_2.str.replace('--',\",\")"
   ]
  },
  {
   "cell_type": "code",
   "execution_count": 7,
   "metadata": {},
   "outputs": [
    {
     "data": {
      "text/plain": [
       "352"
      ]
     },
     "execution_count": 7,
     "metadata": {},
     "output_type": "execute_result"
    }
   ],
   "source": [
    "#replace & with ,\n",
    "public_use_4 = public_use_3.str.replace('&',\",\")\n",
    "len(public_use_4)"
   ]
  },
  {
   "cell_type": "code",
   "execution_count": 8,
   "metadata": {},
   "outputs": [
    {
     "data": {
      "text/plain": [
       "Community             77\n",
       "Community \\nNumber    77\n",
       "dtype: int64"
      ]
     },
     "execution_count": 8,
     "metadata": {},
     "output_type": "execute_result"
    }
   ],
   "source": [
    "#search dataframe for community area names\n",
    "#chicago areas double-check, remove extra values\n",
    "community_areas = community_areas.dropna()\n",
    "community_areas.count()"
   ]
  },
  {
   "cell_type": "code",
   "execution_count": 9,
   "metadata": {},
   "outputs": [
    {
     "data": {
      "text/plain": [
       "0                Rogers Park\n",
       "1                 West Ridge\n",
       "2                     Uptown\n",
       "3             Lincoln Square\n",
       "4               North Center\n",
       "5                  Lake View\n",
       "6               Lincoln Park\n",
       "7            Near North Side\n",
       "8                Edison Park\n",
       "9               Norwood Park\n",
       "10            Jefferson Park\n",
       "11               Forest Glen\n",
       "12                North Park\n",
       "13               Albany Park\n",
       "14              Portage Park\n",
       "15               Irving Park\n",
       "16                   Dunning\n",
       "17                 Montclare\n",
       "18            Belmont Cragin\n",
       "19                   Hermosa\n",
       "20                  Avondale\n",
       "21              Logan Square\n",
       "22             Humboldt Park\n",
       "23                 West Town\n",
       "24                    Austin\n",
       "25        West Garfield Park\n",
       "26        East Garfield Park\n",
       "27            Near West Side\n",
       "28            North Lawndale\n",
       "29            South Lawndale\n",
       "               ...          \n",
       "47           Calumet Heights\n",
       "48                  Roseland\n",
       "49                   Pullman\n",
       "50             South Deering\n",
       "51                 East Side\n",
       "52              West Pullman\n",
       "53                 Riverdale\n",
       "54                 Hegewisch\n",
       "55            Garfield Ridge\n",
       "56            Archer Heights\n",
       "57             Brighton Park\n",
       "58             McKinley Park\n",
       "59                Bridgeport\n",
       "60                  New City\n",
       "61               West Elsdon\n",
       "62                 Gage Park\n",
       "63                  Clearing\n",
       "64                 West Lawn\n",
       "65              Chicago Lawn\n",
       "66            West Englewood\n",
       "67                 Englewood\n",
       "68    Greater Grand Crossing\n",
       "69                   Ashburn\n",
       "70            Auburn Gresham\n",
       "71                   Beverly\n",
       "72        Washington Heights\n",
       "73           Mount Greenwood\n",
       "74               Morgan Park\n",
       "75                    O'Hare\n",
       "76                 Edgewater\n",
       "Name: Community, Length: 77, dtype: object"
      ]
     },
     "execution_count": 9,
     "metadata": {},
     "output_type": "execute_result"
    }
   ],
   "source": [
    "#make series\n",
    "community_series = community_areas[\"Community\"]\n",
    "community_series = community_series.astype(str)\n",
    "community_series"
   ]
  },
  {
   "cell_type": "code",
   "execution_count": 10,
   "metadata": {},
   "outputs": [],
   "source": [
    "#make two empty series\n",
    "community_match_1=[]\n",
    "community_match_2=[]"
   ]
  },
  {
   "cell_type": "code",
   "execution_count": 12,
   "metadata": {},
   "outputs": [
    {
     "name": "stdout",
     "output_type": "stream",
     "text": [
      "Chicago City (North)--Edgewater, Uptown & Rogers Park PUMA; Illinois\n",
      "Chicago City (North)--Edgewater, Uptown & Rogers Park PUMA; Illinois\n",
      "Chicago City (North)--Edgewater, Uptown & Rogers Park PUMA; Illinois\n",
      "Chicago City (North)--Edgewater, Uptown & Rogers Park PUMA; Illinois\n",
      "Chicago City (North)--West Ridge, Lincoln Square & North Center PUMA; Illinois\n",
      "Chicago City (North)--West Ridge, Lincoln Square & North Center PUMA; Illinois\n",
      "Chicago City (North)--West Ridge, Lincoln Square & North Center PUMA; Illinois\n",
      "Chicago City (North)--West Ridge, Lincoln Square & North Center PUMA; Illinois\n",
      "Chicago City (North)--Edgewater, Uptown & Rogers Park PUMA; Illinois\n",
      "Chicago City (North)--Edgewater, Uptown & Rogers Park PUMA; Illinois\n",
      "Chicago City (North)--Edgewater, Uptown & Rogers Park PUMA; Illinois\n",
      "Chicago City (North)--Edgewater, Uptown & Rogers Park PUMA; Illinois\n",
      "Chicago City (North)--West Ridge, Lincoln Square & North Center PUMA; Illinois\n",
      "Chicago City (North)--West Ridge, Lincoln Square & North Center PUMA; Illinois\n",
      "Chicago City (North)--West Ridge, Lincoln Square & North Center PUMA; Illinois\n",
      "Chicago City (North)--West Ridge, Lincoln Square & North Center PUMA; Illinois\n",
      "Chicago City (North)--West Ridge, Lincoln Square & North Center PUMA; Illinois\n",
      "Chicago City (North)--West Ridge, Lincoln Square & North Center PUMA; Illinois\n",
      "Chicago City (North)--West Ridge, Lincoln Square & North Center PUMA; Illinois\n",
      "Chicago City (North)--West Ridge, Lincoln Square & North Center PUMA; Illinois\n",
      "Chicago City (North)--Lake View & Lincoln Park PUMA, Illinois\n",
      "Chicago City (North)--Lake View & Lincoln Park PUMA, Illinois\n",
      "Chicago City (North)--Lake View & Lincoln Park PUMA, Illinois\n",
      "Chicago City (North)--Lake View & Lincoln Park PUMA, Illinois\n",
      "Chicago City (North)--Lake View & Lincoln Park PUMA, Illinois\n",
      "Chicago City (North)--Lake View & Lincoln Park PUMA, Illinois\n",
      "Chicago City (North)--Lake View & Lincoln Park PUMA, Illinois\n",
      "Chicago City (North)--Lake View & Lincoln Park PUMA, Illinois\n",
      "Chicago City (Central)--Near North Side, Loop & Near South Side PUMA; Illinois\n",
      "Chicago City (Central)--Near North Side, Loop & Near South Side PUMA; Illinois\n",
      "Chicago City (Central)--Near North Side, Loop & Near South Side PUMA; Illinois\n",
      "Chicago City (Central)--Near North Side, Loop & Near South Side PUMA; Illinois\n",
      "Cook County (North)--Maine, Norwood Park Townships & Chicago City--Edison Park PUMA; Illinois\n",
      "Cook County (North)--Maine, Norwood Park Townships & Chicago City--Edison Park PUMA; Illinois\n",
      "Cook County (North)--Maine, Norwood Park Townships & Chicago City--Edison Park PUMA; Illinois\n",
      "Cook County (North)--Maine, Norwood Park Townships & Chicago City--Edison Park PUMA; Illinois\n",
      "Cook County (North)--Maine, Norwood Park Townships & Chicago City--Edison Park PUMA; Illinois\n",
      "Cook County (West)--Leyden, Norwood Park (South) Townships & Chicago City--O'Hare PUMA; Illinois\n",
      "Cook County (North)--Maine, Norwood Park Townships & Chicago City--Edison Park PUMA; Illinois\n",
      "Cook County (West)--Leyden, Norwood Park (South) Townships & Chicago City--O'Hare PUMA; Illinois\n",
      "Cook County (North)--Maine, Norwood Park Townships & Chicago City--Edison Park PUMA; Illinois\n",
      "Cook County (West)--Leyden, Norwood Park (South) Townships & Chicago City--O'Hare PUMA; Illinois\n",
      "Cook County (North)--Maine, Norwood Park Townships & Chicago City--Edison Park PUMA; Illinois\n",
      "Cook County (West)--Leyden, Norwood Park (South) Townships & Chicago City--O'Hare PUMA; Illinois\n",
      "Chicago City (Northwest)--Portage Park, Dunning & Jefferson Park PUMA; Illinois\n",
      "Chicago City (Northwest)--Portage Park, Dunning & Jefferson Park PUMA; Illinois\n",
      "Chicago City (Northwest)--Portage Park, Dunning & Jefferson Park PUMA; Illinois\n",
      "Chicago City (Northwest)--Portage Park, Dunning & Jefferson Park PUMA; Illinois\n",
      "Chicago City (Northwest)--Irving Park, Albany Park, Forest Glen & North Park PUMA; Illinois\n",
      "Chicago City (Northwest)--Irving Park, Albany Park, Forest Glen & North Park PUMA; Illinois\n",
      "Chicago City (Northwest)--Irving Park, Albany Park, Forest Glen & North Park PUMA; Illinois\n",
      "Chicago City (Northwest)--Irving Park, Albany Park, Forest Glen & North Park PUMA; Illinois\n",
      "Chicago City (Northwest)--Irving Park, Albany Park, Forest Glen & North Park PUMA; Illinois\n",
      "Chicago City (Northwest)--Irving Park, Albany Park, Forest Glen & North Park PUMA; Illinois\n",
      "Chicago City (Northwest)--Irving Park, Albany Park, Forest Glen & North Park PUMA; Illinois\n",
      "Chicago City (Northwest)--Irving Park, Albany Park, Forest Glen & North Park PUMA; Illinois\n",
      "Chicago City (Northwest)--Irving Park, Albany Park, Forest Glen & North Park PUMA; Illinois\n",
      "Chicago City (Northwest)--Irving Park, Albany Park, Forest Glen & North Park PUMA; Illinois\n",
      "Chicago City (Northwest)--Irving Park, Albany Park, Forest Glen & North Park PUMA; Illinois\n",
      "Chicago City (Northwest)--Irving Park, Albany Park, Forest Glen & North Park PUMA; Illinois\n",
      "Chicago City (Northwest)--Portage Park, Dunning & Jefferson Park PUMA; Illinois\n",
      "Chicago City (Northwest)--Portage Park, Dunning & Jefferson Park PUMA; Illinois\n",
      "Chicago City (Northwest)--Portage Park, Dunning & Jefferson Park PUMA; Illinois\n",
      "Chicago City (Northwest)--Portage Park, Dunning & Jefferson Park PUMA; Illinois\n",
      "Chicago City (Northwest)--Irving Park, Albany Park, Forest Glen & North Park PUMA; Illinois\n",
      "Chicago City (Northwest)--Irving Park, Albany Park, Forest Glen & North Park PUMA; Illinois\n",
      "Chicago City (Northwest)--Irving Park, Albany Park, Forest Glen & North Park PUMA; Illinois\n",
      "Chicago City (Northwest)--Irving Park, Albany Park, Forest Glen & North Park PUMA; Illinois\n",
      "Chicago City (Northwest)--Portage Park, Dunning & Jefferson Park PUMA; Illinois\n",
      "Chicago City (Northwest)--Portage Park, Dunning & Jefferson Park PUMA; Illinois\n",
      "Chicago City (Northwest)--Portage Park, Dunning & Jefferson Park PUMA; Illinois\n",
      "Chicago City (Northwest)--Portage Park, Dunning & Jefferson Park PUMA; Illinois\n",
      "Chicago City (West)--Austin, Belmont Cragin & Montclare PUMA; Illinois\n",
      "Chicago City (West)--Austin, Belmont Cragin & Montclare PUMA; Illinois\n",
      "Chicago City (West)--Austin, Belmont Cragin & Montclare PUMA; Illinois\n",
      "Chicago City (West)--Austin, Belmont Cragin & Montclare PUMA; Illinois\n",
      "Chicago City (West)--Austin, Belmont Cragin & Montclare PUMA; Illinois\n",
      "Chicago City (West)--Austin, Belmont Cragin & Montclare PUMA; Illinois\n",
      "Chicago City (West)--Austin, Belmont Cragin & Montclare PUMA; Illinois\n",
      "Chicago City (West)--Austin, Belmont Cragin & Montclare PUMA; Illinois\n",
      "Chicago City (Northwest)--Logan Square, Avondale & Hermosa PUMA; Illinois\n",
      "Chicago City (Northwest)--Logan Square, Avondale & Hermosa PUMA; Illinois\n",
      "Chicago City (Northwest)--Logan Square, Avondale & Hermosa PUMA; Illinois\n",
      "Chicago City (Northwest)--Logan Square, Avondale & Hermosa PUMA; Illinois\n",
      "Chicago City (Northwest)--Logan Square, Avondale & Hermosa PUMA; Illinois\n",
      "Chicago City (Northwest)--Logan Square, Avondale & Hermosa PUMA; Illinois\n",
      "Chicago City (Northwest)--Logan Square, Avondale & Hermosa PUMA; Illinois\n",
      "Chicago City (Northwest)--Logan Square, Avondale & Hermosa PUMA; Illinois\n",
      "Chicago City (Northwest)--Logan Square, Avondale & Hermosa PUMA; Illinois\n",
      "Chicago City (Northwest)--Logan Square, Avondale & Hermosa PUMA; Illinois\n",
      "Chicago City (Northwest)--Logan Square, Avondale & Hermosa PUMA; Illinois\n",
      "Chicago City (Northwest)--Logan Square, Avondale & Hermosa PUMA; Illinois\n",
      "Chicago City (West)--North & South Lawndale, Humboldt Park, East & West Garfield Park PUMA; Illinois\n",
      "Chicago City (West)--North & South Lawndale, Humboldt Park, East & West Garfield Park PUMA; Illinois\n",
      "Chicago City (West)--North & South Lawndale, Humboldt Park, East & West Garfield Park PUMA; Illinois\n",
      "Chicago City (West)--North & South Lawndale, Humboldt Park, East & West Garfield Park PUMA; Illinois\n",
      "Chicago City (West)--West Town, Near West Side & Lower West Side PUMA; Illinois\n",
      "Chicago City (West)--West Town, Near West Side & Lower West Side PUMA; Illinois\n",
      "Chicago City (West)--West Town, Near West Side & Lower West Side PUMA; Illinois\n",
      "Chicago City (West)--West Town, Near West Side & Lower West Side PUMA; Illinois\n",
      "Chicago City (West)--Austin, Belmont Cragin & Montclare PUMA; Illinois\n",
      "Chicago City (West)--Austin, Belmont Cragin & Montclare PUMA; Illinois\n",
      "Chicago City (West)--Austin, Belmont Cragin & Montclare PUMA; Illinois\n",
      "Chicago City (West)--Austin, Belmont Cragin & Montclare PUMA; Illinois\n",
      "Chicago City (West)--North & South Lawndale, Humboldt Park, East & West Garfield Park PUMA; Illinois\n",
      "Chicago City (West)--North & South Lawndale, Humboldt Park, East & West Garfield Park PUMA; Illinois\n",
      "Chicago City (West)--North & South Lawndale, Humboldt Park, East & West Garfield Park PUMA; Illinois\n",
      "Chicago City (West)--North & South Lawndale, Humboldt Park, East & West Garfield Park PUMA; Illinois\n"
     ]
    },
    {
     "name": "stdout",
     "output_type": "stream",
     "text": [
      "Chicago City (West)--West Town, Near West Side & Lower West Side PUMA; Illinois\n",
      "Chicago City (West)--West Town, Near West Side & Lower West Side PUMA; Illinois\n",
      "Chicago City (West)--West Town, Near West Side & Lower West Side PUMA; Illinois\n",
      "Chicago City (West)--West Town, Near West Side & Lower West Side PUMA; Illinois\n",
      "Chicago City (West)--North & South Lawndale, Humboldt Park, East & West Garfield Park PUMA; Illinois\n",
      "Chicago City (West)--North & South Lawndale, Humboldt Park, East & West Garfield Park PUMA; Illinois\n",
      "Chicago City (West)--North & South Lawndale, Humboldt Park, East & West Garfield Park PUMA; Illinois\n",
      "Chicago City (West)--North & South Lawndale, Humboldt Park, East & West Garfield Park PUMA; Illinois\n",
      "Chicago City (West)--West Town, Near West Side & Lower West Side PUMA; Illinois\n",
      "Chicago City (West)--West Town, Near West Side & Lower West Side PUMA; Illinois\n",
      "Chicago City (West)--West Town, Near West Side & Lower West Side PUMA; Illinois\n",
      "Chicago City (West)--West Town, Near West Side & Lower West Side PUMA; Illinois\n",
      "Chicago City (Central)--Near North Side, Loop & Near South Side PUMA; Illinois\n",
      "Chicago City (Central)--Near North Side, Loop & Near South Side PUMA; Illinois\n",
      "Chicago City (Central)--Near North Side, Loop & Near South Side PUMA; Illinois\n",
      "Chicago City (Central)--Near North Side, Loop & Near South Side PUMA; Illinois\n",
      "Chicago City (Central)--Near North Side, Loop & Near South Side PUMA; Illinois\n",
      "Chicago City (Central)--Near North Side, Loop & Near South Side PUMA; Illinois\n",
      "Chicago City (Central)--Near North Side, Loop & Near South Side PUMA; Illinois\n",
      "Chicago City (Central)--Near North Side, Loop & Near South Side PUMA; Illinois\n",
      "Douglas, Edgar, Coles & Cumberland Counties PUMA; Illinois\n",
      "Chicago City (South)--South Shore, Hyde Park, Woodlawn, Grand Boulevard & Douglas PUMA; Illinois\n",
      "Douglas, Edgar, Coles & Cumberland Counties PUMA; Illinois\n",
      "Chicago City (South)--South Shore, Hyde Park, Woodlawn, Grand Boulevard & Douglas PUMA; Illinois\n",
      "Douglas, Edgar, Coles & Cumberland Counties PUMA; Illinois\n",
      "Chicago City (South)--South Shore, Hyde Park, Woodlawn, Grand Boulevard & Douglas PUMA; Illinois\n",
      "Douglas, Edgar, Coles & Cumberland Counties PUMA; Illinois\n",
      "Chicago City (South)--South Shore, Hyde Park, Woodlawn, Grand Boulevard & Douglas PUMA; Illinois\n",
      "Chicago City (South)--South Shore, Hyde Park, Woodlawn, Grand Boulevard & Douglas PUMA; Illinois\n",
      "Chicago City (South)--South Shore, Hyde Park, Woodlawn, Grand Boulevard & Douglas PUMA; Illinois\n",
      "Chicago City (South)--South Shore, Hyde Park, Woodlawn, Grand Boulevard & Douglas PUMA; Illinois\n",
      "Chicago City (South)--South Shore, Hyde Park, Woodlawn, Grand Boulevard & Douglas PUMA; Illinois\n",
      "Chicago City (South)--South Shore, Hyde Park, Woodlawn, Grand Boulevard & Douglas PUMA; Illinois\n",
      "Chicago City (South)--South Shore, Hyde Park, Woodlawn, Grand Boulevard & Douglas PUMA; Illinois\n",
      "Chicago City (South)--South Shore, Hyde Park, Woodlawn, Grand Boulevard & Douglas PUMA; Illinois\n",
      "Chicago City (South)--South Shore, Hyde Park, Woodlawn, Grand Boulevard & Douglas PUMA; Illinois\n",
      "Chicago City (South)--South Shore, Hyde Park, Woodlawn, Grand Boulevard & Douglas PUMA; Illinois\n",
      "Chicago City (South)--South Shore, Hyde Park, Woodlawn, Grand Boulevard & Douglas PUMA; Illinois\n",
      "Chicago City (South)--South Shore, Hyde Park, Woodlawn, Grand Boulevard & Douglas PUMA; Illinois\n",
      "Chicago City (South)--South Shore, Hyde Park, Woodlawn, Grand Boulevard & Douglas PUMA; Illinois\n",
      "Chicago City (South)--South Shore, Hyde Park, Woodlawn, Grand Boulevard & Douglas PUMA; Illinois\n",
      "Chicago City (South)--South Shore, Hyde Park, Woodlawn, Grand Boulevard & Douglas PUMA; Illinois\n",
      "Chicago City (South)--South Shore, Hyde Park, Woodlawn, Grand Boulevard & Douglas PUMA; Illinois\n",
      "Chicago City (South)--South Shore, Hyde Park, Woodlawn, Grand Boulevard & Douglas PUMA; Illinois\n",
      "Chicago City (South)--Auburn Gresham, Roseland, Chatham, Avalon Park & Burnside PUMA; Illinois\n",
      "Chicago City (South)--Auburn Gresham, Roseland, Chatham, Avalon Park & Burnside PUMA; Illinois\n",
      "Chicago City (South)--Auburn Gresham, Roseland, Chatham, Avalon Park & Burnside PUMA; Illinois\n",
      "Chicago City (South)--Auburn Gresham, Roseland, Chatham, Avalon Park & Burnside PUMA; Illinois\n",
      "Chicago City (South)--Auburn Gresham, Roseland, Chatham, Avalon Park & Burnside PUMA; Illinois\n",
      "Chicago City (South)--Auburn Gresham, Roseland, Chatham, Avalon Park & Burnside PUMA; Illinois\n",
      "Chicago City (South)--Auburn Gresham, Roseland, Chatham, Avalon Park & Burnside PUMA; Illinois\n",
      "Chicago City (South)--Auburn Gresham, Roseland, Chatham, Avalon Park & Burnside PUMA; Illinois\n",
      "Chicago City (South)--South Chicago, Pullman, West Pullman, East Side & South Deering PUMA; Illinois\n",
      "Chicago City (South)--South Chicago, Pullman, West Pullman, East Side & South Deering PUMA; Illinois\n",
      "Chicago City (South)--South Chicago, Pullman, West Pullman, East Side & South Deering PUMA; Illinois\n",
      "Chicago City (South)--South Chicago, Pullman, West Pullman, East Side & South Deering PUMA; Illinois\n",
      "Chicago City (South)--Auburn Gresham, Roseland, Chatham, Avalon Park & Burnside PUMA; Illinois\n",
      "Chicago City (South)--Auburn Gresham, Roseland, Chatham, Avalon Park & Burnside PUMA; Illinois\n",
      "Chicago City (South)--Auburn Gresham, Roseland, Chatham, Avalon Park & Burnside PUMA; Illinois\n",
      "Chicago City (South)--Auburn Gresham, Roseland, Chatham, Avalon Park & Burnside PUMA; Illinois\n",
      "Chicago City (South)--Auburn Gresham, Roseland, Chatham, Avalon Park & Burnside PUMA; Illinois\n",
      "Chicago City (South)--Auburn Gresham, Roseland, Chatham, Avalon Park & Burnside PUMA; Illinois\n",
      "Chicago City (South)--Auburn Gresham, Roseland, Chatham, Avalon Park & Burnside PUMA; Illinois\n",
      "Chicago City (South)--Auburn Gresham, Roseland, Chatham, Avalon Park & Burnside PUMA; Illinois\n",
      "Chicago City (South)--South Chicago, Pullman, West Pullman, East Side & South Deering PUMA; Illinois\n",
      "Chicago City (South)--South Chicago, Pullman, West Pullman, East Side & South Deering PUMA; Illinois\n",
      "Chicago City (South)--South Chicago, Pullman, West Pullman, East Side & South Deering PUMA; Illinois\n",
      "Chicago City (South)--South Chicago, Pullman, West Pullman, East Side & South Deering PUMA; Illinois\n",
      "Chicago City (South)--South Chicago, Pullman, West Pullman, East Side & South Deering PUMA; Illinois\n",
      "Chicago City (South)--South Chicago, Pullman, West Pullman, East Side & South Deering PUMA; Illinois\n",
      "Chicago City (South)--South Chicago, Pullman, West Pullman, East Side & South Deering PUMA; Illinois\n",
      "Chicago City (South)--South Chicago, Pullman, West Pullman, East Side & South Deering PUMA; Illinois\n",
      "Chicago City (South)--South Chicago, Pullman, West Pullman, East Side & South Deering PUMA; Illinois\n",
      "Chicago City (South)--South Chicago, Pullman, West Pullman, East Side & South Deering PUMA; Illinois\n",
      "Chicago City (South)--South Chicago, Pullman, West Pullman, East Side & South Deering PUMA; Illinois\n",
      "Chicago City (South)--South Chicago, Pullman, West Pullman, East Side & South Deering PUMA; Illinois\n",
      "Chicago City (South)--South Chicago, Pullman, West Pullman, East Side & South Deering PUMA; Illinois\n",
      "Chicago City (South)--South Chicago, Pullman, West Pullman, East Side & South Deering PUMA; Illinois\n",
      "Chicago City (South)--South Chicago, Pullman, West Pullman, East Side & South Deering PUMA; Illinois\n",
      "Chicago City (South)--South Chicago, Pullman, West Pullman, East Side & South Deering PUMA; Illinois\n",
      "Chicago City (Southwest)--Gage Park, Garfield Ridge & West Lawn PUMA; Illinois\n",
      "Chicago City (Southwest)--Gage Park, Garfield Ridge & West Lawn PUMA; Illinois\n",
      "Chicago City (Southwest)--Gage Park, Garfield Ridge & West Lawn PUMA; Illinois\n",
      "Chicago City (Southwest)--Gage Park, Garfield Ridge & West Lawn PUMA; Illinois\n",
      "Chicago City (Southwest)--Brighton Park, New City, Bridgeport & McKinley Park PUMA; Illinois\n",
      "Chicago City (Southwest)--Brighton Park, New City, Bridgeport & McKinley Park PUMA; Illinois\n",
      "Chicago City (Southwest)--Brighton Park, New City, Bridgeport & McKinley Park PUMA; Illinois\n",
      "Chicago City (Southwest)--Brighton Park, New City, Bridgeport & McKinley Park PUMA; Illinois\n",
      "Chicago City (Southwest)--Brighton Park, New City, Bridgeport & McKinley Park PUMA; Illinois\n",
      "Chicago City (Southwest)--Brighton Park, New City, Bridgeport & McKinley Park PUMA; Illinois\n",
      "Chicago City (Southwest)--Brighton Park, New City, Bridgeport & McKinley Park PUMA; Illinois\n",
      "Chicago City (Southwest)--Brighton Park, New City, Bridgeport & McKinley Park PUMA; Illinois\n",
      "Chicago City (Southwest)--Brighton Park, New City, Bridgeport & McKinley Park PUMA; Illinois\n",
      "Chicago City (Southwest)--Brighton Park, New City, Bridgeport & McKinley Park PUMA; Illinois\n",
      "Chicago City (Southwest)--Brighton Park, New City, Bridgeport & McKinley Park PUMA; Illinois\n",
      "Chicago City (Southwest)--Brighton Park, New City, Bridgeport & McKinley Park PUMA; Illinois\n",
      "Chicago City (Southwest)--Brighton Park, New City, Bridgeport & McKinley Park PUMA; Illinois\n",
      "Chicago City (Southwest)--Brighton Park, New City, Bridgeport & McKinley Park PUMA; Illinois\n",
      "Chicago City (Southwest)--Brighton Park, New City, Bridgeport & McKinley Park PUMA; Illinois\n",
      "Chicago City (Southwest)--Brighton Park, New City, Bridgeport & McKinley Park PUMA; Illinois\n",
      "Chicago City (Southwest)--Gage Park, Garfield Ridge & West Lawn PUMA; Illinois\n",
      "Chicago City (Southwest)--Gage Park, Garfield Ridge & West Lawn PUMA; Illinois\n",
      "Chicago City (Southwest)--Gage Park, Garfield Ridge & West Lawn PUMA; Illinois\n",
      "Chicago City (Southwest)--Gage Park, Garfield Ridge & West Lawn PUMA; Illinois\n",
      "Chicago City (Southwest)--Gage Park, Garfield Ridge & West Lawn PUMA; Illinois\n",
      "Chicago City (Southwest)--Gage Park, Garfield Ridge & West Lawn PUMA; Illinois\n",
      "Chicago City (Southwest)--Gage Park, Garfield Ridge & West Lawn PUMA; Illinois\n",
      "Chicago City (Southwest)--Gage Park, Garfield Ridge & West Lawn PUMA; Illinois\n",
      "Chicago City (South)--Chicago Lawn, Englewood/West Englewood & Greater Grand Crossing PUMA; Illinois\n",
      "Chicago City (South)--Chicago Lawn, Englewood/West Englewood & Greater Grand Crossing PUMA; Illinois\n",
      "Chicago City (South)--Chicago Lawn, Englewood/West Englewood & Greater Grand Crossing PUMA; Illinois\n",
      "Chicago City (South)--Chicago Lawn, Englewood/West Englewood & Greater Grand Crossing PUMA; Illinois\n",
      "Chicago City (South)--Chicago Lawn, Englewood/West Englewood & Greater Grand Crossing PUMA; Illinois\n",
      "Chicago City (South)--Chicago Lawn, Englewood/West Englewood & Greater Grand Crossing PUMA; Illinois\n",
      "Chicago City (South)--Chicago Lawn, Englewood/West Englewood & Greater Grand Crossing PUMA; Illinois\n",
      "Chicago City (South)--Chicago Lawn, Englewood/West Englewood & Greater Grand Crossing PUMA; Illinois\n",
      "Chicago City (South)--Chicago Lawn, Englewood/West Englewood & Greater Grand Crossing PUMA; Illinois\n",
      "Chicago City (South)--Chicago Lawn, Englewood/West Englewood & Greater Grand Crossing PUMA; Illinois\n",
      "Chicago City (South)--Chicago Lawn, Englewood/West Englewood & Greater Grand Crossing PUMA; Illinois\n",
      "Chicago City (South)--Chicago Lawn, Englewood/West Englewood & Greater Grand Crossing PUMA; Illinois\n",
      "Chicago City (South)--Chicago Lawn, Englewood/West Englewood & Greater Grand Crossing PUMA; Illinois\n",
      "Chicago City (South)--Chicago Lawn, Englewood/West Englewood & Greater Grand Crossing PUMA; Illinois\n",
      "Chicago City (South)--Chicago Lawn, Englewood/West Englewood & Greater Grand Crossing PUMA; Illinois\n",
      "Chicago City (South)--Chicago Lawn, Englewood/West Englewood & Greater Grand Crossing PUMA; Illinois\n",
      "Chicago City (South)--Ashburn, Washington Heights, Morgan Park & Beverly PUMA; Illinois\n",
      "Chicago City (South)--Ashburn, Washington Heights, Morgan Park & Beverly PUMA; Illinois\n",
      "Chicago City (South)--Ashburn, Washington Heights, Morgan Park & Beverly PUMA; Illinois\n",
      "Chicago City (South)--Ashburn, Washington Heights, Morgan Park & Beverly PUMA; Illinois\n"
     ]
    },
    {
     "name": "stdout",
     "output_type": "stream",
     "text": [
      "Chicago City (South)--Auburn Gresham, Roseland, Chatham, Avalon Park & Burnside PUMA; Illinois\n",
      "Chicago City (South)--Auburn Gresham, Roseland, Chatham, Avalon Park & Burnside PUMA; Illinois\n",
      "Chicago City (South)--Auburn Gresham, Roseland, Chatham, Avalon Park & Burnside PUMA; Illinois\n",
      "Chicago City (South)--Auburn Gresham, Roseland, Chatham, Avalon Park & Burnside PUMA; Illinois\n",
      "Chicago City (South)--Ashburn, Washington Heights, Morgan Park & Beverly PUMA; Illinois\n",
      "Chicago City (South)--Ashburn, Washington Heights, Morgan Park & Beverly PUMA; Illinois\n",
      "Chicago City (South)--Ashburn, Washington Heights, Morgan Park & Beverly PUMA; Illinois\n",
      "Chicago City (South)--Ashburn, Washington Heights, Morgan Park & Beverly PUMA; Illinois\n",
      "Chicago City (South)--Ashburn, Washington Heights, Morgan Park & Beverly PUMA; Illinois\n",
      "Chicago City (South)--Ashburn, Washington Heights, Morgan Park & Beverly PUMA; Illinois\n",
      "Chicago City (South)--Ashburn, Washington Heights, Morgan Park & Beverly PUMA; Illinois\n",
      "Chicago City (South)--Ashburn, Washington Heights, Morgan Park & Beverly PUMA; Illinois\n",
      "Chicago City (South)--Ashburn, Washington Heights, Morgan Park & Beverly PUMA; Illinois\n",
      "Chicago City (South)--Ashburn, Washington Heights, Morgan Park & Beverly PUMA; Illinois\n",
      "Chicago City (South)--Ashburn, Washington Heights, Morgan Park & Beverly PUMA; Illinois\n",
      "Chicago City (South)--Ashburn, Washington Heights, Morgan Park & Beverly PUMA; Illinois\n",
      "Cook County (West)--Leyden, Norwood Park (South) Townships & Chicago City--O'Hare PUMA; Illinois\n",
      "Cook County (West)--Leyden, Norwood Park (South) Townships & Chicago City--O'Hare PUMA; Illinois\n",
      "Cook County (West)--Leyden, Norwood Park (South) Townships & Chicago City--O'Hare PUMA; Illinois\n",
      "Cook County (West)--Leyden, Norwood Park (South) Townships & Chicago City--O'Hare PUMA; Illinois\n",
      "Chicago City (North)--Edgewater, Uptown & Rogers Park PUMA; Illinois\n",
      "Chicago City (North)--Edgewater, Uptown & Rogers Park PUMA; Illinois\n",
      "Chicago City (North)--Edgewater, Uptown & Rogers Park PUMA; Illinois\n",
      "Chicago City (North)--Edgewater, Uptown & Rogers Park PUMA; Illinois\n"
     ]
    }
   ],
   "source": [
    "#trying different loop\n",
    "#had trouble trying to add to empty dataframe using .loc, changed to two empty series and worked much better\n",
    "for area in community_series:\n",
    "    for index, row in illinois_population.iterrows():\n",
    "        if area in row[\"Name\"]:\n",
    "            print(row[\"Name\"])\n",
    "            community_match_1.append(area)\n",
    "            community_match_2.append(row[\"Name\"])\n",
    "            "
   ]
  },
  {
   "cell_type": "code",
   "execution_count": 13,
   "metadata": {},
   "outputs": [
    {
     "data": {
      "text/plain": [
       "260"
      ]
     },
     "execution_count": 13,
     "metadata": {},
     "output_type": "execute_result"
    }
   ],
   "source": [
    "len(community_match_2)"
   ]
  },
  {
   "cell_type": "code",
   "execution_count": 14,
   "metadata": {},
   "outputs": [
    {
     "data": {
      "text/html": [
       "<div>\n",
       "<style scoped>\n",
       "    .dataframe tbody tr th:only-of-type {\n",
       "        vertical-align: middle;\n",
       "    }\n",
       "\n",
       "    .dataframe tbody tr th {\n",
       "        vertical-align: top;\n",
       "    }\n",
       "\n",
       "    .dataframe thead th {\n",
       "        text-align: right;\n",
       "    }\n",
       "</style>\n",
       "<table border=\"1\" class=\"dataframe\">\n",
       "  <thead>\n",
       "    <tr style=\"text-align: right;\">\n",
       "      <th></th>\n",
       "      <th>Community</th>\n",
       "      <th>Public Use Area</th>\n",
       "    </tr>\n",
       "  </thead>\n",
       "  <tbody>\n",
       "    <tr>\n",
       "      <th>0</th>\n",
       "      <td>Rogers Park</td>\n",
       "      <td>Chicago City (North)--Edgewater, Uptown &amp; Roge...</td>\n",
       "    </tr>\n",
       "    <tr>\n",
       "      <th>1</th>\n",
       "      <td>Rogers Park</td>\n",
       "      <td>Chicago City (North)--Edgewater, Uptown &amp; Roge...</td>\n",
       "    </tr>\n",
       "    <tr>\n",
       "      <th>2</th>\n",
       "      <td>Rogers Park</td>\n",
       "      <td>Chicago City (North)--Edgewater, Uptown &amp; Roge...</td>\n",
       "    </tr>\n",
       "    <tr>\n",
       "      <th>3</th>\n",
       "      <td>Rogers Park</td>\n",
       "      <td>Chicago City (North)--Edgewater, Uptown &amp; Roge...</td>\n",
       "    </tr>\n",
       "    <tr>\n",
       "      <th>4</th>\n",
       "      <td>West Ridge</td>\n",
       "      <td>Chicago City (North)--West Ridge, Lincoln Squa...</td>\n",
       "    </tr>\n",
       "  </tbody>\n",
       "</table>\n",
       "</div>"
      ],
      "text/plain": [
       "     Community                                    Public Use Area\n",
       "0  Rogers Park  Chicago City (North)--Edgewater, Uptown & Roge...\n",
       "1  Rogers Park  Chicago City (North)--Edgewater, Uptown & Roge...\n",
       "2  Rogers Park  Chicago City (North)--Edgewater, Uptown & Roge...\n",
       "3  Rogers Park  Chicago City (North)--Edgewater, Uptown & Roge...\n",
       "4   West Ridge  Chicago City (North)--West Ridge, Lincoln Squa..."
      ]
     },
     "execution_count": 14,
     "metadata": {},
     "output_type": "execute_result"
    }
   ],
   "source": [
    "community_match_df=pd.DataFrame({\"Community\":community_match_1, \"Public Use Area\":community_match_2})\n",
    "community_match_df.head()"
   ]
  },
  {
   "cell_type": "code",
   "execution_count": 18,
   "metadata": {},
   "outputs": [
    {
     "data": {
      "text/plain": [
       "Community          63\n",
       "Public Use Area    20\n",
       "dtype: int64"
      ]
     },
     "execution_count": 18,
     "metadata": {},
     "output_type": "execute_result"
    }
   ],
   "source": [
    "#iterrows is counting every index,row pair in searching\n",
    "community_match_df.nunique()"
   ]
  },
  {
   "cell_type": "code",
   "execution_count": 19,
   "metadata": {},
   "outputs": [],
   "source": [
    "#get rid of duplicate rows\n",
    "community_match_1 = community_match_df.drop_duplicates()"
   ]
  },
  {
   "cell_type": "code",
   "execution_count": 20,
   "metadata": {},
   "outputs": [
    {
     "data": {
      "text/plain": [
       "Community          65\n",
       "Public Use Area    65\n",
       "dtype: int64"
      ]
     },
     "execution_count": 20,
     "metadata": {},
     "output_type": "execute_result"
    }
   ],
   "source": [
    "community_match_1.count()"
   ]
  },
  {
   "cell_type": "code",
   "execution_count": 21,
   "metadata": {},
   "outputs": [
    {
     "data": {
      "text/plain": [
       "Index(['Community', 'Community \\nNumber', 'Public Use Area'], dtype='object')"
      ]
     },
     "execution_count": 21,
     "metadata": {},
     "output_type": "execute_result"
    }
   ],
   "source": [
    "#combine found areas to community area list to see what we missed\n",
    "community_area_1 = pd.merge(community_areas, community_match_1, on=\"Community\", how=\"left\")\n",
    "community_area_1.keys()\n"
   ]
  },
  {
   "cell_type": "code",
   "execution_count": 25,
   "metadata": {},
   "outputs": [
    {
     "data": {
      "text/html": [
       "<div>\n",
       "<style scoped>\n",
       "    .dataframe tbody tr th:only-of-type {\n",
       "        vertical-align: middle;\n",
       "    }\n",
       "\n",
       "    .dataframe tbody tr th {\n",
       "        vertical-align: top;\n",
       "    }\n",
       "\n",
       "    .dataframe thead th {\n",
       "        text-align: right;\n",
       "    }\n",
       "</style>\n",
       "<table border=\"1\" class=\"dataframe\">\n",
       "  <thead>\n",
       "    <tr style=\"text-align: right;\">\n",
       "      <th></th>\n",
       "      <th>Community</th>\n",
       "      <th>Community \n",
       "Number</th>\n",
       "      <th>Public Use Area</th>\n",
       "    </tr>\n",
       "  </thead>\n",
       "  <tbody>\n",
       "    <tr>\n",
       "      <th>0</th>\n",
       "      <td>Rogers Park</td>\n",
       "      <td>1.0</td>\n",
       "      <td>Chicago City (North)--Edgewater, Uptown &amp; Roge...</td>\n",
       "    </tr>\n",
       "    <tr>\n",
       "      <th>1</th>\n",
       "      <td>West Ridge</td>\n",
       "      <td>2.0</td>\n",
       "      <td>Chicago City (North)--West Ridge, Lincoln Squa...</td>\n",
       "    </tr>\n",
       "    <tr>\n",
       "      <th>2</th>\n",
       "      <td>Uptown</td>\n",
       "      <td>3.0</td>\n",
       "      <td>Chicago City (North)--Edgewater, Uptown &amp; Roge...</td>\n",
       "    </tr>\n",
       "    <tr>\n",
       "      <th>3</th>\n",
       "      <td>Lincoln Square</td>\n",
       "      <td>4.0</td>\n",
       "      <td>Chicago City (North)--West Ridge, Lincoln Squa...</td>\n",
       "    </tr>\n",
       "    <tr>\n",
       "      <th>4</th>\n",
       "      <td>North Center</td>\n",
       "      <td>5.0</td>\n",
       "      <td>Chicago City (North)--West Ridge, Lincoln Squa...</td>\n",
       "    </tr>\n",
       "  </tbody>\n",
       "</table>\n",
       "</div>"
      ],
      "text/plain": [
       "        Community  Community \\nNumber  \\\n",
       "0     Rogers Park                 1.0   \n",
       "1      West Ridge                 2.0   \n",
       "2          Uptown                 3.0   \n",
       "3  Lincoln Square                 4.0   \n",
       "4    North Center                 5.0   \n",
       "\n",
       "                                     Public Use Area  \n",
       "0  Chicago City (North)--Edgewater, Uptown & Roge...  \n",
       "1  Chicago City (North)--West Ridge, Lincoln Squa...  \n",
       "2  Chicago City (North)--Edgewater, Uptown & Roge...  \n",
       "3  Chicago City (North)--West Ridge, Lincoln Squa...  \n",
       "4  Chicago City (North)--West Ridge, Lincoln Squa...  "
      ]
     },
     "execution_count": 25,
     "metadata": {},
     "output_type": "execute_result"
    }
   ],
   "source": [
    "community_area_1.head()"
   ]
  },
  {
   "cell_type": "code",
   "execution_count": 31,
   "metadata": {},
   "outputs": [
    {
     "data": {
      "text/plain": [
       "Englewood                 1\n",
       "East Garfield Park        1\n",
       "New City                  1\n",
       "Brighton Park             1\n",
       "Grand Boulevard           1\n",
       "Pullman                   1\n",
       "Woodlawn                  1\n",
       "Near West Side            1\n",
       "Humboldt Park             1\n",
       "McKinley Park             1\n",
       "Armour Square             1\n",
       "West Englewood            1\n",
       "South Deering             1\n",
       "North Lawndale            1\n",
       "Calumet Heights           1\n",
       "Edgewater                 1\n",
       "Riverdale                 1\n",
       "Fuller Park               1\n",
       "Lincoln Square            1\n",
       "West Pullman              1\n",
       "Hegewisch                 1\n",
       "Avondale                  1\n",
       "Rogers Park               1\n",
       "West Ridge                1\n",
       "Montclare                 1\n",
       "Lower West Side           1\n",
       "West Garfield Park        1\n",
       "Clearing                  1\n",
       "Dunning                   1\n",
       "Washington Heights        1\n",
       "                         ..\n",
       "Avalon Park               1\n",
       "Austin                    1\n",
       "Burnside                  1\n",
       "Bridgeport                1\n",
       "Uptown                    1\n",
       "South Shore               1\n",
       "Greater Grand Crossing    1\n",
       "Irving Park               1\n",
       "Forest Glen               1\n",
       "Mount Greenwood           1\n",
       "Loop                      1\n",
       "Hermosa                   1\n",
       "East Side                 1\n",
       "Beverly                   1\n",
       "Washington Park           1\n",
       "Roseland                  1\n",
       "West Lawn                 1\n",
       "Portage Park              1\n",
       "Near North Side           1\n",
       "Belmont Cragin            1\n",
       "Oakland                   1\n",
       "Near South Side           1\n",
       "Jefferson Park            1\n",
       "O'Hare                    1\n",
       "Chicago Lawn              1\n",
       "West Town                 1\n",
       "Lincoln Park              1\n",
       "Chatham                   1\n",
       "Auburn Gresham            1\n",
       "Norwood Park              1\n",
       "Name: Community, Length: 77, dtype: int64"
      ]
     },
     "execution_count": 31,
     "metadata": {},
     "output_type": "execute_result"
    }
   ],
   "source": [
    "#count number of community areas\n",
    "community_area_1[\"Community\"].value_counts()"
   ]
  },
  {
   "cell_type": "code",
   "execution_count": 28,
   "metadata": {},
   "outputs": [],
   "source": [
    "#Douglas has 2 entries index 36 incorrect\n",
    "community_area_1.loc[35,:]\n",
    "community_area_1 = community_area_1.drop([35])\n"
   ]
  },
  {
   "cell_type": "code",
   "execution_count": 29,
   "metadata": {},
   "outputs": [],
   "source": [
    "#Norwood Park has 2 entries index 10 incorrect\n",
    "community_area_1.loc[10,:]\n",
    "community_area_1 = community_area_1.drop([10])"
   ]
  },
  {
   "cell_type": "code",
   "execution_count": 30,
   "metadata": {},
   "outputs": [
    {
     "data": {
      "text/plain": [
       "Englewood                 1\n",
       "East Garfield Park        1\n",
       "New City                  1\n",
       "Brighton Park             1\n",
       "Grand Boulevard           1\n",
       "Pullman                   1\n",
       "Woodlawn                  1\n",
       "Near West Side            1\n",
       "Humboldt Park             1\n",
       "McKinley Park             1\n",
       "Armour Square             1\n",
       "West Englewood            1\n",
       "South Deering             1\n",
       "North Lawndale            1\n",
       "Calumet Heights           1\n",
       "Edgewater                 1\n",
       "Riverdale                 1\n",
       "Fuller Park               1\n",
       "Lincoln Square            1\n",
       "West Pullman              1\n",
       "Hegewisch                 1\n",
       "Avondale                  1\n",
       "Rogers Park               1\n",
       "West Ridge                1\n",
       "Montclare                 1\n",
       "Lower West Side           1\n",
       "West Garfield Park        1\n",
       "Clearing                  1\n",
       "Dunning                   1\n",
       "Washington Heights        1\n",
       "                         ..\n",
       "Avalon Park               1\n",
       "Austin                    1\n",
       "Burnside                  1\n",
       "Bridgeport                1\n",
       "Uptown                    1\n",
       "South Shore               1\n",
       "Greater Grand Crossing    1\n",
       "Irving Park               1\n",
       "Forest Glen               1\n",
       "Mount Greenwood           1\n",
       "Loop                      1\n",
       "Hermosa                   1\n",
       "East Side                 1\n",
       "Beverly                   1\n",
       "Washington Park           1\n",
       "Roseland                  1\n",
       "West Lawn                 1\n",
       "Portage Park              1\n",
       "Near North Side           1\n",
       "Belmont Cragin            1\n",
       "Oakland                   1\n",
       "Near South Side           1\n",
       "Jefferson Park            1\n",
       "O'Hare                    1\n",
       "Chicago Lawn              1\n",
       "West Town                 1\n",
       "Lincoln Park              1\n",
       "Chatham                   1\n",
       "Auburn Gresham            1\n",
       "Norwood Park              1\n",
       "Name: Community, Length: 77, dtype: int64"
      ]
     },
     "execution_count": 30,
     "metadata": {},
     "output_type": "execute_result"
    }
   ],
   "source": [
    "#count new dataframe\n",
    "community_area_1[\"Community\"].value_counts()"
   ]
  },
  {
   "cell_type": "code",
   "execution_count": 35,
   "metadata": {},
   "outputs": [],
   "source": [
    "#two areas are represented by text west&east, north&south\n",
    "#east garfield park matches with the community area in the row above (west garfield park)\n",
    "community_area_1.loc[27,:]\n",
    "community_area_1.at[27,'Public Use Area'] = community_area_1.at[26,'Public Use Area']"
   ]
  },
  {
   "cell_type": "code",
   "execution_count": 38,
   "metadata": {},
   "outputs": [
    {
     "data": {
      "text/plain": [
       "Community                                            East Garfield Park\n",
       "Community \\nNumber                                                   27\n",
       "Public Use Area       Chicago City (West)--North & South Lawndale, H...\n",
       "Name: 27, dtype: object"
      ]
     },
     "execution_count": 38,
     "metadata": {},
     "output_type": "execute_result"
    }
   ],
   "source": [
    "#double check both rows to make sure correct (switch between .loc[26,:] and .loc[27,:])\n",
    "community_area_1.loc[27,:]"
   ]
  },
  {
   "cell_type": "code",
   "execution_count": 41,
   "metadata": {},
   "outputs": [],
   "source": [
    "#North Lawndale and South Lawndale same issue\n",
    "community_area_1.loc[29,:]\n",
    "community_area_1.at[29,'Public Use Area'] = community_area_1.at[30,'Public Use Area']\n"
   ]
  },
  {
   "cell_type": "code",
   "execution_count": 43,
   "metadata": {},
   "outputs": [
    {
     "data": {
      "text/plain": [
       "Community                                                North Lawndale\n",
       "Community \\nNumber                                                   29\n",
       "Public Use Area       Chicago City (West)--North & South Lawndale, H...\n",
       "Name: 29, dtype: object"
      ]
     },
     "execution_count": 43,
     "metadata": {},
     "output_type": "execute_result"
    }
   ],
   "source": [
    "#double check both rows to make sure correct (switch between .loc[29,:] and .loc[30,:])\n",
    "community_area_1.loc[29,:]"
   ]
  },
  {
   "cell_type": "code",
   "execution_count": 44,
   "metadata": {},
   "outputs": [],
   "source": [
    "#csv\n",
    "community_area_1.to_csv(\"community_area_to_census.csv\")"
   ]
  },
  {
   "cell_type": "code",
   "execution_count": null,
   "metadata": {},
   "outputs": [],
   "source": []
  }
 ],
 "metadata": {
  "kernelspec": {
   "display_name": "Python 3",
   "language": "python",
   "name": "python3"
  },
  "language_info": {
   "codemirror_mode": {
    "name": "ipython",
    "version": 3
   },
   "file_extension": ".py",
   "mimetype": "text/x-python",
   "name": "python",
   "nbconvert_exporter": "python",
   "pygments_lexer": "ipython3",
   "version": "3.6.6"
  }
 },
 "nbformat": 4,
 "nbformat_minor": 2
}
