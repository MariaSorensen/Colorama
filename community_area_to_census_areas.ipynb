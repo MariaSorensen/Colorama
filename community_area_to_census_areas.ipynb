{
 "cells": [
  {
   "cell_type": "code",
   "execution_count": 1,
   "metadata": {},
   "outputs": [],
   "source": [
    "import pandas as pd\n",
    "import numpy as np"
   ]
  },
  {
   "cell_type": "code",
   "execution_count": 2,
   "metadata": {},
   "outputs": [],
   "source": [
    "#csv files\n",
    "community_areas = pd.read_csv(\"Community_area_list.csv\")\n",
    "illinois_population = pd.read_csv(\"Illinois_Population.csv\")"
   ]
  },
  {
   "cell_type": "code",
   "execution_count": 3,
   "metadata": {},
   "outputs": [
    {
     "data": {
      "text/html": [
       "<div>\n",
       "<style scoped>\n",
       "    .dataframe tbody tr th:only-of-type {\n",
       "        vertical-align: middle;\n",
       "    }\n",
       "\n",
       "    .dataframe tbody tr th {\n",
       "        vertical-align: top;\n",
       "    }\n",
       "\n",
       "    .dataframe thead th {\n",
       "        text-align: right;\n",
       "    }\n",
       "</style>\n",
       "<table border=\"1\" class=\"dataframe\">\n",
       "  <thead>\n",
       "    <tr style=\"text-align: right;\">\n",
       "      <th></th>\n",
       "      <th>Name</th>\n",
       "      <th>2012</th>\n",
       "      <th>2013</th>\n",
       "      <th>2014</th>\n",
       "      <th>2015</th>\n",
       "    </tr>\n",
       "  </thead>\n",
       "  <tbody>\n",
       "    <tr>\n",
       "      <th>0</th>\n",
       "      <td>Adams, Pike, Brown, Schuyler &amp; Mason Counties ...</td>\n",
       "      <td>112582</td>\n",
       "      <td>112391</td>\n",
       "      <td>111998</td>\n",
       "      <td>111521</td>\n",
       "    </tr>\n",
       "    <tr>\n",
       "      <th>1</th>\n",
       "      <td>Cass, Morgan, Scott, Greene, Macoupin, Jersey ...</td>\n",
       "      <td>143980</td>\n",
       "      <td>143394</td>\n",
       "      <td>142662</td>\n",
       "      <td>141551</td>\n",
       "    </tr>\n",
       "    <tr>\n",
       "      <th>2</th>\n",
       "      <td>Champaign County--Champaign &amp; Urbana Cities PU...</td>\n",
       "      <td>200931</td>\n",
       "      <td>202428</td>\n",
       "      <td>204214</td>\n",
       "      <td>205766</td>\n",
       "    </tr>\n",
       "    <tr>\n",
       "      <th>3</th>\n",
       "      <td>Chicago City (Central)--Near North Side, Loop ...</td>\n",
       "      <td>127124</td>\n",
       "      <td>132871</td>\n",
       "      <td>136968</td>\n",
       "      <td>141554</td>\n",
       "    </tr>\n",
       "    <tr>\n",
       "      <th>4</th>\n",
       "      <td>Chicago City (North)--Edgewater, Uptown &amp; Roge...</td>\n",
       "      <td>167887</td>\n",
       "      <td>167162</td>\n",
       "      <td>164391</td>\n",
       "      <td>164412</td>\n",
       "    </tr>\n",
       "  </tbody>\n",
       "</table>\n",
       "</div>"
      ],
      "text/plain": [
       "                                                Name    2012    2013    2014  \\\n",
       "0  Adams, Pike, Brown, Schuyler & Mason Counties ...  112582  112391  111998   \n",
       "1  Cass, Morgan, Scott, Greene, Macoupin, Jersey ...  143980  143394  142662   \n",
       "2  Champaign County--Champaign & Urbana Cities PU...  200931  202428  204214   \n",
       "3  Chicago City (Central)--Near North Side, Loop ...  127124  132871  136968   \n",
       "4  Chicago City (North)--Edgewater, Uptown & Roge...  167887  167162  164391   \n",
       "\n",
       "     2015  \n",
       "0  111521  \n",
       "1  141551  \n",
       "2  205766  \n",
       "3  141554  \n",
       "4  164412  "
      ]
     },
     "execution_count": 3,
     "metadata": {},
     "output_type": "execute_result"
    }
   ],
   "source": [
    "illinois_population.head()"
   ]
  },
  {
   "cell_type": "code",
   "execution_count": 4,
   "metadata": {},
   "outputs": [
    {
     "data": {
      "text/plain": [
       "dtype('O')"
      ]
     },
     "execution_count": 4,
     "metadata": {},
     "output_type": "execute_result"
    }
   ],
   "source": [
    "#pull only Name column\n",
    "public_use_list = illinois_population[\"Name\"]\n",
    "public_use_list = public_use_list.astype(str)\n",
    "public_use_list.dtypes"
   ]
  },
  {
   "cell_type": "code",
   "execution_count": 5,
   "metadata": {},
   "outputs": [],
   "source": [
    "#replace ; with ,\n",
    "public_use_2 = public_use_list.str.replace(';',\",\")"
   ]
  },
  {
   "cell_type": "code",
   "execution_count": 6,
   "metadata": {},
   "outputs": [],
   "source": [
    "#replace -- with ,\n",
    "public_use_3 = public_use_2.str.replace('--',\",\")"
   ]
  },
  {
   "cell_type": "code",
   "execution_count": 55,
   "metadata": {},
   "outputs": [
    {
     "data": {
      "text/plain": [
       "88"
      ]
     },
     "execution_count": 55,
     "metadata": {},
     "output_type": "execute_result"
    }
   ],
   "source": [
    "#replace & with ,\n",
    "public_use_4 = public_use_3.str.replace('&',\",\")\n",
    "len(public_use_4)"
   ]
  },
  {
   "cell_type": "code",
   "execution_count": 8,
   "metadata": {},
   "outputs": [
    {
     "data": {
      "text/plain": [
       "Community             77\n",
       "Community \\nNumber    77\n",
       "dtype: int64"
      ]
     },
     "execution_count": 8,
     "metadata": {},
     "output_type": "execute_result"
    }
   ],
   "source": [
    "#search dataframe for community area names\n",
    "#chicago areas double-check, remove extra values\n",
    "community_areas = community_areas.dropna()\n",
    "community_areas.count()"
   ]
  },
  {
   "cell_type": "code",
   "execution_count": 72,
   "metadata": {},
   "outputs": [
    {
     "data": {
      "text/plain": [
       "0                Rogers Park\n",
       "1                 West Ridge\n",
       "2                     Uptown\n",
       "3             Lincoln Square\n",
       "4               North Center\n",
       "5                  Lake View\n",
       "6               Lincoln Park\n",
       "7            Near North Side\n",
       "8                Edison Park\n",
       "9               Norwood Park\n",
       "10            Jefferson Park\n",
       "11               Forest Glen\n",
       "12                North Park\n",
       "13               Albany Park\n",
       "14              Portage Park\n",
       "15               Irving Park\n",
       "16                   Dunning\n",
       "17                 Montclare\n",
       "18            Belmont Cragin\n",
       "19                   Hermosa\n",
       "20                  Avondale\n",
       "21              Logan Square\n",
       "22             Humboldt Park\n",
       "23                 West Town\n",
       "24                    Austin\n",
       "25        West Garfield Park\n",
       "26        East Garfield Park\n",
       "27            Near West Side\n",
       "28            North Lawndale\n",
       "29            South Lawndale\n",
       "               ...          \n",
       "47           Calumet Heights\n",
       "48                  Roseland\n",
       "49                   Pullman\n",
       "50             South Deering\n",
       "51                 East Side\n",
       "52              West Pullman\n",
       "53                 Riverdale\n",
       "54                 Hegewisch\n",
       "55            Garfield Ridge\n",
       "56            Archer Heights\n",
       "57             Brighton Park\n",
       "58             McKinley Park\n",
       "59                Bridgeport\n",
       "60                  New City\n",
       "61               West Elsdon\n",
       "62                 Gage Park\n",
       "63                  Clearing\n",
       "64                 West Lawn\n",
       "65              Chicago Lawn\n",
       "66            West Englewood\n",
       "67                 Englewood\n",
       "68    Greater Grand Crossing\n",
       "69                   Ashburn\n",
       "70            Auburn Gresham\n",
       "71                   Beverly\n",
       "72        Washington Heights\n",
       "73           Mount Greenwood\n",
       "74               Morgan Park\n",
       "75                    O'Hare\n",
       "76                 Edgewater\n",
       "Name: Community, Length: 77, dtype: object"
      ]
     },
     "execution_count": 72,
     "metadata": {},
     "output_type": "execute_result"
    }
   ],
   "source": [
    "#make series\n",
    "community_series = community_areas[\"Community\"]\n",
    "community_series = community_series.astype(str)\n",
    "community_series"
   ]
  },
  {
   "cell_type": "code",
   "execution_count": 80,
   "metadata": {},
   "outputs": [],
   "source": [
    "#make two empty series\n",
    "community_match_1=[]\n",
    "community_match_2=[]"
   ]
  },
  {
   "cell_type": "code",
   "execution_count": 81,
   "metadata": {},
   "outputs": [
    {
     "name": "stdout",
     "output_type": "stream",
     "text": [
      "Chicago City (North)--Edgewater, Uptown & Rogers Park PUMA; Illinois\n",
      "Chicago City (North)--West Ridge, Lincoln Square & North Center PUMA; Illinois\n",
      "Chicago City (North)--Edgewater, Uptown & Rogers Park PUMA; Illinois\n",
      "Chicago City (North)--West Ridge, Lincoln Square & North Center PUMA; Illinois\n",
      "Chicago City (North)--West Ridge, Lincoln Square & North Center PUMA; Illinois\n",
      "Chicago City (North)--Lake View & Lincoln Park PUMA, Illinois\n",
      "Chicago City (North)--Lake View & Lincoln Park PUMA, Illinois\n",
      "Chicago City (Central)--Near North Side, Loop & Near South Side PUMA; Illinois\n",
      "Cook County (North)--Maine, Norwood Park Townships & Chicago City--Edison Park PUMA; Illinois\n",
      "Cook County (North)--Maine, Norwood Park Townships & Chicago City--Edison Park PUMA; Illinois\n",
      "Cook County (West)--Leyden, Norwood Park (South) Townships & Chicago City--O'Hare PUMA; Illinois\n",
      "Chicago City (Northwest)--Portage Park, Dunning & Jefferson Park PUMA; Illinois\n",
      "Chicago City (Northwest)--Irving Park, Albany Park, Forest Glen & North Park PUMA; Illinois\n",
      "Chicago City (Northwest)--Irving Park, Albany Park, Forest Glen & North Park PUMA; Illinois\n",
      "Chicago City (Northwest)--Irving Park, Albany Park, Forest Glen & North Park PUMA; Illinois\n",
      "Chicago City (Northwest)--Portage Park, Dunning & Jefferson Park PUMA; Illinois\n",
      "Chicago City (Northwest)--Irving Park, Albany Park, Forest Glen & North Park PUMA; Illinois\n",
      "Chicago City (Northwest)--Portage Park, Dunning & Jefferson Park PUMA; Illinois\n",
      "Chicago City (West)--Austin, Belmont Cragin & Montclare PUMA; Illinois\n",
      "Chicago City (West)--Austin, Belmont Cragin & Montclare PUMA; Illinois\n",
      "Chicago City (Northwest)--Logan Square, Avondale & Hermosa PUMA; Illinois\n",
      "Chicago City (Northwest)--Logan Square, Avondale & Hermosa PUMA; Illinois\n",
      "Chicago City (Northwest)--Logan Square, Avondale & Hermosa PUMA; Illinois\n",
      "Chicago City (West)--North & South Lawndale, Humboldt Park, East & West Garfield Park PUMA; Illinois\n",
      "Chicago City (West)--West Town, Near West Side & Lower West Side PUMA; Illinois\n",
      "Chicago City (West)--Austin, Belmont Cragin & Montclare PUMA; Illinois\n",
      "Chicago City (West)--North & South Lawndale, Humboldt Park, East & West Garfield Park PUMA; Illinois\n",
      "Chicago City (West)--West Town, Near West Side & Lower West Side PUMA; Illinois\n",
      "Chicago City (West)--North & South Lawndale, Humboldt Park, East & West Garfield Park PUMA; Illinois\n",
      "Chicago City (West)--West Town, Near West Side & Lower West Side PUMA; Illinois\n",
      "Chicago City (Central)--Near North Side, Loop & Near South Side PUMA; Illinois\n",
      "Chicago City (Central)--Near North Side, Loop & Near South Side PUMA; Illinois\n",
      "Chicago City (South)--South Shore, Hyde Park, Woodlawn, Grand Boulevard & Douglas PUMA; Illinois\n",
      "Douglas, Edgar, Coles & Cumberland Counties PUMA; Illinois\n",
      "Chicago City (South)--South Shore, Hyde Park, Woodlawn, Grand Boulevard & Douglas PUMA; Illinois\n",
      "Chicago City (South)--South Shore, Hyde Park, Woodlawn, Grand Boulevard & Douglas PUMA; Illinois\n",
      "Chicago City (South)--South Shore, Hyde Park, Woodlawn, Grand Boulevard & Douglas PUMA; Illinois\n",
      "Chicago City (South)--South Shore, Hyde Park, Woodlawn, Grand Boulevard & Douglas PUMA; Illinois\n",
      "Chicago City (South)--Auburn Gresham, Roseland, Chatham, Avalon Park & Burnside PUMA; Illinois\n",
      "Chicago City (South)--Auburn Gresham, Roseland, Chatham, Avalon Park & Burnside PUMA; Illinois\n",
      "Chicago City (South)--South Chicago, Pullman, West Pullman, East Side & South Deering PUMA; Illinois\n",
      "Chicago City (South)--Auburn Gresham, Roseland, Chatham, Avalon Park & Burnside PUMA; Illinois\n",
      "Chicago City (South)--Auburn Gresham, Roseland, Chatham, Avalon Park & Burnside PUMA; Illinois\n",
      "Chicago City (South)--South Chicago, Pullman, West Pullman, East Side & South Deering PUMA; Illinois\n",
      "Chicago City (South)--South Chicago, Pullman, West Pullman, East Side & South Deering PUMA; Illinois\n",
      "Chicago City (South)--South Chicago, Pullman, West Pullman, East Side & South Deering PUMA; Illinois\n",
      "Chicago City (South)--South Chicago, Pullman, West Pullman, East Side & South Deering PUMA; Illinois\n",
      "Chicago City (Southwest)--Gage Park, Garfield Ridge & West Lawn PUMA; Illinois\n",
      "Chicago City (Southwest)--Brighton Park, New City, Bridgeport & McKinley Park PUMA; Illinois\n",
      "Chicago City (Southwest)--Brighton Park, New City, Bridgeport & McKinley Park PUMA; Illinois\n",
      "Chicago City (Southwest)--Brighton Park, New City, Bridgeport & McKinley Park PUMA; Illinois\n",
      "Chicago City (Southwest)--Brighton Park, New City, Bridgeport & McKinley Park PUMA; Illinois\n",
      "Chicago City (Southwest)--Gage Park, Garfield Ridge & West Lawn PUMA; Illinois\n",
      "Chicago City (Southwest)--Gage Park, Garfield Ridge & West Lawn PUMA; Illinois\n",
      "Chicago City (South)--Chicago Lawn, Englewood/West Englewood & Greater Grand Crossing PUMA; Illinois\n",
      "Chicago City (South)--Chicago Lawn, Englewood/West Englewood & Greater Grand Crossing PUMA; Illinois\n",
      "Chicago City (South)--Chicago Lawn, Englewood/West Englewood & Greater Grand Crossing PUMA; Illinois\n",
      "Chicago City (South)--Chicago Lawn, Englewood/West Englewood & Greater Grand Crossing PUMA; Illinois\n",
      "Chicago City (South)--Ashburn, Washington Heights, Morgan Park & Beverly PUMA; Illinois\n",
      "Chicago City (South)--Auburn Gresham, Roseland, Chatham, Avalon Park & Burnside PUMA; Illinois\n",
      "Chicago City (South)--Ashburn, Washington Heights, Morgan Park & Beverly PUMA; Illinois\n",
      "Chicago City (South)--Ashburn, Washington Heights, Morgan Park & Beverly PUMA; Illinois\n",
      "Chicago City (South)--Ashburn, Washington Heights, Morgan Park & Beverly PUMA; Illinois\n",
      "Cook County (West)--Leyden, Norwood Park (South) Townships & Chicago City--O'Hare PUMA; Illinois\n",
      "Chicago City (North)--Edgewater, Uptown & Rogers Park PUMA; Illinois\n"
     ]
    }
   ],
   "source": [
    "#trying different loop\n",
    "#same result as using public_use_list as the search index\n",
    "for area in community_series:\n",
    "    for index, row in illinois_population.iterrows():\n",
    "        if area in row[\"Name\"]:\n",
    "            print(row[\"Name\"])\n",
    "            community_match_1.append(area)\n",
    "            community_match_2.append(row[\"Name\"])\n",
    "            "
   ]
  },
  {
   "cell_type": "code",
   "execution_count": 82,
   "metadata": {},
   "outputs": [
    {
     "data": {
      "text/plain": [
       "65"
      ]
     },
     "execution_count": 82,
     "metadata": {},
     "output_type": "execute_result"
    }
   ],
   "source": [
    "len(community_match_1)"
   ]
  },
  {
   "cell_type": "code",
   "execution_count": 84,
   "metadata": {},
   "outputs": [
    {
     "data": {
      "text/html": [
       "<div>\n",
       "<style scoped>\n",
       "    .dataframe tbody tr th:only-of-type {\n",
       "        vertical-align: middle;\n",
       "    }\n",
       "\n",
       "    .dataframe tbody tr th {\n",
       "        vertical-align: top;\n",
       "    }\n",
       "\n",
       "    .dataframe thead th {\n",
       "        text-align: right;\n",
       "    }\n",
       "</style>\n",
       "<table border=\"1\" class=\"dataframe\">\n",
       "  <thead>\n",
       "    <tr style=\"text-align: right;\">\n",
       "      <th></th>\n",
       "      <th>Community</th>\n",
       "      <th>Public Use Area</th>\n",
       "    </tr>\n",
       "  </thead>\n",
       "  <tbody>\n",
       "    <tr>\n",
       "      <th>0</th>\n",
       "      <td>Rogers Park</td>\n",
       "      <td>Chicago City (North)--Edgewater, Uptown &amp; Roge...</td>\n",
       "    </tr>\n",
       "    <tr>\n",
       "      <th>1</th>\n",
       "      <td>West Ridge</td>\n",
       "      <td>Chicago City (North)--West Ridge, Lincoln Squa...</td>\n",
       "    </tr>\n",
       "    <tr>\n",
       "      <th>2</th>\n",
       "      <td>Uptown</td>\n",
       "      <td>Chicago City (North)--Edgewater, Uptown &amp; Roge...</td>\n",
       "    </tr>\n",
       "    <tr>\n",
       "      <th>3</th>\n",
       "      <td>Lincoln Square</td>\n",
       "      <td>Chicago City (North)--West Ridge, Lincoln Squa...</td>\n",
       "    </tr>\n",
       "    <tr>\n",
       "      <th>4</th>\n",
       "      <td>North Center</td>\n",
       "      <td>Chicago City (North)--West Ridge, Lincoln Squa...</td>\n",
       "    </tr>\n",
       "  </tbody>\n",
       "</table>\n",
       "</div>"
      ],
      "text/plain": [
       "        Community                                    Public Use Area\n",
       "0     Rogers Park  Chicago City (North)--Edgewater, Uptown & Roge...\n",
       "1      West Ridge  Chicago City (North)--West Ridge, Lincoln Squa...\n",
       "2          Uptown  Chicago City (North)--Edgewater, Uptown & Roge...\n",
       "3  Lincoln Square  Chicago City (North)--West Ridge, Lincoln Squa...\n",
       "4    North Center  Chicago City (North)--West Ridge, Lincoln Squa..."
      ]
     },
     "execution_count": 84,
     "metadata": {},
     "output_type": "execute_result"
    }
   ],
   "source": [
    "community_match_df=pd.DataFrame({\"Community\":community_match_1, \"Public Use Area\":community_match_2})\n",
    "community_match_df.head()\n",
    "            \n",
    "            "
   ]
  },
  {
   "cell_type": "code",
   "execution_count": 61,
   "metadata": {},
   "outputs": [
    {
     "data": {
      "text/plain": [
       "0    20\n",
       "1    20\n",
       "dtype: int64"
      ]
     },
     "execution_count": 61,
     "metadata": {},
     "output_type": "execute_result"
    }
   ],
   "source": [
    "community_match.count()"
   ]
  },
  {
   "cell_type": "code",
   "execution_count": 85,
   "metadata": {},
   "outputs": [
    {
     "data": {
      "text/plain": [
       "Index(['Community', 'Community \\nNumber', 'Public Use Area'], dtype='object')"
      ]
     },
     "execution_count": 85,
     "metadata": {},
     "output_type": "execute_result"
    }
   ],
   "source": [
    "#combine found areas to community area list to see what we missed\n",
    "community_area_1 = pd.merge(community_areas, community_match_df, on=\"Community\", how=\"left\")\n",
    "community_area_1.keys()\n"
   ]
  },
  {
   "cell_type": "code",
   "execution_count": 88,
   "metadata": {},
   "outputs": [
    {
     "data": {
      "text/html": [
       "<div>\n",
       "<style scoped>\n",
       "    .dataframe tbody tr th:only-of-type {\n",
       "        vertical-align: middle;\n",
       "    }\n",
       "\n",
       "    .dataframe tbody tr th {\n",
       "        vertical-align: top;\n",
       "    }\n",
       "\n",
       "    .dataframe thead th {\n",
       "        text-align: right;\n",
       "    }\n",
       "</style>\n",
       "<table border=\"1\" class=\"dataframe\">\n",
       "  <thead>\n",
       "    <tr style=\"text-align: right;\">\n",
       "      <th></th>\n",
       "      <th>Community</th>\n",
       "      <th>Community \n",
       "Number</th>\n",
       "      <th>Public Use Area</th>\n",
       "    </tr>\n",
       "  </thead>\n",
       "  <tbody>\n",
       "    <tr>\n",
       "      <th>0</th>\n",
       "      <td>Rogers Park</td>\n",
       "      <td>1.0</td>\n",
       "      <td>Chicago City (North)--Edgewater, Uptown &amp; Roge...</td>\n",
       "    </tr>\n",
       "    <tr>\n",
       "      <th>1</th>\n",
       "      <td>West Ridge</td>\n",
       "      <td>2.0</td>\n",
       "      <td>Chicago City (North)--West Ridge, Lincoln Squa...</td>\n",
       "    </tr>\n",
       "    <tr>\n",
       "      <th>2</th>\n",
       "      <td>Uptown</td>\n",
       "      <td>3.0</td>\n",
       "      <td>Chicago City (North)--Edgewater, Uptown &amp; Roge...</td>\n",
       "    </tr>\n",
       "    <tr>\n",
       "      <th>3</th>\n",
       "      <td>Lincoln Square</td>\n",
       "      <td>4.0</td>\n",
       "      <td>Chicago City (North)--West Ridge, Lincoln Squa...</td>\n",
       "    </tr>\n",
       "    <tr>\n",
       "      <th>4</th>\n",
       "      <td>North Center</td>\n",
       "      <td>5.0</td>\n",
       "      <td>Chicago City (North)--West Ridge, Lincoln Squa...</td>\n",
       "    </tr>\n",
       "  </tbody>\n",
       "</table>\n",
       "</div>"
      ],
      "text/plain": [
       "        Community  Community \\nNumber  \\\n",
       "0     Rogers Park                 1.0   \n",
       "1      West Ridge                 2.0   \n",
       "2          Uptown                 3.0   \n",
       "3  Lincoln Square                 4.0   \n",
       "4    North Center                 5.0   \n",
       "\n",
       "                                     Public Use Area  \n",
       "0  Chicago City (North)--Edgewater, Uptown & Roge...  \n",
       "1  Chicago City (North)--West Ridge, Lincoln Squa...  \n",
       "2  Chicago City (North)--Edgewater, Uptown & Roge...  \n",
       "3  Chicago City (North)--West Ridge, Lincoln Squa...  \n",
       "4  Chicago City (North)--West Ridge, Lincoln Squa...  "
      ]
     },
     "execution_count": 88,
     "metadata": {},
     "output_type": "execute_result"
    }
   ],
   "source": [
    "community_area_1.head()"
   ]
  },
  {
   "cell_type": "code",
   "execution_count": 90,
   "metadata": {},
   "outputs": [],
   "source": [
    "#csv with failed areas\n",
    "community_area_1.to_csv(\"community_area_to_census.csv\")"
   ]
  },
  {
   "cell_type": "code",
   "execution_count": 28,
   "metadata": {},
   "outputs": [],
   "source": []
  },
  {
   "cell_type": "code",
   "execution_count": 50,
   "metadata": {},
   "outputs": [],
   "source": []
  },
  {
   "cell_type": "code",
   "execution_count": null,
   "metadata": {},
   "outputs": [],
   "source": []
  }
 ],
 "metadata": {
  "kernelspec": {
   "display_name": "Python 3",
   "language": "python",
   "name": "python3"
  },
  "language_info": {
   "codemirror_mode": {
    "name": "ipython",
    "version": 3
   },
   "file_extension": ".py",
   "mimetype": "text/x-python",
   "name": "python",
   "nbconvert_exporter": "python",
   "pygments_lexer": "ipython3",
   "version": "3.6.6"
  }
 },
 "nbformat": 4,
 "nbformat_minor": 2
}
