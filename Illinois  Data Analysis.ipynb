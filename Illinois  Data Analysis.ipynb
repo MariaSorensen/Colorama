{
 "cells": [
  {
   "cell_type": "code",
   "execution_count": 1,
   "metadata": {},
   "outputs": [],
   "source": [
    "import numpy as np\n",
    "import pandas as pd\n",
    "import matplotlib.pyplot as plt"
   ]
  },
  {
   "cell_type": "code",
   "execution_count": 2,
   "metadata": {},
   "outputs": [],
   "source": [
    "# Read the data\n",
    "crime = pd.read_csv(\"Crimes_2012_to_2015.csv\")"
   ]
  },
  {
   "cell_type": "code",
   "execution_count": 3,
   "metadata": {},
   "outputs": [
    {
     "data": {
      "text/html": [
       "<div>\n",
       "<style scoped>\n",
       "    .dataframe tbody tr th:only-of-type {\n",
       "        vertical-align: middle;\n",
       "    }\n",
       "\n",
       "    .dataframe tbody tr th {\n",
       "        vertical-align: top;\n",
       "    }\n",
       "\n",
       "    .dataframe thead th {\n",
       "        text-align: right;\n",
       "    }\n",
       "</style>\n",
       "<table border=\"1\" class=\"dataframe\">\n",
       "  <thead>\n",
       "    <tr style=\"text-align: right;\">\n",
       "      <th></th>\n",
       "      <th>ID</th>\n",
       "      <th>Case Number</th>\n",
       "      <th>Date</th>\n",
       "      <th>Block</th>\n",
       "      <th>IUCR</th>\n",
       "      <th>Primary Type</th>\n",
       "      <th>Description</th>\n",
       "      <th>Location Description</th>\n",
       "      <th>Arrest</th>\n",
       "      <th>Domestic</th>\n",
       "      <th>...</th>\n",
       "      <th>Ward</th>\n",
       "      <th>Community Area</th>\n",
       "      <th>FBI Code</th>\n",
       "      <th>X Coordinate</th>\n",
       "      <th>Y Coordinate</th>\n",
       "      <th>Year</th>\n",
       "      <th>Updated On</th>\n",
       "      <th>Latitude</th>\n",
       "      <th>Longitude</th>\n",
       "      <th>Location</th>\n",
       "    </tr>\n",
       "  </thead>\n",
       "  <tbody>\n",
       "    <tr>\n",
       "      <th>0</th>\n",
       "      <td>10433096</td>\n",
       "      <td>HZ170962</td>\n",
       "      <td>1/1/2012 0:00</td>\n",
       "      <td>026XX N MC VICKER AVE</td>\n",
       "      <td>1562</td>\n",
       "      <td>SEX OFFENSE</td>\n",
       "      <td>AGG CRIMINAL SEXUAL ABUSE</td>\n",
       "      <td>RESIDENCE</td>\n",
       "      <td>True</td>\n",
       "      <td>False</td>\n",
       "      <td>...</td>\n",
       "      <td>29.0</td>\n",
       "      <td>19.0</td>\n",
       "      <td>17</td>\n",
       "      <td>NaN</td>\n",
       "      <td>NaN</td>\n",
       "      <td>2012</td>\n",
       "      <td>5/11/2016 15:48</td>\n",
       "      <td>NaN</td>\n",
       "      <td>NaN</td>\n",
       "      <td>NaN</td>\n",
       "    </tr>\n",
       "    <tr>\n",
       "      <th>1</th>\n",
       "      <td>10433124</td>\n",
       "      <td>HZ170983</td>\n",
       "      <td>1/1/2012 0:00</td>\n",
       "      <td>026XX N MC VICKER AVE</td>\n",
       "      <td>1544</td>\n",
       "      <td>SEX OFFENSE</td>\n",
       "      <td>SEXUAL EXPLOITATION OF A CHILD</td>\n",
       "      <td>RESIDENCE</td>\n",
       "      <td>True</td>\n",
       "      <td>False</td>\n",
       "      <td>...</td>\n",
       "      <td>29.0</td>\n",
       "      <td>19.0</td>\n",
       "      <td>17</td>\n",
       "      <td>NaN</td>\n",
       "      <td>NaN</td>\n",
       "      <td>2012</td>\n",
       "      <td>5/11/2016 15:48</td>\n",
       "      <td>NaN</td>\n",
       "      <td>NaN</td>\n",
       "      <td>NaN</td>\n",
       "    </tr>\n",
       "    <tr>\n",
       "      <th>2</th>\n",
       "      <td>10532867</td>\n",
       "      <td>HZ276514</td>\n",
       "      <td>1/1/2012 0:00</td>\n",
       "      <td>036XX S RHODES AVE</td>\n",
       "      <td>1563</td>\n",
       "      <td>SEX OFFENSE</td>\n",
       "      <td>CRIMINAL SEXUAL ABUSE</td>\n",
       "      <td>APARTMENT</td>\n",
       "      <td>False</td>\n",
       "      <td>False</td>\n",
       "      <td>...</td>\n",
       "      <td>4.0</td>\n",
       "      <td>35.0</td>\n",
       "      <td>17</td>\n",
       "      <td>NaN</td>\n",
       "      <td>NaN</td>\n",
       "      <td>2012</td>\n",
       "      <td>5/26/2016 15:51</td>\n",
       "      <td>NaN</td>\n",
       "      <td>NaN</td>\n",
       "      <td>NaN</td>\n",
       "    </tr>\n",
       "    <tr>\n",
       "      <th>3</th>\n",
       "      <td>10536876</td>\n",
       "      <td>HZ280873</td>\n",
       "      <td>1/1/2012 0:00</td>\n",
       "      <td>062XX S ROCKWELL ST</td>\n",
       "      <td>1153</td>\n",
       "      <td>DECEPTIVE PRACTICE</td>\n",
       "      <td>FINANCIAL IDENTITY THEFT OVER $ 300</td>\n",
       "      <td>RESIDENCE</td>\n",
       "      <td>False</td>\n",
       "      <td>False</td>\n",
       "      <td>...</td>\n",
       "      <td>15.0</td>\n",
       "      <td>66.0</td>\n",
       "      <td>11</td>\n",
       "      <td>NaN</td>\n",
       "      <td>NaN</td>\n",
       "      <td>2012</td>\n",
       "      <td>5/27/2016 15:48</td>\n",
       "      <td>NaN</td>\n",
       "      <td>NaN</td>\n",
       "      <td>NaN</td>\n",
       "    </tr>\n",
       "    <tr>\n",
       "      <th>4</th>\n",
       "      <td>11244255</td>\n",
       "      <td>JB169720</td>\n",
       "      <td>1/1/2012 0:01</td>\n",
       "      <td>019XX N LA CROSSE AVE</td>\n",
       "      <td>1562</td>\n",
       "      <td>SEX OFFENSE</td>\n",
       "      <td>AGG CRIMINAL SEXUAL ABUSE</td>\n",
       "      <td>APARTMENT</td>\n",
       "      <td>False</td>\n",
       "      <td>False</td>\n",
       "      <td>...</td>\n",
       "      <td>31.0</td>\n",
       "      <td>19.0</td>\n",
       "      <td>17</td>\n",
       "      <td>NaN</td>\n",
       "      <td>NaN</td>\n",
       "      <td>2012</td>\n",
       "      <td>3/2/2018 15:54</td>\n",
       "      <td>NaN</td>\n",
       "      <td>NaN</td>\n",
       "      <td>NaN</td>\n",
       "    </tr>\n",
       "  </tbody>\n",
       "</table>\n",
       "<p>5 rows × 22 columns</p>\n",
       "</div>"
      ],
      "text/plain": [
       "         ID Case Number           Date                  Block  IUCR  \\\n",
       "0  10433096    HZ170962  1/1/2012 0:00  026XX N MC VICKER AVE  1562   \n",
       "1  10433124    HZ170983  1/1/2012 0:00  026XX N MC VICKER AVE  1544   \n",
       "2  10532867    HZ276514  1/1/2012 0:00     036XX S RHODES AVE  1563   \n",
       "3  10536876    HZ280873  1/1/2012 0:00    062XX S ROCKWELL ST  1153   \n",
       "4  11244255    JB169720  1/1/2012 0:01  019XX N LA CROSSE AVE  1562   \n",
       "\n",
       "         Primary Type                          Description  \\\n",
       "0         SEX OFFENSE            AGG CRIMINAL SEXUAL ABUSE   \n",
       "1         SEX OFFENSE       SEXUAL EXPLOITATION OF A CHILD   \n",
       "2         SEX OFFENSE                CRIMINAL SEXUAL ABUSE   \n",
       "3  DECEPTIVE PRACTICE  FINANCIAL IDENTITY THEFT OVER $ 300   \n",
       "4         SEX OFFENSE            AGG CRIMINAL SEXUAL ABUSE   \n",
       "\n",
       "  Location Description  Arrest  Domestic    ...     Ward  Community Area  \\\n",
       "0            RESIDENCE    True     False    ...     29.0            19.0   \n",
       "1            RESIDENCE    True     False    ...     29.0            19.0   \n",
       "2            APARTMENT   False     False    ...      4.0            35.0   \n",
       "3            RESIDENCE   False     False    ...     15.0            66.0   \n",
       "4            APARTMENT   False     False    ...     31.0            19.0   \n",
       "\n",
       "   FBI Code  X Coordinate Y Coordinate  Year       Updated On  Latitude  \\\n",
       "0        17           NaN          NaN  2012  5/11/2016 15:48       NaN   \n",
       "1        17           NaN          NaN  2012  5/11/2016 15:48       NaN   \n",
       "2        17           NaN          NaN  2012  5/26/2016 15:51       NaN   \n",
       "3        11           NaN          NaN  2012  5/27/2016 15:48       NaN   \n",
       "4        17           NaN          NaN  2012   3/2/2018 15:54       NaN   \n",
       "\n",
       "  Longitude  Location  \n",
       "0       NaN       NaN  \n",
       "1       NaN       NaN  \n",
       "2       NaN       NaN  \n",
       "3       NaN       NaN  \n",
       "4       NaN       NaN  \n",
       "\n",
       "[5 rows x 22 columns]"
      ]
     },
     "execution_count": 3,
     "metadata": {},
     "output_type": "execute_result"
    }
   ],
   "source": [
    "# See first few rows of the data\n",
    "crime.head()"
   ]
  },
  {
   "cell_type": "code",
   "execution_count": 4,
   "metadata": {},
   "outputs": [],
   "source": [
    "# keep necessary columns\n",
    "crime = crime[['Arrest','Primary Type','Community Area']]"
   ]
  },
  {
   "cell_type": "code",
   "execution_count": 5,
   "metadata": {},
   "outputs": [
    {
     "data": {
      "text/plain": [
       "array([ True, False])"
      ]
     },
     "execution_count": 5,
     "metadata": {},
     "output_type": "execute_result"
    }
   ],
   "source": [
    "# See crime value types\n",
    "crime.Arrest.unique()"
   ]
  },
  {
   "cell_type": "code",
   "execution_count": 6,
   "metadata": {},
   "outputs": [],
   "source": [
    "# Recode Value"
   ]
  },
  {
   "cell_type": "code",
   "execution_count": 7,
   "metadata": {},
   "outputs": [],
   "source": [
    "crime['Arrest'] = crime['Arrest'].map({True:'Success',False:'Failure'})"
   ]
  },
  {
   "cell_type": "markdown",
   "metadata": {},
   "source": [
    "1.how many arrests were successful and unsuccessful. "
   ]
  },
  {
   "cell_type": "code",
   "execution_count": 8,
   "metadata": {},
   "outputs": [],
   "source": [
    "# Count arrest types\n",
    "arrestcount = pd.DataFrame(crime.Arrest.value_counts())"
   ]
  },
  {
   "cell_type": "markdown",
   "metadata": {
    "scrolled": false
   },
   "source": [
    "#### fig = plt.figure(figsize = (10,4))\n",
    "arrestcount.plot(kind='bar',title = 'Illinois Crime Arrest', ax = plt.gca())"
   ]
  },
  {
   "cell_type": "code",
   "execution_count": 10,
   "metadata": {},
   "outputs": [
    {
     "data": {
      "text/html": [
       "<div>\n",
       "<style scoped>\n",
       "    .dataframe tbody tr th:only-of-type {\n",
       "        vertical-align: middle;\n",
       "    }\n",
       "\n",
       "    .dataframe tbody tr th {\n",
       "        vertical-align: top;\n",
       "    }\n",
       "\n",
       "    .dataframe thead th {\n",
       "        text-align: right;\n",
       "    }\n",
       "</style>\n",
       "<table border=\"1\" class=\"dataframe\">\n",
       "  <thead>\n",
       "    <tr style=\"text-align: right;\">\n",
       "      <th></th>\n",
       "      <th>Arrest</th>\n",
       "    </tr>\n",
       "  </thead>\n",
       "  <tbody>\n",
       "    <tr>\n",
       "      <th>Failure</th>\n",
       "      <td>149968</td>\n",
       "    </tr>\n",
       "    <tr>\n",
       "      <th>Success</th>\n",
       "      <td>49894</td>\n",
       "    </tr>\n",
       "  </tbody>\n",
       "</table>\n",
       "</div>"
      ],
      "text/plain": [
       "         Arrest\n",
       "Failure  149968\n",
       "Success   49894"
      ]
     },
     "execution_count": 10,
     "metadata": {},
     "output_type": "execute_result"
    }
   ],
   "source": [
    "arrestcount"
   ]
  },
  {
   "cell_type": "markdown",
   "metadata": {},
   "source": [
    "49894 arrests were successfull and 149968 arrests were unsuccessfull."
   ]
  },
  {
   "cell_type": "code",
   "execution_count": 11,
   "metadata": {},
   "outputs": [],
   "source": [
    "# Subset arrests data\n",
    "arrestdata = crime[crime.Arrest ==\"Success\"]"
   ]
  },
  {
   "cell_type": "markdown",
   "metadata": {},
   "source": [
    "2. What community area had the most arrests?"
   ]
  },
  {
   "cell_type": "code",
   "execution_count": 12,
   "metadata": {},
   "outputs": [],
   "source": [
    "# Read the community data\n",
    "community = pd.read_csv(\"Community_area_list.csv\")"
   ]
  },
  {
   "cell_type": "code",
   "execution_count": 13,
   "metadata": {},
   "outputs": [
    {
     "data": {
      "text/plain": [
       "count    199858.000000\n",
       "mean         37.521545\n",
       "std          21.426186\n",
       "min           0.000000\n",
       "25%          23.000000\n",
       "50%          32.000000\n",
       "75%          57.000000\n",
       "max          77.000000\n",
       "Name: Community Area, dtype: float64"
      ]
     },
     "execution_count": 13,
     "metadata": {},
     "output_type": "execute_result"
    }
   ],
   "source": [
    "crime['Community Area'].describe()"
   ]
  },
  {
   "cell_type": "code",
   "execution_count": 14,
   "metadata": {},
   "outputs": [],
   "source": [
    "# merge community data with crime data\n",
    "md = pd.merge(crime, community, left_on=['Community Area'], right_on= ['Community \\nNumber'])"
   ]
  },
  {
   "cell_type": "code",
   "execution_count": 15,
   "metadata": {},
   "outputs": [],
   "source": [
    "md = md[['Primary Type','Community']]"
   ]
  },
  {
   "cell_type": "code",
   "execution_count": 16,
   "metadata": {},
   "outputs": [
    {
     "data": {
      "text/html": [
       "<div>\n",
       "<style scoped>\n",
       "    .dataframe tbody tr th:only-of-type {\n",
       "        vertical-align: middle;\n",
       "    }\n",
       "\n",
       "    .dataframe tbody tr th {\n",
       "        vertical-align: top;\n",
       "    }\n",
       "\n",
       "    .dataframe thead th {\n",
       "        text-align: right;\n",
       "    }\n",
       "</style>\n",
       "<table border=\"1\" class=\"dataframe\">\n",
       "  <thead>\n",
       "    <tr style=\"text-align: right;\">\n",
       "      <th></th>\n",
       "      <th>Primary Type</th>\n",
       "      <th>Community</th>\n",
       "    </tr>\n",
       "  </thead>\n",
       "  <tbody>\n",
       "    <tr>\n",
       "      <th>0</th>\n",
       "      <td>SEX OFFENSE</td>\n",
       "      <td>Belmont Cragin</td>\n",
       "    </tr>\n",
       "    <tr>\n",
       "      <th>1</th>\n",
       "      <td>SEX OFFENSE</td>\n",
       "      <td>Belmont Cragin</td>\n",
       "    </tr>\n",
       "    <tr>\n",
       "      <th>2</th>\n",
       "      <td>SEX OFFENSE</td>\n",
       "      <td>Belmont Cragin</td>\n",
       "    </tr>\n",
       "    <tr>\n",
       "      <th>3</th>\n",
       "      <td>SEX OFFENSE</td>\n",
       "      <td>Belmont Cragin</td>\n",
       "    </tr>\n",
       "    <tr>\n",
       "      <th>4</th>\n",
       "      <td>SEX OFFENSE</td>\n",
       "      <td>Belmont Cragin</td>\n",
       "    </tr>\n",
       "    <tr>\n",
       "      <th>5</th>\n",
       "      <td>BATTERY</td>\n",
       "      <td>Belmont Cragin</td>\n",
       "    </tr>\n",
       "    <tr>\n",
       "      <th>6</th>\n",
       "      <td>ARSON</td>\n",
       "      <td>Belmont Cragin</td>\n",
       "    </tr>\n",
       "    <tr>\n",
       "      <th>7</th>\n",
       "      <td>BATTERY</td>\n",
       "      <td>Belmont Cragin</td>\n",
       "    </tr>\n",
       "    <tr>\n",
       "      <th>8</th>\n",
       "      <td>ROBBERY</td>\n",
       "      <td>Belmont Cragin</td>\n",
       "    </tr>\n",
       "    <tr>\n",
       "      <th>9</th>\n",
       "      <td>THEFT</td>\n",
       "      <td>Belmont Cragin</td>\n",
       "    </tr>\n",
       "    <tr>\n",
       "      <th>10</th>\n",
       "      <td>BATTERY</td>\n",
       "      <td>Belmont Cragin</td>\n",
       "    </tr>\n",
       "    <tr>\n",
       "      <th>11</th>\n",
       "      <td>DECEPTIVE PRACTICE</td>\n",
       "      <td>Belmont Cragin</td>\n",
       "    </tr>\n",
       "    <tr>\n",
       "      <th>12</th>\n",
       "      <td>BATTERY</td>\n",
       "      <td>Belmont Cragin</td>\n",
       "    </tr>\n",
       "    <tr>\n",
       "      <th>13</th>\n",
       "      <td>ASSAULT</td>\n",
       "      <td>Belmont Cragin</td>\n",
       "    </tr>\n",
       "    <tr>\n",
       "      <th>14</th>\n",
       "      <td>CRIM SEXUAL ASSAULT</td>\n",
       "      <td>Belmont Cragin</td>\n",
       "    </tr>\n",
       "    <tr>\n",
       "      <th>15</th>\n",
       "      <td>DECEPTIVE PRACTICE</td>\n",
       "      <td>Belmont Cragin</td>\n",
       "    </tr>\n",
       "    <tr>\n",
       "      <th>16</th>\n",
       "      <td>DECEPTIVE PRACTICE</td>\n",
       "      <td>Belmont Cragin</td>\n",
       "    </tr>\n",
       "    <tr>\n",
       "      <th>17</th>\n",
       "      <td>DECEPTIVE PRACTICE</td>\n",
       "      <td>Belmont Cragin</td>\n",
       "    </tr>\n",
       "    <tr>\n",
       "      <th>18</th>\n",
       "      <td>DECEPTIVE PRACTICE</td>\n",
       "      <td>Belmont Cragin</td>\n",
       "    </tr>\n",
       "    <tr>\n",
       "      <th>19</th>\n",
       "      <td>OTHER OFFENSE</td>\n",
       "      <td>Belmont Cragin</td>\n",
       "    </tr>\n",
       "    <tr>\n",
       "      <th>20</th>\n",
       "      <td>CRIM SEXUAL ASSAULT</td>\n",
       "      <td>Belmont Cragin</td>\n",
       "    </tr>\n",
       "    <tr>\n",
       "      <th>21</th>\n",
       "      <td>THEFT</td>\n",
       "      <td>Belmont Cragin</td>\n",
       "    </tr>\n",
       "    <tr>\n",
       "      <th>22</th>\n",
       "      <td>CRIMINAL DAMAGE</td>\n",
       "      <td>Belmont Cragin</td>\n",
       "    </tr>\n",
       "    <tr>\n",
       "      <th>23</th>\n",
       "      <td>NARCOTICS</td>\n",
       "      <td>Belmont Cragin</td>\n",
       "    </tr>\n",
       "    <tr>\n",
       "      <th>24</th>\n",
       "      <td>ROBBERY</td>\n",
       "      <td>Belmont Cragin</td>\n",
       "    </tr>\n",
       "    <tr>\n",
       "      <th>25</th>\n",
       "      <td>CRIM SEXUAL ASSAULT</td>\n",
       "      <td>Belmont Cragin</td>\n",
       "    </tr>\n",
       "    <tr>\n",
       "      <th>26</th>\n",
       "      <td>DECEPTIVE PRACTICE</td>\n",
       "      <td>Belmont Cragin</td>\n",
       "    </tr>\n",
       "    <tr>\n",
       "      <th>27</th>\n",
       "      <td>DECEPTIVE PRACTICE</td>\n",
       "      <td>Belmont Cragin</td>\n",
       "    </tr>\n",
       "    <tr>\n",
       "      <th>28</th>\n",
       "      <td>DECEPTIVE PRACTICE</td>\n",
       "      <td>Belmont Cragin</td>\n",
       "    </tr>\n",
       "    <tr>\n",
       "      <th>29</th>\n",
       "      <td>ASSAULT</td>\n",
       "      <td>Belmont Cragin</td>\n",
       "    </tr>\n",
       "    <tr>\n",
       "      <th>...</th>\n",
       "      <td>...</td>\n",
       "      <td>...</td>\n",
       "    </tr>\n",
       "    <tr>\n",
       "      <th>199879</th>\n",
       "      <td>THEFT</td>\n",
       "      <td>West Elsdon</td>\n",
       "    </tr>\n",
       "    <tr>\n",
       "      <th>199880</th>\n",
       "      <td>THEFT</td>\n",
       "      <td>West Elsdon</td>\n",
       "    </tr>\n",
       "    <tr>\n",
       "      <th>199881</th>\n",
       "      <td>ASSAULT</td>\n",
       "      <td>West Elsdon</td>\n",
       "    </tr>\n",
       "    <tr>\n",
       "      <th>199882</th>\n",
       "      <td>THEFT</td>\n",
       "      <td>West Elsdon</td>\n",
       "    </tr>\n",
       "    <tr>\n",
       "      <th>199883</th>\n",
       "      <td>CRIMINAL DAMAGE</td>\n",
       "      <td>West Elsdon</td>\n",
       "    </tr>\n",
       "    <tr>\n",
       "      <th>199884</th>\n",
       "      <td>BATTERY</td>\n",
       "      <td>West Elsdon</td>\n",
       "    </tr>\n",
       "    <tr>\n",
       "      <th>199885</th>\n",
       "      <td>THEFT</td>\n",
       "      <td>West Elsdon</td>\n",
       "    </tr>\n",
       "    <tr>\n",
       "      <th>199886</th>\n",
       "      <td>OTHER OFFENSE</td>\n",
       "      <td>West Elsdon</td>\n",
       "    </tr>\n",
       "    <tr>\n",
       "      <th>199887</th>\n",
       "      <td>MOTOR VEHICLE THEFT</td>\n",
       "      <td>West Elsdon</td>\n",
       "    </tr>\n",
       "    <tr>\n",
       "      <th>199888</th>\n",
       "      <td>THEFT</td>\n",
       "      <td>West Elsdon</td>\n",
       "    </tr>\n",
       "    <tr>\n",
       "      <th>199889</th>\n",
       "      <td>THEFT</td>\n",
       "      <td>West Elsdon</td>\n",
       "    </tr>\n",
       "    <tr>\n",
       "      <th>199890</th>\n",
       "      <td>THEFT</td>\n",
       "      <td>West Elsdon</td>\n",
       "    </tr>\n",
       "    <tr>\n",
       "      <th>199891</th>\n",
       "      <td>NARCOTICS</td>\n",
       "      <td>West Elsdon</td>\n",
       "    </tr>\n",
       "    <tr>\n",
       "      <th>199892</th>\n",
       "      <td>CRIMINAL DAMAGE</td>\n",
       "      <td>West Elsdon</td>\n",
       "    </tr>\n",
       "    <tr>\n",
       "      <th>199893</th>\n",
       "      <td>THEFT</td>\n",
       "      <td>West Elsdon</td>\n",
       "    </tr>\n",
       "    <tr>\n",
       "      <th>199894</th>\n",
       "      <td>BATTERY</td>\n",
       "      <td>West Elsdon</td>\n",
       "    </tr>\n",
       "    <tr>\n",
       "      <th>199895</th>\n",
       "      <td>BATTERY</td>\n",
       "      <td>West Elsdon</td>\n",
       "    </tr>\n",
       "    <tr>\n",
       "      <th>199896</th>\n",
       "      <td>THEFT</td>\n",
       "      <td>West Elsdon</td>\n",
       "    </tr>\n",
       "    <tr>\n",
       "      <th>199897</th>\n",
       "      <td>BURGLARY</td>\n",
       "      <td>West Elsdon</td>\n",
       "    </tr>\n",
       "    <tr>\n",
       "      <th>199898</th>\n",
       "      <td>THEFT</td>\n",
       "      <td>West Elsdon</td>\n",
       "    </tr>\n",
       "    <tr>\n",
       "      <th>199899</th>\n",
       "      <td>BURGLARY</td>\n",
       "      <td>West Elsdon</td>\n",
       "    </tr>\n",
       "    <tr>\n",
       "      <th>199900</th>\n",
       "      <td>THEFT</td>\n",
       "      <td>West Elsdon</td>\n",
       "    </tr>\n",
       "    <tr>\n",
       "      <th>199901</th>\n",
       "      <td>OTHER OFFENSE</td>\n",
       "      <td>West Elsdon</td>\n",
       "    </tr>\n",
       "    <tr>\n",
       "      <th>199902</th>\n",
       "      <td>NARCOTICS</td>\n",
       "      <td>West Elsdon</td>\n",
       "    </tr>\n",
       "    <tr>\n",
       "      <th>199903</th>\n",
       "      <td>BURGLARY</td>\n",
       "      <td>West Elsdon</td>\n",
       "    </tr>\n",
       "    <tr>\n",
       "      <th>199904</th>\n",
       "      <td>BATTERY</td>\n",
       "      <td>West Elsdon</td>\n",
       "    </tr>\n",
       "    <tr>\n",
       "      <th>199905</th>\n",
       "      <td>CRIMINAL DAMAGE</td>\n",
       "      <td>West Elsdon</td>\n",
       "    </tr>\n",
       "    <tr>\n",
       "      <th>199906</th>\n",
       "      <td>NARCOTICS</td>\n",
       "      <td>West Elsdon</td>\n",
       "    </tr>\n",
       "    <tr>\n",
       "      <th>199907</th>\n",
       "      <td>ROBBERY</td>\n",
       "      <td>West Elsdon</td>\n",
       "    </tr>\n",
       "    <tr>\n",
       "      <th>199908</th>\n",
       "      <td>DECEPTIVE PRACTICE</td>\n",
       "      <td>West Elsdon</td>\n",
       "    </tr>\n",
       "  </tbody>\n",
       "</table>\n",
       "<p>199909 rows × 2 columns</p>\n",
       "</div>"
      ],
      "text/plain": [
       "               Primary Type       Community\n",
       "0               SEX OFFENSE  Belmont Cragin\n",
       "1               SEX OFFENSE  Belmont Cragin\n",
       "2               SEX OFFENSE  Belmont Cragin\n",
       "3               SEX OFFENSE  Belmont Cragin\n",
       "4               SEX OFFENSE  Belmont Cragin\n",
       "5                   BATTERY  Belmont Cragin\n",
       "6                     ARSON  Belmont Cragin\n",
       "7                   BATTERY  Belmont Cragin\n",
       "8                   ROBBERY  Belmont Cragin\n",
       "9                     THEFT  Belmont Cragin\n",
       "10                  BATTERY  Belmont Cragin\n",
       "11       DECEPTIVE PRACTICE  Belmont Cragin\n",
       "12                  BATTERY  Belmont Cragin\n",
       "13                  ASSAULT  Belmont Cragin\n",
       "14      CRIM SEXUAL ASSAULT  Belmont Cragin\n",
       "15       DECEPTIVE PRACTICE  Belmont Cragin\n",
       "16       DECEPTIVE PRACTICE  Belmont Cragin\n",
       "17       DECEPTIVE PRACTICE  Belmont Cragin\n",
       "18       DECEPTIVE PRACTICE  Belmont Cragin\n",
       "19            OTHER OFFENSE  Belmont Cragin\n",
       "20      CRIM SEXUAL ASSAULT  Belmont Cragin\n",
       "21                    THEFT  Belmont Cragin\n",
       "22          CRIMINAL DAMAGE  Belmont Cragin\n",
       "23                NARCOTICS  Belmont Cragin\n",
       "24                  ROBBERY  Belmont Cragin\n",
       "25      CRIM SEXUAL ASSAULT  Belmont Cragin\n",
       "26       DECEPTIVE PRACTICE  Belmont Cragin\n",
       "27       DECEPTIVE PRACTICE  Belmont Cragin\n",
       "28       DECEPTIVE PRACTICE  Belmont Cragin\n",
       "29                  ASSAULT  Belmont Cragin\n",
       "...                     ...             ...\n",
       "199879                THEFT     West Elsdon\n",
       "199880                THEFT     West Elsdon\n",
       "199881              ASSAULT     West Elsdon\n",
       "199882                THEFT     West Elsdon\n",
       "199883      CRIMINAL DAMAGE     West Elsdon\n",
       "199884              BATTERY     West Elsdon\n",
       "199885                THEFT     West Elsdon\n",
       "199886        OTHER OFFENSE     West Elsdon\n",
       "199887  MOTOR VEHICLE THEFT     West Elsdon\n",
       "199888                THEFT     West Elsdon\n",
       "199889                THEFT     West Elsdon\n",
       "199890                THEFT     West Elsdon\n",
       "199891            NARCOTICS     West Elsdon\n",
       "199892      CRIMINAL DAMAGE     West Elsdon\n",
       "199893                THEFT     West Elsdon\n",
       "199894              BATTERY     West Elsdon\n",
       "199895              BATTERY     West Elsdon\n",
       "199896                THEFT     West Elsdon\n",
       "199897             BURGLARY     West Elsdon\n",
       "199898                THEFT     West Elsdon\n",
       "199899             BURGLARY     West Elsdon\n",
       "199900                THEFT     West Elsdon\n",
       "199901        OTHER OFFENSE     West Elsdon\n",
       "199902            NARCOTICS     West Elsdon\n",
       "199903             BURGLARY     West Elsdon\n",
       "199904              BATTERY     West Elsdon\n",
       "199905      CRIMINAL DAMAGE     West Elsdon\n",
       "199906            NARCOTICS     West Elsdon\n",
       "199907              ROBBERY     West Elsdon\n",
       "199908   DECEPTIVE PRACTICE     West Elsdon\n",
       "\n",
       "[199909 rows x 2 columns]"
      ]
     },
     "execution_count": 16,
     "metadata": {},
     "output_type": "execute_result"
    }
   ],
   "source": [
    "md"
   ]
  },
  {
   "cell_type": "code",
   "execution_count": 17,
   "metadata": {},
   "outputs": [],
   "source": [
    "most_arrests = pd.DataFrame(md['Community'].value_counts()[1:10])"
   ]
  },
  {
   "cell_type": "code",
   "execution_count": 18,
   "metadata": {
    "scrolled": true
   },
   "outputs": [
    {
     "data": {
      "text/plain": [
       "<matplotlib.axes._subplots.AxesSubplot at 0x20aabd42c18>"
      ]
     },
     "execution_count": 18,
     "metadata": {},
     "output_type": "execute_result"
    },
    {
     "data": {
      "image/png": "[encoded data removed]",
      "text/plain": [
       "<Figure size 1440x360 with 1 Axes>"
      ]
     },
     "metadata": {
      "needs_background": "light"
     },
     "output_type": "display_data"
    }
   ],
   "source": [
    "fig = plt.figure(figsize = (20,5))\n",
    "most_arrests.plot(kind = 'bar',ax = plt.gca())"
   ]
  },
  {
   "cell_type": "code",
   "execution_count": 19,
   "metadata": {},
   "outputs": [
    {
     "data": {
      "text/html": [
       "<div>\n",
       "<style scoped>\n",
       "    .dataframe tbody tr th:only-of-type {\n",
       "        vertical-align: middle;\n",
       "    }\n",
       "\n",
       "    .dataframe tbody tr th {\n",
       "        vertical-align: top;\n",
       "    }\n",
       "\n",
       "    .dataframe thead th {\n",
       "        text-align: right;\n",
       "    }\n",
       "</style>\n",
       "<table border=\"1\" class=\"dataframe\">\n",
       "  <thead>\n",
       "    <tr style=\"text-align: right;\">\n",
       "      <th></th>\n",
       "      <th>Community</th>\n",
       "    </tr>\n",
       "  </thead>\n",
       "  <tbody>\n",
       "    <tr>\n",
       "      <th>Near North Side</th>\n",
       "      <td>6981</td>\n",
       "    </tr>\n",
       "    <tr>\n",
       "      <th>South Shore</th>\n",
       "      <td>6758</td>\n",
       "    </tr>\n",
       "    <tr>\n",
       "      <th>North Lawndale</th>\n",
       "      <td>6313</td>\n",
       "    </tr>\n",
       "    <tr>\n",
       "      <th>Near West Side</th>\n",
       "      <td>6175</td>\n",
       "    </tr>\n",
       "    <tr>\n",
       "      <th>Humboldt Park</th>\n",
       "      <td>6092</td>\n",
       "    </tr>\n",
       "    <tr>\n",
       "      <th>Auburn Gresham</th>\n",
       "      <td>5942</td>\n",
       "    </tr>\n",
       "    <tr>\n",
       "      <th>Loop</th>\n",
       "      <td>5931</td>\n",
       "    </tr>\n",
       "    <tr>\n",
       "      <th>West Englewood</th>\n",
       "      <td>5605</td>\n",
       "    </tr>\n",
       "    <tr>\n",
       "      <th>West Town</th>\n",
       "      <td>5491</td>\n",
       "    </tr>\n",
       "  </tbody>\n",
       "</table>\n",
       "</div>"
      ],
      "text/plain": [
       "                 Community\n",
       "Near North Side       6981\n",
       "South Shore           6758\n",
       "North Lawndale        6313\n",
       "Near West Side        6175\n",
       "Humboldt Park         6092\n",
       "Auburn Gresham        5942\n",
       "Loop                  5931\n",
       "West Englewood        5605\n",
       "West Town             5491"
      ]
     },
     "execution_count": 19,
     "metadata": {},
     "output_type": "execute_result"
    }
   ],
   "source": [
    "most_arrests"
   ]
  },
  {
   "cell_type": "markdown",
   "metadata": {},
   "source": [
    "'Near North Side', 'South Shore', 'North Lawndale', 'Near West Side',\n",
    "       'Humboldt Park', 'Auburn Gresham', 'Loop', 'West Englewood',\n",
    "       'West Town' has the most arrests"
   ]
  },
  {
   "cell_type": "markdown",
   "metadata": {},
   "source": [
    "3.what crime caused most of the arrests? "
   ]
  },
  {
   "cell_type": "code",
   "execution_count": 20,
   "metadata": {},
   "outputs": [],
   "source": [
    "most_crime = pd.DataFrame(md['Primary Type'].value_counts()[1:10])"
   ]
  },
  {
   "cell_type": "code",
   "execution_count": 21,
   "metadata": {
    "scrolled": true
   },
   "outputs": [
    {
     "data": {
      "text/plain": [
       "<matplotlib.axes._subplots.AxesSubplot at 0x20aac3f89b0>"
      ]
     },
     "execution_count": 21,
     "metadata": {},
     "output_type": "execute_result"
    },
    {
     "data": {
      "image/png": "[encoded data removed]",
      "text/plain": [
       "<Figure size 1440x720 with 1 Axes>"
      ]
     },
     "metadata": {
      "needs_background": "light"
     },
     "output_type": "display_data"
    }
   ],
   "source": [
    "fig = plt.figure(figsize = (20,10))\n",
    "most_crime.plot(kind = 'bar', title = 'Arrest by Crime Type', ax = plt.gca() )"
   ]
  },
  {
   "cell_type": "code",
   "execution_count": 22,
   "metadata": {
    "scrolled": true
   },
   "outputs": [
    {
     "data": {
      "text/html": [
       "<div>\n",
       "<style scoped>\n",
       "    .dataframe tbody tr th:only-of-type {\n",
       "        vertical-align: middle;\n",
       "    }\n",
       "\n",
       "    .dataframe tbody tr th {\n",
       "        vertical-align: top;\n",
       "    }\n",
       "\n",
       "    .dataframe thead th {\n",
       "        text-align: right;\n",
       "    }\n",
       "</style>\n",
       "<table border=\"1\" class=\"dataframe\">\n",
       "  <thead>\n",
       "    <tr style=\"text-align: right;\">\n",
       "      <th></th>\n",
       "      <th>Primary Type</th>\n",
       "    </tr>\n",
       "  </thead>\n",
       "  <tbody>\n",
       "    <tr>\n",
       "      <th>CRIMINAL DAMAGE</th>\n",
       "      <td>22553</td>\n",
       "    </tr>\n",
       "    <tr>\n",
       "      <th>NARCOTICS</th>\n",
       "      <td>15875</td>\n",
       "    </tr>\n",
       "    <tr>\n",
       "      <th>OTHER OFFENSE</th>\n",
       "      <td>13178</td>\n",
       "    </tr>\n",
       "    <tr>\n",
       "      <th>ASSAULT</th>\n",
       "      <td>13095</td>\n",
       "    </tr>\n",
       "    <tr>\n",
       "      <th>DECEPTIVE PRACTICE</th>\n",
       "      <td>11731</td>\n",
       "    </tr>\n",
       "    <tr>\n",
       "      <th>BURGLARY</th>\n",
       "      <td>10273</td>\n",
       "    </tr>\n",
       "    <tr>\n",
       "      <th>MOTOR VEHICLE THEFT</th>\n",
       "      <td>7675</td>\n",
       "    </tr>\n",
       "    <tr>\n",
       "      <th>ROBBERY</th>\n",
       "      <td>7522</td>\n",
       "    </tr>\n",
       "  </tbody>\n",
       "</table>\n",
       "</div>"
      ],
      "text/plain": [
       "                     Primary Type\n",
       "CRIMINAL DAMAGE             22553\n",
       "NARCOTICS                   15875\n",
       "OTHER OFFENSE               13178\n",
       "ASSAULT                     13095\n",
       "DECEPTIVE PRACTICE          11731\n",
       "BURGLARY                    10273\n",
       "MOTOR VEHICLE THEFT          7675\n",
       "ROBBERY                      7522"
      ]
     },
     "execution_count": 22,
     "metadata": {},
     "output_type": "execute_result"
    }
   ],
   "source": [
    "most_crime[1:10]"
   ]
  },
  {
   "cell_type": "code",
   "execution_count": 23,
   "metadata": {},
   "outputs": [
    {
     "data": {
      "text/plain": [
       "Index(['CRIMINAL DAMAGE', 'NARCOTICS', 'OTHER OFFENSE', 'ASSAULT',\n",
       "       'DECEPTIVE PRACTICE', 'BURGLARY', 'MOTOR VEHICLE THEFT', 'ROBBERY'],\n",
       "      dtype='object')"
      ]
     },
     "execution_count": 23,
     "metadata": {},
     "output_type": "execute_result"
    }
   ],
   "source": [
    "most_crime.index[1:10]"
   ]
  },
  {
   "cell_type": "markdown",
   "metadata": {},
   "source": [
    "'BATTERY', 'CRIMINAL DAMAGE', 'NARCOTICS', 'OTHER OFFENSE', 'ASSAULT',  'DECEPTIVE PRACTICE', 'BURGLARY', 'MOTOR VEHICLE THEFT', 'ROBBERY' caused caused most of the arrests"
   ]
  },
  {
   "cell_type": "code",
   "execution_count": 24,
   "metadata": {},
   "outputs": [],
   "source": [
    "# Read the population data\n",
    "population = pd.read_csv(\"Illinois_Population.csv\")"
   ]
  },
  {
   "cell_type": "code",
   "execution_count": null,
   "metadata": {},
   "outputs": [],
   "source": []
  }
 ],
 "metadata": {
  "kernelspec": {
   "display_name": "Python 3",
   "language": "python",
   "name": "python3"
  },
  "language_info": {
   "codemirror_mode": {
    "name": "ipython",
    "version": 3
   },
   "file_extension": ".py",
   "mimetype": "text/x-python",
   "name": "python",
   "nbconvert_exporter": "python",
   "pygments_lexer": "ipython3",
   "version": "3.7.1"
  }
 },
 "nbformat": 4,
 "nbformat_minor": 2
}
