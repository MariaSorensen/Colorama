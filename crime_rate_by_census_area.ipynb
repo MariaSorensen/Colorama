{
 "cells": [
  {
   "cell_type": "code",
   "execution_count": 1,
   "metadata": {},
   "outputs": [],
   "source": [
    "#dependencies\n",
    "import pandas as pd\n",
    "import numpy as np\n",
    "import matplotlib.pyplot as plt"
   ]
  },
  {
   "cell_type": "code",
   "execution_count": 2,
   "metadata": {},
   "outputs": [],
   "source": [
    "#csv files\n",
    "population_df = pd.read_csv(\"Illinois_Population.csv\")\n",
    "crime_df = pd.read_csv(\"total_crime_area.csv\")\n",
    "census_to_communityarea_key = pd.read_csv(\"community_area_to_census.csv\")"
   ]
  },
  {
   "cell_type": "code",
   "execution_count": 3,
   "metadata": {},
   "outputs": [
    {
     "data": {
      "text/html": [
       "<div>\n",
       "<style scoped>\n",
       "    .dataframe tbody tr th:only-of-type {\n",
       "        vertical-align: middle;\n",
       "    }\n",
       "\n",
       "    .dataframe tbody tr th {\n",
       "        vertical-align: top;\n",
       "    }\n",
       "\n",
       "    .dataframe thead th {\n",
       "        text-align: right;\n",
       "    }\n",
       "</style>\n",
       "<table border=\"1\" class=\"dataframe\">\n",
       "  <thead>\n",
       "    <tr style=\"text-align: right;\">\n",
       "      <th></th>\n",
       "      <th>Unnamed: 0</th>\n",
       "      <th>Name</th>\n",
       "      <th>Total Population</th>\n",
       "      <th>Public Use Microdata Area</th>\n",
       "      <th>Year</th>\n",
       "    </tr>\n",
       "  </thead>\n",
       "  <tbody>\n",
       "    <tr>\n",
       "      <th>0</th>\n",
       "      <td>0</td>\n",
       "      <td>Jo Daviess, Carroll, Whiteside &amp; Lee Counties ...</td>\n",
       "      <td>132179</td>\n",
       "      <td>104</td>\n",
       "      <td>2012</td>\n",
       "    </tr>\n",
       "    <tr>\n",
       "      <th>1</th>\n",
       "      <td>1</td>\n",
       "      <td>Rock Island County PUMA, Illinois</td>\n",
       "      <td>147504</td>\n",
       "      <td>105</td>\n",
       "      <td>2012</td>\n",
       "    </tr>\n",
       "    <tr>\n",
       "      <th>2</th>\n",
       "      <td>2</td>\n",
       "      <td>Henry, Mercer, Henderson, Warren, Hancock, McD...</td>\n",
       "      <td>180417</td>\n",
       "      <td>202</td>\n",
       "      <td>2012</td>\n",
       "    </tr>\n",
       "    <tr>\n",
       "      <th>3</th>\n",
       "      <td>3</td>\n",
       "      <td>Adams, Pike, Brown, Schuyler &amp; Mason Counties ...</td>\n",
       "      <td>112582</td>\n",
       "      <td>300</td>\n",
       "      <td>2012</td>\n",
       "    </tr>\n",
       "    <tr>\n",
       "      <th>4</th>\n",
       "      <td>4</td>\n",
       "      <td>Cass, Morgan, Scott, Greene, Macoupin, Jersey ...</td>\n",
       "      <td>143980</td>\n",
       "      <td>401</td>\n",
       "      <td>2012</td>\n",
       "    </tr>\n",
       "  </tbody>\n",
       "</table>\n",
       "</div>"
      ],
      "text/plain": [
       "   Unnamed: 0                                               Name  \\\n",
       "0           0  Jo Daviess, Carroll, Whiteside & Lee Counties ...   \n",
       "1           1                  Rock Island County PUMA, Illinois   \n",
       "2           2  Henry, Mercer, Henderson, Warren, Hancock, McD...   \n",
       "3           3  Adams, Pike, Brown, Schuyler & Mason Counties ...   \n",
       "4           4  Cass, Morgan, Scott, Greene, Macoupin, Jersey ...   \n",
       "\n",
       "   Total Population  Public Use Microdata Area  Year  \n",
       "0            132179                        104  2012  \n",
       "1            147504                        105  2012  \n",
       "2            180417                        202  2012  \n",
       "3            112582                        300  2012  \n",
       "4            143980                        401  2012  "
      ]
     },
     "execution_count": 3,
     "metadata": {},
     "output_type": "execute_result"
    }
   ],
   "source": [
    "#get dataframe info\n",
    "population_df.head()"
   ]
  },
  {
   "cell_type": "code",
   "execution_count": 4,
   "metadata": {},
   "outputs": [],
   "source": [
    "#drop extra columns\n",
    "population = population_df[[\"Name\",'Total Population',\"Year\"]]"
   ]
  },
  {
   "cell_type": "code",
   "execution_count": 5,
   "metadata": {},
   "outputs": [
    {
     "data": {
      "text/html": [
       "<div>\n",
       "<style scoped>\n",
       "    .dataframe tbody tr th:only-of-type {\n",
       "        vertical-align: middle;\n",
       "    }\n",
       "\n",
       "    .dataframe tbody tr th {\n",
       "        vertical-align: top;\n",
       "    }\n",
       "\n",
       "    .dataframe thead th {\n",
       "        text-align: right;\n",
       "    }\n",
       "</style>\n",
       "<table border=\"1\" class=\"dataframe\">\n",
       "  <thead>\n",
       "    <tr style=\"text-align: right;\">\n",
       "      <th></th>\n",
       "      <th>Unnamed: 0</th>\n",
       "      <th>Crimes Reported</th>\n",
       "      <th>Crimes Reported.1</th>\n",
       "      <th>Crimes Reported.2</th>\n",
       "      <th>Crimes Reported.3</th>\n",
       "    </tr>\n",
       "  </thead>\n",
       "  <tbody>\n",
       "    <tr>\n",
       "      <th>0</th>\n",
       "      <td>Year</td>\n",
       "      <td>2012.0</td>\n",
       "      <td>2013.0</td>\n",
       "      <td>2014.0</td>\n",
       "      <td>2015.0</td>\n",
       "    </tr>\n",
       "    <tr>\n",
       "      <th>1</th>\n",
       "      <td>Community Area</td>\n",
       "      <td>NaN</td>\n",
       "      <td>NaN</td>\n",
       "      <td>NaN</td>\n",
       "      <td>NaN</td>\n",
       "    </tr>\n",
       "    <tr>\n",
       "      <th>2</th>\n",
       "      <td>0.0</td>\n",
       "      <td>6.0</td>\n",
       "      <td>3.0</td>\n",
       "      <td>2.0</td>\n",
       "      <td>2.0</td>\n",
       "    </tr>\n",
       "    <tr>\n",
       "      <th>3</th>\n",
       "      <td>1.0</td>\n",
       "      <td>4925.0</td>\n",
       "      <td>4433.0</td>\n",
       "      <td>3803.0</td>\n",
       "      <td>3590.0</td>\n",
       "    </tr>\n",
       "    <tr>\n",
       "      <th>4</th>\n",
       "      <td>2.0</td>\n",
       "      <td>4030.0</td>\n",
       "      <td>3810.0</td>\n",
       "      <td>3413.0</td>\n",
       "      <td>3109.0</td>\n",
       "    </tr>\n",
       "  </tbody>\n",
       "</table>\n",
       "</div>"
      ],
      "text/plain": [
       "       Unnamed: 0  Crimes Reported  Crimes Reported.1  Crimes Reported.2  \\\n",
       "0            Year           2012.0             2013.0             2014.0   \n",
       "1  Community Area              NaN                NaN                NaN   \n",
       "2             0.0              6.0                3.0                2.0   \n",
       "3             1.0           4925.0             4433.0             3803.0   \n",
       "4             2.0           4030.0             3810.0             3413.0   \n",
       "\n",
       "   Crimes Reported.3  \n",
       "0             2015.0  \n",
       "1                NaN  \n",
       "2                2.0  \n",
       "3             3590.0  \n",
       "4             3109.0  "
      ]
     },
     "execution_count": 5,
     "metadata": {},
     "output_type": "execute_result"
    }
   ],
   "source": [
    "crime_df.keys()\n",
    "crime_df.head()"
   ]
  },
  {
   "cell_type": "code",
   "execution_count": 6,
   "metadata": {},
   "outputs": [
    {
     "data": {
      "text/html": [
       "<div>\n",
       "<style scoped>\n",
       "    .dataframe tbody tr th:only-of-type {\n",
       "        vertical-align: middle;\n",
       "    }\n",
       "\n",
       "    .dataframe tbody tr th {\n",
       "        vertical-align: top;\n",
       "    }\n",
       "\n",
       "    .dataframe thead th {\n",
       "        text-align: right;\n",
       "    }\n",
       "</style>\n",
       "<table border=\"1\" class=\"dataframe\">\n",
       "  <thead>\n",
       "    <tr style=\"text-align: right;\">\n",
       "      <th></th>\n",
       "      <th>Community Area</th>\n",
       "      <th>2012</th>\n",
       "      <th>2013</th>\n",
       "      <th>2014</th>\n",
       "      <th>2015</th>\n",
       "    </tr>\n",
       "  </thead>\n",
       "  <tbody>\n",
       "    <tr>\n",
       "      <th>0</th>\n",
       "      <td>Year</td>\n",
       "      <td>2012.0</td>\n",
       "      <td>2013.0</td>\n",
       "      <td>2014.0</td>\n",
       "      <td>2015.0</td>\n",
       "    </tr>\n",
       "    <tr>\n",
       "      <th>1</th>\n",
       "      <td>Community Area</td>\n",
       "      <td>NaN</td>\n",
       "      <td>NaN</td>\n",
       "      <td>NaN</td>\n",
       "      <td>NaN</td>\n",
       "    </tr>\n",
       "    <tr>\n",
       "      <th>2</th>\n",
       "      <td>0.0</td>\n",
       "      <td>6.0</td>\n",
       "      <td>3.0</td>\n",
       "      <td>2.0</td>\n",
       "      <td>2.0</td>\n",
       "    </tr>\n",
       "    <tr>\n",
       "      <th>3</th>\n",
       "      <td>1.0</td>\n",
       "      <td>4925.0</td>\n",
       "      <td>4433.0</td>\n",
       "      <td>3803.0</td>\n",
       "      <td>3590.0</td>\n",
       "    </tr>\n",
       "    <tr>\n",
       "      <th>4</th>\n",
       "      <td>2.0</td>\n",
       "      <td>4030.0</td>\n",
       "      <td>3810.0</td>\n",
       "      <td>3413.0</td>\n",
       "      <td>3109.0</td>\n",
       "    </tr>\n",
       "  </tbody>\n",
       "</table>\n",
       "</div>"
      ],
      "text/plain": [
       "   Community Area    2012    2013    2014    2015\n",
       "0            Year  2012.0  2013.0  2014.0  2015.0\n",
       "1  Community Area     NaN     NaN     NaN     NaN\n",
       "2             0.0     6.0     3.0     2.0     2.0\n",
       "3             1.0  4925.0  4433.0  3803.0  3590.0\n",
       "4             2.0  4030.0  3810.0  3413.0  3109.0"
      ]
     },
     "execution_count": 6,
     "metadata": {},
     "output_type": "execute_result"
    }
   ],
   "source": [
    "#change name for crime_df columns and remove first three rows\n",
    "crime_df_1 = crime_df.rename(columns={'Unnamed: 0':'Community Area', 'Crimes Reported':\"2012\", 'Crimes Reported.1':'2013',\n",
    "       'Crimes Reported.2':'2014', 'Crimes Reported.3':'2015'})\n",
    "crime_df_1.head()"
   ]
  },
  {
   "cell_type": "code",
   "execution_count": 7,
   "metadata": {},
   "outputs": [],
   "source": [
    "crime_df_2 = crime_df_1.drop([0,1,2])"
   ]
  },
  {
   "cell_type": "code",
   "execution_count": 8,
   "metadata": {},
   "outputs": [
    {
     "data": {
      "text/html": [
       "<div>\n",
       "<style scoped>\n",
       "    .dataframe tbody tr th:only-of-type {\n",
       "        vertical-align: middle;\n",
       "    }\n",
       "\n",
       "    .dataframe tbody tr th {\n",
       "        vertical-align: top;\n",
       "    }\n",
       "\n",
       "    .dataframe thead th {\n",
       "        text-align: right;\n",
       "    }\n",
       "</style>\n",
       "<table border=\"1\" class=\"dataframe\">\n",
       "  <thead>\n",
       "    <tr style=\"text-align: right;\">\n",
       "      <th></th>\n",
       "      <th>Community Area</th>\n",
       "      <th>2012</th>\n",
       "      <th>2013</th>\n",
       "      <th>2014</th>\n",
       "      <th>2015</th>\n",
       "    </tr>\n",
       "  </thead>\n",
       "  <tbody>\n",
       "    <tr>\n",
       "      <th>3</th>\n",
       "      <td>1.0</td>\n",
       "      <td>4925.0</td>\n",
       "      <td>4433.0</td>\n",
       "      <td>3803.0</td>\n",
       "      <td>3590.0</td>\n",
       "    </tr>\n",
       "    <tr>\n",
       "      <th>4</th>\n",
       "      <td>2.0</td>\n",
       "      <td>4030.0</td>\n",
       "      <td>3810.0</td>\n",
       "      <td>3413.0</td>\n",
       "      <td>3109.0</td>\n",
       "    </tr>\n",
       "    <tr>\n",
       "      <th>5</th>\n",
       "      <td>3.0</td>\n",
       "      <td>4976.0</td>\n",
       "      <td>4289.0</td>\n",
       "      <td>3815.0</td>\n",
       "      <td>3662.0</td>\n",
       "    </tr>\n",
       "    <tr>\n",
       "      <th>6</th>\n",
       "      <td>4.0</td>\n",
       "      <td>2338.0</td>\n",
       "      <td>2218.0</td>\n",
       "      <td>1898.0</td>\n",
       "      <td>1770.0</td>\n",
       "    </tr>\n",
       "    <tr>\n",
       "      <th>7</th>\n",
       "      <td>5.0</td>\n",
       "      <td>1920.0</td>\n",
       "      <td>1723.0</td>\n",
       "      <td>1541.0</td>\n",
       "      <td>1395.0</td>\n",
       "    </tr>\n",
       "  </tbody>\n",
       "</table>\n",
       "</div>"
      ],
      "text/plain": [
       "  Community Area    2012    2013    2014    2015\n",
       "3            1.0  4925.0  4433.0  3803.0  3590.0\n",
       "4            2.0  4030.0  3810.0  3413.0  3109.0\n",
       "5            3.0  4976.0  4289.0  3815.0  3662.0\n",
       "6            4.0  2338.0  2218.0  1898.0  1770.0\n",
       "7            5.0  1920.0  1723.0  1541.0  1395.0"
      ]
     },
     "execution_count": 8,
     "metadata": {},
     "output_type": "execute_result"
    }
   ],
   "source": [
    "#check crime_df\n",
    "crime_df_2.count()\n",
    "crime_df_2.head()"
   ]
  },
  {
   "cell_type": "code",
   "execution_count": 9,
   "metadata": {},
   "outputs": [],
   "source": [
    "crime_df_2.dtypes\n",
    "crime_df_2['Community Area'] = crime_df_2['Community Area'].astype(float)"
   ]
  },
  {
   "cell_type": "code",
   "execution_count": 10,
   "metadata": {},
   "outputs": [
    {
     "data": {
      "text/html": [
       "<div>\n",
       "<style scoped>\n",
       "    .dataframe tbody tr th:only-of-type {\n",
       "        vertical-align: middle;\n",
       "    }\n",
       "\n",
       "    .dataframe tbody tr th {\n",
       "        vertical-align: top;\n",
       "    }\n",
       "\n",
       "    .dataframe thead th {\n",
       "        text-align: right;\n",
       "    }\n",
       "</style>\n",
       "<table border=\"1\" class=\"dataframe\">\n",
       "  <thead>\n",
       "    <tr style=\"text-align: right;\">\n",
       "      <th></th>\n",
       "      <th>Community Area</th>\n",
       "      <th>2015</th>\n",
       "    </tr>\n",
       "  </thead>\n",
       "  <tbody>\n",
       "    <tr>\n",
       "      <th>3</th>\n",
       "      <td>1.0</td>\n",
       "      <td>3590.0</td>\n",
       "    </tr>\n",
       "    <tr>\n",
       "      <th>4</th>\n",
       "      <td>2.0</td>\n",
       "      <td>3109.0</td>\n",
       "    </tr>\n",
       "    <tr>\n",
       "      <th>5</th>\n",
       "      <td>3.0</td>\n",
       "      <td>3662.0</td>\n",
       "    </tr>\n",
       "    <tr>\n",
       "      <th>6</th>\n",
       "      <td>4.0</td>\n",
       "      <td>1770.0</td>\n",
       "    </tr>\n",
       "    <tr>\n",
       "      <th>7</th>\n",
       "      <td>5.0</td>\n",
       "      <td>1395.0</td>\n",
       "    </tr>\n",
       "  </tbody>\n",
       "</table>\n",
       "</div>"
      ],
      "text/plain": [
       "   Community Area    2015\n",
       "3             1.0  3590.0\n",
       "4             2.0  3109.0\n",
       "5             3.0  3662.0\n",
       "6             4.0  1770.0\n",
       "7             5.0  1395.0"
      ]
     },
     "execution_count": 10,
     "metadata": {},
     "output_type": "execute_result"
    }
   ],
   "source": [
    "#unstack crime data to match up with population better\n",
    "crime_2012 = crime_df_2[[\"Community Area\",'2012']]\n",
    "crime_2013 = crime_df_2[[\"Community Area\",'2013']]\n",
    "crime_2014 = crime_df_2[[\"Community Area\",'2014']]\n",
    "crime_2015 = crime_df_2[[\"Community Area\",'2015']]\n",
    "crime_2015.head()"
   ]
  },
  {
   "cell_type": "code",
   "execution_count": 11,
   "metadata": {},
   "outputs": [
    {
     "data": {
      "text/html": [
       "<div>\n",
       "<style scoped>\n",
       "    .dataframe tbody tr th:only-of-type {\n",
       "        vertical-align: middle;\n",
       "    }\n",
       "\n",
       "    .dataframe tbody tr th {\n",
       "        vertical-align: top;\n",
       "    }\n",
       "\n",
       "    .dataframe thead th {\n",
       "        text-align: right;\n",
       "    }\n",
       "</style>\n",
       "<table border=\"1\" class=\"dataframe\">\n",
       "  <thead>\n",
       "    <tr style=\"text-align: right;\">\n",
       "      <th></th>\n",
       "      <th>Community Area</th>\n",
       "      <th>Total Crimes</th>\n",
       "    </tr>\n",
       "  </thead>\n",
       "  <tbody>\n",
       "    <tr>\n",
       "      <th>3</th>\n",
       "      <td>1.0</td>\n",
       "      <td>3590.0</td>\n",
       "    </tr>\n",
       "    <tr>\n",
       "      <th>4</th>\n",
       "      <td>2.0</td>\n",
       "      <td>3109.0</td>\n",
       "    </tr>\n",
       "    <tr>\n",
       "      <th>5</th>\n",
       "      <td>3.0</td>\n",
       "      <td>3662.0</td>\n",
       "    </tr>\n",
       "    <tr>\n",
       "      <th>6</th>\n",
       "      <td>4.0</td>\n",
       "      <td>1770.0</td>\n",
       "    </tr>\n",
       "    <tr>\n",
       "      <th>7</th>\n",
       "      <td>5.0</td>\n",
       "      <td>1395.0</td>\n",
       "    </tr>\n",
       "  </tbody>\n",
       "</table>\n",
       "</div>"
      ],
      "text/plain": [
       "   Community Area  Total Crimes\n",
       "3             1.0        3590.0\n",
       "4             2.0        3109.0\n",
       "5             3.0        3662.0\n",
       "6             4.0        1770.0\n",
       "7             5.0        1395.0"
      ]
     },
     "execution_count": 11,
     "metadata": {},
     "output_type": "execute_result"
    }
   ],
   "source": [
    "#Rename dataframes\n",
    "crime_2012 = crime_2012.rename(columns={'2012':'Total Crimes'})\n",
    "crime_2013 = crime_2013.rename(columns={'2013':'Total Crimes'})\n",
    "crime_2014 = crime_2014.rename(columns={'2014':'Total Crimes'})\n",
    "crime_2015 = crime_2015.rename(columns={'2015':'Total Crimes'})\n",
    "crime_2015.head()"
   ]
  },
  {
   "cell_type": "code",
   "execution_count": 12,
   "metadata": {},
   "outputs": [
    {
     "data": {
      "text/html": [
       "<div>\n",
       "<style scoped>\n",
       "    .dataframe tbody tr th:only-of-type {\n",
       "        vertical-align: middle;\n",
       "    }\n",
       "\n",
       "    .dataframe tbody tr th {\n",
       "        vertical-align: top;\n",
       "    }\n",
       "\n",
       "    .dataframe thead th {\n",
       "        text-align: right;\n",
       "    }\n",
       "</style>\n",
       "<table border=\"1\" class=\"dataframe\">\n",
       "  <thead>\n",
       "    <tr style=\"text-align: right;\">\n",
       "      <th></th>\n",
       "      <th>Community Area</th>\n",
       "      <th>Total Crimes</th>\n",
       "      <th>Year</th>\n",
       "    </tr>\n",
       "  </thead>\n",
       "  <tbody>\n",
       "    <tr>\n",
       "      <th>3</th>\n",
       "      <td>1.0</td>\n",
       "      <td>3590.0</td>\n",
       "      <td>2015</td>\n",
       "    </tr>\n",
       "    <tr>\n",
       "      <th>4</th>\n",
       "      <td>2.0</td>\n",
       "      <td>3109.0</td>\n",
       "      <td>2015</td>\n",
       "    </tr>\n",
       "    <tr>\n",
       "      <th>5</th>\n",
       "      <td>3.0</td>\n",
       "      <td>3662.0</td>\n",
       "      <td>2015</td>\n",
       "    </tr>\n",
       "    <tr>\n",
       "      <th>6</th>\n",
       "      <td>4.0</td>\n",
       "      <td>1770.0</td>\n",
       "      <td>2015</td>\n",
       "    </tr>\n",
       "    <tr>\n",
       "      <th>7</th>\n",
       "      <td>5.0</td>\n",
       "      <td>1395.0</td>\n",
       "      <td>2015</td>\n",
       "    </tr>\n",
       "  </tbody>\n",
       "</table>\n",
       "</div>"
      ],
      "text/plain": [
       "   Community Area  Total Crimes  Year\n",
       "3             1.0        3590.0  2015\n",
       "4             2.0        3109.0  2015\n",
       "5             3.0        3662.0  2015\n",
       "6             4.0        1770.0  2015\n",
       "7             5.0        1395.0  2015"
      ]
     },
     "execution_count": 12,
     "metadata": {},
     "output_type": "execute_result"
    }
   ],
   "source": [
    "#Add year column to dataframes\n",
    "crime_2012[\"Year\"]=2012\n",
    "crime_2013[\"Year\"]=2013\n",
    "crime_2014[\"Year\"]=2014\n",
    "crime_2015[\"Year\"]=2015\n",
    "crime_2015.head()\n",
    "\n"
   ]
  },
  {
   "cell_type": "code",
   "execution_count": 13,
   "metadata": {},
   "outputs": [
    {
     "data": {
      "text/plain": [
       "Community Area    308\n",
       "Total Crimes      308\n",
       "Year              308\n",
       "dtype: int64"
      ]
     },
     "execution_count": 13,
     "metadata": {},
     "output_type": "execute_result"
    }
   ],
   "source": [
    "#add crime dfs together\n",
    "crime_total = crime_2012.append(crime_2013, sort=True)\n",
    "crime_total = crime_total.append(crime_2014, sort=True)\n",
    "crime_total = crime_total.append(crime_2015, sort=True)\n",
    "crime_total.count()"
   ]
  },
  {
   "cell_type": "code",
   "execution_count": 14,
   "metadata": {},
   "outputs": [
    {
     "data": {
      "text/plain": [
       "Index(['Unnamed: 0', 'Community', 'Community \\nNumber', 'Public Use Area'], dtype='object')"
      ]
     },
     "execution_count": 14,
     "metadata": {},
     "output_type": "execute_result"
    }
   ],
   "source": [
    "#check column names for merge\n",
    "census_to_communityarea_key.keys()"
   ]
  },
  {
   "cell_type": "code",
   "execution_count": 15,
   "metadata": {},
   "outputs": [],
   "source": [
    "#rename to match crime_df and population_df\n",
    "census_to_comm = census_to_communityarea_key.rename(columns={\"Community \\nNumber\":'Community Area','Public Use Area':'Name'})"
   ]
  },
  {
   "cell_type": "code",
   "execution_count": 16,
   "metadata": {},
   "outputs": [],
   "source": [
    "#merge census areas to crime data\n",
    "crime_to_census = pd.merge(crime_total, census_to_comm, how='outer', on=['Community Area'])\n"
   ]
  },
  {
   "cell_type": "code",
   "execution_count": 17,
   "metadata": {},
   "outputs": [
    {
     "data": {
      "text/plain": [
       "Community Area    308\n",
       "Total Crimes      308\n",
       "Year              308\n",
       "Unnamed: 0        308\n",
       "Community         308\n",
       "Name              260\n",
       "dtype: int64"
      ]
     },
     "execution_count": 17,
     "metadata": {},
     "output_type": "execute_result"
    }
   ],
   "source": [
    "#check merge\n",
    "crime_to_census.head()\n",
    "crime_to_census.count()"
   ]
  },
  {
   "cell_type": "code",
   "execution_count": 18,
   "metadata": {},
   "outputs": [],
   "source": [
    "#drop na values where community areas don't match up to census data\n",
    "crime_to_census = crime_to_census.dropna()"
   ]
  },
  {
   "cell_type": "code",
   "execution_count": 19,
   "metadata": {},
   "outputs": [
    {
     "data": {
      "text/plain": [
       "Community Area     65\n",
       "Total Crimes      252\n",
       "Year                4\n",
       "Unnamed: 0         65\n",
       "Community          65\n",
       "Name               19\n",
       "dtype: int64"
      ]
     },
     "execution_count": 19,
     "metadata": {},
     "output_type": "execute_result"
    }
   ],
   "source": [
    "#check again\n",
    "crime_to_census.count()\n",
    "crime_to_census.nunique()"
   ]
  },
  {
   "cell_type": "code",
   "execution_count": 20,
   "metadata": {},
   "outputs": [],
   "source": [
    "#sum all of the community area crimes to match the census by year\n",
    "crime_to_census_gb = crime_to_census.groupby(['Year','Name'], as_index=False)['Total Crimes'].sum()"
   ]
  },
  {
   "cell_type": "code",
   "execution_count": 21,
   "metadata": {},
   "outputs": [
    {
     "data": {
      "text/html": [
       "<div>\n",
       "<style scoped>\n",
       "    .dataframe tbody tr th:only-of-type {\n",
       "        vertical-align: middle;\n",
       "    }\n",
       "\n",
       "    .dataframe tbody tr th {\n",
       "        vertical-align: top;\n",
       "    }\n",
       "\n",
       "    .dataframe thead th {\n",
       "        text-align: right;\n",
       "    }\n",
       "</style>\n",
       "<table border=\"1\" class=\"dataframe\">\n",
       "  <thead>\n",
       "    <tr style=\"text-align: right;\">\n",
       "      <th></th>\n",
       "      <th>Year</th>\n",
       "      <th>Name</th>\n",
       "      <th>Total Crimes</th>\n",
       "    </tr>\n",
       "  </thead>\n",
       "  <tbody>\n",
       "    <tr>\n",
       "      <th>0</th>\n",
       "      <td>2012</td>\n",
       "      <td>Chicago City (Central)--Near North Side, Loop ...</td>\n",
       "      <td>20927.0</td>\n",
       "    </tr>\n",
       "    <tr>\n",
       "      <th>1</th>\n",
       "      <td>2012</td>\n",
       "      <td>Chicago City (North)--Edgewater, Uptown &amp; Roge...</td>\n",
       "      <td>13177.0</td>\n",
       "    </tr>\n",
       "    <tr>\n",
       "      <th>2</th>\n",
       "      <td>2012</td>\n",
       "      <td>Chicago City (North)--Lake View &amp; Lincoln Park...</td>\n",
       "      <td>12706.0</td>\n",
       "    </tr>\n",
       "    <tr>\n",
       "      <th>3</th>\n",
       "      <td>2012</td>\n",
       "      <td>Chicago City (North)--West Ridge, Lincoln Squa...</td>\n",
       "      <td>8288.0</td>\n",
       "    </tr>\n",
       "    <tr>\n",
       "      <th>4</th>\n",
       "      <td>2012</td>\n",
       "      <td>Chicago City (Northwest)--Irving Park, Albany ...</td>\n",
       "      <td>8567.0</td>\n",
       "    </tr>\n",
       "  </tbody>\n",
       "</table>\n",
       "</div>"
      ],
      "text/plain": [
       "   Year                                               Name  Total Crimes\n",
       "0  2012  Chicago City (Central)--Near North Side, Loop ...       20927.0\n",
       "1  2012  Chicago City (North)--Edgewater, Uptown & Roge...       13177.0\n",
       "2  2012  Chicago City (North)--Lake View & Lincoln Park...       12706.0\n",
       "3  2012  Chicago City (North)--West Ridge, Lincoln Squa...        8288.0\n",
       "4  2012  Chicago City (Northwest)--Irving Park, Albany ...        8567.0"
      ]
     },
     "execution_count": 21,
     "metadata": {},
     "output_type": "execute_result"
    }
   ],
   "source": [
    "#display groupby\n",
    "crime_to_census_gb.head()"
   ]
  },
  {
   "cell_type": "code",
   "execution_count": 22,
   "metadata": {},
   "outputs": [
    {
     "data": {
      "text/plain": [
       "Year             4\n",
       "Name            19\n",
       "Total Crimes    76\n",
       "dtype: int64"
      ]
     },
     "execution_count": 22,
     "metadata": {},
     "output_type": "execute_result"
    }
   ],
   "source": [
    "crime_to_census_gb.nunique()"
   ]
  },
  {
   "cell_type": "code",
   "execution_count": 23,
   "metadata": {},
   "outputs": [],
   "source": [
    "#merge population data to census data\n",
    "population_census = pd.merge(crime_to_census_gb, population, how='left', on=['Name','Year'])\n",
    "\n"
   ]
  },
  {
   "cell_type": "code",
   "execution_count": 24,
   "metadata": {},
   "outputs": [
    {
     "data": {
      "text/plain": [
       "Year                 4\n",
       "Name                19\n",
       "Total Crimes        76\n",
       "Total Population    76\n",
       "dtype: int64"
      ]
     },
     "execution_count": 24,
     "metadata": {},
     "output_type": "execute_result"
    }
   ],
   "source": [
    "#check dataframe\n",
    "population_census.count()\n",
    "population_census.nunique()"
   ]
  },
  {
   "cell_type": "code",
   "execution_count": 25,
   "metadata": {},
   "outputs": [
    {
     "data": {
      "text/html": [
       "<div>\n",
       "<style scoped>\n",
       "    .dataframe tbody tr th:only-of-type {\n",
       "        vertical-align: middle;\n",
       "    }\n",
       "\n",
       "    .dataframe tbody tr th {\n",
       "        vertical-align: top;\n",
       "    }\n",
       "\n",
       "    .dataframe thead th {\n",
       "        text-align: right;\n",
       "    }\n",
       "</style>\n",
       "<table border=\"1\" class=\"dataframe\">\n",
       "  <thead>\n",
       "    <tr style=\"text-align: right;\">\n",
       "      <th></th>\n",
       "      <th>Year</th>\n",
       "      <th>Name</th>\n",
       "      <th>Total Crimes</th>\n",
       "      <th>Total Population</th>\n",
       "    </tr>\n",
       "  </thead>\n",
       "  <tbody>\n",
       "    <tr>\n",
       "      <th>0</th>\n",
       "      <td>2012</td>\n",
       "      <td>Chicago City (Central)--Near North Side, Loop ...</td>\n",
       "      <td>20927.0</td>\n",
       "      <td>127124</td>\n",
       "    </tr>\n",
       "    <tr>\n",
       "      <th>1</th>\n",
       "      <td>2012</td>\n",
       "      <td>Chicago City (North)--Edgewater, Uptown &amp; Roge...</td>\n",
       "      <td>13177.0</td>\n",
       "      <td>167887</td>\n",
       "    </tr>\n",
       "    <tr>\n",
       "      <th>2</th>\n",
       "      <td>2012</td>\n",
       "      <td>Chicago City (North)--Lake View &amp; Lincoln Park...</td>\n",
       "      <td>12706.0</td>\n",
       "      <td>161170</td>\n",
       "    </tr>\n",
       "    <tr>\n",
       "      <th>3</th>\n",
       "      <td>2012</td>\n",
       "      <td>Chicago City (North)--West Ridge, Lincoln Squa...</td>\n",
       "      <td>8288.0</td>\n",
       "      <td>145745</td>\n",
       "    </tr>\n",
       "    <tr>\n",
       "      <th>4</th>\n",
       "      <td>2012</td>\n",
       "      <td>Chicago City (Northwest)--Irving Park, Albany ...</td>\n",
       "      <td>8567.0</td>\n",
       "      <td>147691</td>\n",
       "    </tr>\n",
       "  </tbody>\n",
       "</table>\n",
       "</div>"
      ],
      "text/plain": [
       "   Year                                               Name  Total Crimes  \\\n",
       "0  2012  Chicago City (Central)--Near North Side, Loop ...       20927.0   \n",
       "1  2012  Chicago City (North)--Edgewater, Uptown & Roge...       13177.0   \n",
       "2  2012  Chicago City (North)--Lake View & Lincoln Park...       12706.0   \n",
       "3  2012  Chicago City (North)--West Ridge, Lincoln Squa...        8288.0   \n",
       "4  2012  Chicago City (Northwest)--Irving Park, Albany ...        8567.0   \n",
       "\n",
       "   Total Population  \n",
       "0            127124  \n",
       "1            167887  \n",
       "2            161170  \n",
       "3            145745  \n",
       "4            147691  "
      ]
     },
     "execution_count": 25,
     "metadata": {},
     "output_type": "execute_result"
    }
   ],
   "source": [
    "population_census.head()"
   ]
  },
  {
   "cell_type": "code",
   "execution_count": 26,
   "metadata": {},
   "outputs": [],
   "source": [
    "#crime per capita by census area\n",
    "population_census[\"Crime Per Capita\"] = population_census.apply(lambda row: row['Total Crimes'] / row['Total Population'], axis=1)"
   ]
  },
  {
   "cell_type": "code",
   "execution_count": 27,
   "metadata": {},
   "outputs": [
    {
     "data": {
      "text/html": [
       "<div>\n",
       "<style scoped>\n",
       "    .dataframe tbody tr th:only-of-type {\n",
       "        vertical-align: middle;\n",
       "    }\n",
       "\n",
       "    .dataframe tbody tr th {\n",
       "        vertical-align: top;\n",
       "    }\n",
       "\n",
       "    .dataframe thead th {\n",
       "        text-align: right;\n",
       "    }\n",
       "</style>\n",
       "<table border=\"1\" class=\"dataframe\">\n",
       "  <thead>\n",
       "    <tr style=\"text-align: right;\">\n",
       "      <th></th>\n",
       "      <th>Year</th>\n",
       "      <th>Name</th>\n",
       "      <th>Total Crimes</th>\n",
       "      <th>Total Population</th>\n",
       "      <th>Crime Per Capita</th>\n",
       "    </tr>\n",
       "  </thead>\n",
       "  <tbody>\n",
       "    <tr>\n",
       "      <th>0</th>\n",
       "      <td>2012</td>\n",
       "      <td>Chicago City (Central)--Near North Side, Loop ...</td>\n",
       "      <td>20927.0</td>\n",
       "      <td>127124</td>\n",
       "      <td>0.164619</td>\n",
       "    </tr>\n",
       "    <tr>\n",
       "      <th>1</th>\n",
       "      <td>2012</td>\n",
       "      <td>Chicago City (North)--Edgewater, Uptown &amp; Roge...</td>\n",
       "      <td>13177.0</td>\n",
       "      <td>167887</td>\n",
       "      <td>0.078487</td>\n",
       "    </tr>\n",
       "    <tr>\n",
       "      <th>2</th>\n",
       "      <td>2012</td>\n",
       "      <td>Chicago City (North)--Lake View &amp; Lincoln Park...</td>\n",
       "      <td>12706.0</td>\n",
       "      <td>161170</td>\n",
       "      <td>0.078836</td>\n",
       "    </tr>\n",
       "    <tr>\n",
       "      <th>3</th>\n",
       "      <td>2012</td>\n",
       "      <td>Chicago City (North)--West Ridge, Lincoln Squa...</td>\n",
       "      <td>8288.0</td>\n",
       "      <td>145745</td>\n",
       "      <td>0.056866</td>\n",
       "    </tr>\n",
       "    <tr>\n",
       "      <th>4</th>\n",
       "      <td>2012</td>\n",
       "      <td>Chicago City (Northwest)--Irving Park, Albany ...</td>\n",
       "      <td>8567.0</td>\n",
       "      <td>147691</td>\n",
       "      <td>0.058006</td>\n",
       "    </tr>\n",
       "  </tbody>\n",
       "</table>\n",
       "</div>"
      ],
      "text/plain": [
       "   Year                                               Name  Total Crimes  \\\n",
       "0  2012  Chicago City (Central)--Near North Side, Loop ...       20927.0   \n",
       "1  2012  Chicago City (North)--Edgewater, Uptown & Roge...       13177.0   \n",
       "2  2012  Chicago City (North)--Lake View & Lincoln Park...       12706.0   \n",
       "3  2012  Chicago City (North)--West Ridge, Lincoln Squa...        8288.0   \n",
       "4  2012  Chicago City (Northwest)--Irving Park, Albany ...        8567.0   \n",
       "\n",
       "   Total Population  Crime Per Capita  \n",
       "0            127124          0.164619  \n",
       "1            167887          0.078487  \n",
       "2            161170          0.078836  \n",
       "3            145745          0.056866  \n",
       "4            147691          0.058006  "
      ]
     },
     "execution_count": 27,
     "metadata": {},
     "output_type": "execute_result"
    }
   ],
   "source": [
    "population_census.head()"
   ]
  },
  {
   "cell_type": "code",
   "execution_count": 28,
   "metadata": {},
   "outputs": [
    {
     "data": {
      "text/html": [
       "<div>\n",
       "<style scoped>\n",
       "    .dataframe tbody tr th:only-of-type {\n",
       "        vertical-align: middle;\n",
       "    }\n",
       "\n",
       "    .dataframe tbody tr th {\n",
       "        vertical-align: top;\n",
       "    }\n",
       "\n",
       "    .dataframe thead th {\n",
       "        text-align: right;\n",
       "    }\n",
       "</style>\n",
       "<table border=\"1\" class=\"dataframe\">\n",
       "  <thead>\n",
       "    <tr style=\"text-align: right;\">\n",
       "      <th></th>\n",
       "      <th>Year</th>\n",
       "      <th>Name</th>\n",
       "      <th>Crime Per Capita</th>\n",
       "    </tr>\n",
       "  </thead>\n",
       "  <tbody>\n",
       "    <tr>\n",
       "      <th>0</th>\n",
       "      <td>2012</td>\n",
       "      <td>Chicago City (Central)--Near North Side, Loop ...</td>\n",
       "      <td>0.164619</td>\n",
       "    </tr>\n",
       "    <tr>\n",
       "      <th>1</th>\n",
       "      <td>2012</td>\n",
       "      <td>Chicago City (North)--Edgewater, Uptown &amp; Roge...</td>\n",
       "      <td>0.078487</td>\n",
       "    </tr>\n",
       "    <tr>\n",
       "      <th>2</th>\n",
       "      <td>2012</td>\n",
       "      <td>Chicago City (North)--Lake View &amp; Lincoln Park...</td>\n",
       "      <td>0.078836</td>\n",
       "    </tr>\n",
       "    <tr>\n",
       "      <th>3</th>\n",
       "      <td>2012</td>\n",
       "      <td>Chicago City (North)--West Ridge, Lincoln Squa...</td>\n",
       "      <td>0.056866</td>\n",
       "    </tr>\n",
       "    <tr>\n",
       "      <th>4</th>\n",
       "      <td>2012</td>\n",
       "      <td>Chicago City (Northwest)--Irving Park, Albany ...</td>\n",
       "      <td>0.058006</td>\n",
       "    </tr>\n",
       "  </tbody>\n",
       "</table>\n",
       "</div>"
      ],
      "text/plain": [
       "   Year                                               Name  Crime Per Capita\n",
       "0  2012  Chicago City (Central)--Near North Side, Loop ...          0.164619\n",
       "1  2012  Chicago City (North)--Edgewater, Uptown & Roge...          0.078487\n",
       "2  2012  Chicago City (North)--Lake View & Lincoln Park...          0.078836\n",
       "3  2012  Chicago City (North)--West Ridge, Lincoln Squa...          0.056866\n",
       "4  2012  Chicago City (Northwest)--Irving Park, Albany ...          0.058006"
      ]
     },
     "execution_count": 28,
     "metadata": {},
     "output_type": "execute_result"
    }
   ],
   "source": [
    "#pull out crime data\n",
    "crime_rate_df = population_census[[\"Year\",'Name','Crime Per Capita']]\n",
    "crime_rate_df.head()"
   ]
  },
  {
   "cell_type": "code",
   "execution_count": 29,
   "metadata": {},
   "outputs": [
    {
     "data": {
      "text/html": [
       "<div>\n",
       "<style scoped>\n",
       "    .dataframe tbody tr th:only-of-type {\n",
       "        vertical-align: middle;\n",
       "    }\n",
       "\n",
       "    .dataframe tbody tr th {\n",
       "        vertical-align: top;\n",
       "    }\n",
       "\n",
       "    .dataframe thead th {\n",
       "        text-align: right;\n",
       "    }\n",
       "</style>\n",
       "<table border=\"1\" class=\"dataframe\">\n",
       "  <thead>\n",
       "    <tr style=\"text-align: right;\">\n",
       "      <th>Year</th>\n",
       "      <th>2012</th>\n",
       "      <th>2013</th>\n",
       "      <th>2014</th>\n",
       "      <th>2015</th>\n",
       "    </tr>\n",
       "    <tr>\n",
       "      <th>Name</th>\n",
       "      <th></th>\n",
       "      <th></th>\n",
       "      <th></th>\n",
       "      <th></th>\n",
       "    </tr>\n",
       "  </thead>\n",
       "  <tbody>\n",
       "    <tr>\n",
       "      <th>Chicago City (Central)--Near North Side, Loop &amp; Near South Side PUMA; Illinois</th>\n",
       "      <td>0.164619</td>\n",
       "      <td>0.148385</td>\n",
       "      <td>0.131907</td>\n",
       "      <td>0.131038</td>\n",
       "    </tr>\n",
       "    <tr>\n",
       "      <th>Chicago City (North)--Edgewater, Uptown &amp; Rogers Park PUMA; Illinois</th>\n",
       "      <td>0.078487</td>\n",
       "      <td>0.068419</td>\n",
       "      <td>0.060520</td>\n",
       "      <td>0.057836</td>\n",
       "    </tr>\n",
       "    <tr>\n",
       "      <th>Chicago City (North)--Lake View &amp; Lincoln Park PUMA, Illinois</th>\n",
       "      <td>0.078836</td>\n",
       "      <td>0.069587</td>\n",
       "      <td>0.059700</td>\n",
       "      <td>0.056632</td>\n",
       "    </tr>\n",
       "    <tr>\n",
       "      <th>Chicago City (North)--West Ridge, Lincoln Square &amp; North Center PUMA; Illinois</th>\n",
       "      <td>0.056866</td>\n",
       "      <td>0.052906</td>\n",
       "      <td>0.046492</td>\n",
       "      <td>0.042508</td>\n",
       "    </tr>\n",
       "    <tr>\n",
       "      <th>Chicago City (Northwest)--Irving Park, Albany Park, Forest Glen &amp; North Park PUMA; Illinois</th>\n",
       "      <td>0.058006</td>\n",
       "      <td>0.050690</td>\n",
       "      <td>0.045137</td>\n",
       "      <td>0.047066</td>\n",
       "    </tr>\n",
       "  </tbody>\n",
       "</table>\n",
       "</div>"
      ],
      "text/plain": [
       "Year                                                    2012      2013  \\\n",
       "Name                                                                     \n",
       "Chicago City (Central)--Near North Side, Loop &...  0.164619  0.148385   \n",
       "Chicago City (North)--Edgewater, Uptown & Roger...  0.078487  0.068419   \n",
       "Chicago City (North)--Lake View & Lincoln Park ...  0.078836  0.069587   \n",
       "Chicago City (North)--West Ridge, Lincoln Squar...  0.056866  0.052906   \n",
       "Chicago City (Northwest)--Irving Park, Albany P...  0.058006  0.050690   \n",
       "\n",
       "Year                                                    2014      2015  \n",
       "Name                                                                    \n",
       "Chicago City (Central)--Near North Side, Loop &...  0.131907  0.131038  \n",
       "Chicago City (North)--Edgewater, Uptown & Roger...  0.060520  0.057836  \n",
       "Chicago City (North)--Lake View & Lincoln Park ...  0.059700  0.056632  \n",
       "Chicago City (North)--West Ridge, Lincoln Squar...  0.046492  0.042508  \n",
       "Chicago City (Northwest)--Irving Park, Albany P...  0.045137  0.047066  "
      ]
     },
     "execution_count": 29,
     "metadata": {},
     "output_type": "execute_result"
    }
   ],
   "source": [
    "#pivot crime data by year\n",
    "crime_rate_pivot = crime_rate_df.pivot(index='Name',columns='Year', values='Crime Per Capita')\n",
    "crime_rate_pivot.head()"
   ]
  },
  {
   "cell_type": "code",
   "execution_count": 30,
   "metadata": {},
   "outputs": [],
   "source": [
    "crime_rate_pivot = crime_rate_pivot.reset_index()"
   ]
  },
  {
   "cell_type": "code",
   "execution_count": 31,
   "metadata": {},
   "outputs": [
    {
     "data": {
      "text/html": [
       "<div>\n",
       "<style scoped>\n",
       "    .dataframe tbody tr th:only-of-type {\n",
       "        vertical-align: middle;\n",
       "    }\n",
       "\n",
       "    .dataframe tbody tr th {\n",
       "        vertical-align: top;\n",
       "    }\n",
       "\n",
       "    .dataframe thead th {\n",
       "        text-align: right;\n",
       "    }\n",
       "</style>\n",
       "<table border=\"1\" class=\"dataframe\">\n",
       "  <thead>\n",
       "    <tr style=\"text-align: right;\">\n",
       "      <th>Year</th>\n",
       "      <th>Name</th>\n",
       "      <th>2012</th>\n",
       "      <th>2013</th>\n",
       "      <th>2014</th>\n",
       "      <th>2015</th>\n",
       "    </tr>\n",
       "  </thead>\n",
       "  <tbody>\n",
       "    <tr>\n",
       "      <th>0</th>\n",
       "      <td>Chicago City (Central)--Near North Side, Loop ...</td>\n",
       "      <td>0.164619</td>\n",
       "      <td>0.148385</td>\n",
       "      <td>0.131907</td>\n",
       "      <td>0.131038</td>\n",
       "    </tr>\n",
       "    <tr>\n",
       "      <th>1</th>\n",
       "      <td>Chicago City (North)--Edgewater, Uptown &amp; Roge...</td>\n",
       "      <td>0.078487</td>\n",
       "      <td>0.068419</td>\n",
       "      <td>0.060520</td>\n",
       "      <td>0.057836</td>\n",
       "    </tr>\n",
       "    <tr>\n",
       "      <th>2</th>\n",
       "      <td>Chicago City (North)--Lake View &amp; Lincoln Park...</td>\n",
       "      <td>0.078836</td>\n",
       "      <td>0.069587</td>\n",
       "      <td>0.059700</td>\n",
       "      <td>0.056632</td>\n",
       "    </tr>\n",
       "    <tr>\n",
       "      <th>3</th>\n",
       "      <td>Chicago City (North)--West Ridge, Lincoln Squa...</td>\n",
       "      <td>0.056866</td>\n",
       "      <td>0.052906</td>\n",
       "      <td>0.046492</td>\n",
       "      <td>0.042508</td>\n",
       "    </tr>\n",
       "    <tr>\n",
       "      <th>4</th>\n",
       "      <td>Chicago City (Northwest)--Irving Park, Albany ...</td>\n",
       "      <td>0.058006</td>\n",
       "      <td>0.050690</td>\n",
       "      <td>0.045137</td>\n",
       "      <td>0.047066</td>\n",
       "    </tr>\n",
       "  </tbody>\n",
       "</table>\n",
       "</div>"
      ],
      "text/plain": [
       "Year                                               Name      2012      2013  \\\n",
       "0     Chicago City (Central)--Near North Side, Loop ...  0.164619  0.148385   \n",
       "1     Chicago City (North)--Edgewater, Uptown & Roge...  0.078487  0.068419   \n",
       "2     Chicago City (North)--Lake View & Lincoln Park...  0.078836  0.069587   \n",
       "3     Chicago City (North)--West Ridge, Lincoln Squa...  0.056866  0.052906   \n",
       "4     Chicago City (Northwest)--Irving Park, Albany ...  0.058006  0.050690   \n",
       "\n",
       "Year      2014      2015  \n",
       "0     0.131907  0.131038  \n",
       "1     0.060520  0.057836  \n",
       "2     0.059700  0.056632  \n",
       "3     0.046492  0.042508  \n",
       "4     0.045137  0.047066  "
      ]
     },
     "execution_count": 31,
     "metadata": {},
     "output_type": "execute_result"
    }
   ],
   "source": [
    "crime_rate_pivot.head()"
   ]
  },
  {
   "cell_type": "code",
   "execution_count": 32,
   "metadata": {},
   "outputs": [],
   "source": [
    "crime_rate_pivot = crime_rate_pivot.sort_values(['Name']).reset_index(drop=True)"
   ]
  },
  {
   "cell_type": "code",
   "execution_count": 33,
   "metadata": {},
   "outputs": [
    {
     "data": {
      "text/plain": [
       "Index(['Name', 2012, 2013, 2014, 2015], dtype='object', name='Year')"
      ]
     },
     "execution_count": 33,
     "metadata": {},
     "output_type": "execute_result"
    }
   ],
   "source": [
    "crime_rate_pivot.keys()"
   ]
  },
  {
   "cell_type": "markdown",
   "metadata": {},
   "source": [
    "Made graph to look at crime rate by area, to match to population chart that did not end up getting used (from location_to_population_graph code). Both graphs do not really show much so commenting out the save.png\n",
    "\n",
    "Will be creating another graph lower down to compare individual areas"
   ]
  },
  {
   "cell_type": "code",
   "execution_count": 34,
   "metadata": {},
   "outputs": [],
   "source": [
    "#define chart variables\n",
    "x=np.arange(0,len(crime_rate_pivot[\"Name\"]))\n",
    "y1=crime_rate_pivot[2012]\n",
    "y2=crime_rate_pivot[2013]\n",
    "y3=crime_rate_pivot[2014]\n",
    "y4=crime_rate_pivot[2015]\n",
    "legend = [\"2012\",\"2013\",\"2014\",\"2015\"]"
   ]
  },
  {
   "cell_type": "code",
   "execution_count": 35,
   "metadata": {},
   "outputs": [
    {
     "data": {
      "text/plain": [
       "([<matplotlib.axis.XTick at 0x119977438>,\n",
       "  <matplotlib.axis.XTick at 0x119a5cd68>,\n",
       "  <matplotlib.axis.XTick at 0x119a5cc18>,\n",
       "  <matplotlib.axis.XTick at 0x108b41cc0>,\n",
       "  <matplotlib.axis.XTick at 0x108b4f1d0>,\n",
       "  <matplotlib.axis.XTick at 0x108b4f6a0>,\n",
       "  <matplotlib.axis.XTick at 0x108b4fb70>,\n",
       "  <matplotlib.axis.XTick at 0x108b4fc18>,\n",
       "  <matplotlib.axis.XTick at 0x108b41da0>,\n",
       "  <matplotlib.axis.XTick at 0x108b58588>,\n",
       "  <matplotlib.axis.XTick at 0x108b58a90>,\n",
       "  <matplotlib.axis.XTick at 0x108b58e80>,\n",
       "  <matplotlib.axis.XTick at 0x108b604e0>,\n",
       "  <matplotlib.axis.XTick at 0x108b609e8>,\n",
       "  <matplotlib.axis.XTick at 0x108b60ef0>,\n",
       "  <matplotlib.axis.XTick at 0x1199c3438>,\n",
       "  <matplotlib.axis.XTick at 0x108b60588>,\n",
       "  <matplotlib.axis.XTick at 0x108b58a58>,\n",
       "  <matplotlib.axis.XTick at 0x1199c3668>],\n",
       " <a list of 19 Text xticklabel objects>)"
      ]
     },
     "execution_count": 35,
     "metadata": {},
     "output_type": "execute_result"
    },
    {
     "data": {
      "image/png": "[encoded data removed]",
      "text/plain": [
       "<Figure size 432x288 with 1 Axes>"
      ]
     },
     "metadata": {
      "needs_background": "light"
     },
     "output_type": "display_data"
    }
   ],
   "source": [
    "#graph of population over time\n",
    "fig, ax = plt.subplots()\n",
    "ax.scatter(x, y1, label=\"2012\", alpha=.75)\n",
    "ax.scatter(x, y2, label=\"2013\", alpha=.75)\n",
    "ax.scatter(x, y3, label=\"2014\", alpha=.75)\n",
    "ax.scatter(x, y4, label=\"2015\", alpha=.75)\n",
    "\n",
    "\n",
    "ax.legend(loc=\"upper left\")\n",
    "plt.xlabel(\"Census Area\")\n",
    "plt.ylabel(\"Crime Rate\")\n",
    "plt.title(\"Chicago Crime Rate 2012-2015 by Census Area\")\n",
    "plt.xticks(x)"
   ]
  },
  {
   "cell_type": "code",
   "execution_count": 36,
   "metadata": {},
   "outputs": [],
   "source": [
    "#save figure\n",
    "    #fig.savefig(\"crime_rate_over_time.png\", bbox_inches=\"tight\")"
   ]
  },
  {
   "cell_type": "code",
   "execution_count": 37,
   "metadata": {},
   "outputs": [],
   "source": [
    "#find total crime data, average and percent change"
   ]
  },
  {
   "cell_type": "code",
   "execution_count": 38,
   "metadata": {},
   "outputs": [
    {
     "data": {
      "text/plain": [
       "Year                                                            38285\n",
       "Name                Chicago City (Central)--Near North Side, Loop ...\n",
       "Total Crimes                                                   250510\n",
       "Total Population                                              2974031\n",
       "Crime Per Capita                                              1.58212\n",
       "dtype: object"
      ]
     },
     "execution_count": 38,
     "metadata": {},
     "output_type": "execute_result"
    }
   ],
   "source": [
    "#total crime data\n",
    "sum_2012 = population_census.loc[0:18].sum()\n",
    "sum_2013 = population_census.loc[19:37].sum()\n",
    "sum_2014 = population_census.loc[38:56].sum()\n",
    "sum_2015 = population_census.loc[57:75].sum()\n",
    "sum_2015"
   ]
  },
  {
   "cell_type": "code",
   "execution_count": 39,
   "metadata": {},
   "outputs": [
    {
     "data": {
      "text/plain": [
       "Year                                                             2014\n",
       "Name                Cook County (West)--Leyden, Norwood Park (Sout...\n",
       "Total Crimes                                                     2014\n",
       "Total Population                                               132059\n",
       "Crime Per Capita                                            0.0152508\n",
       "Name: 56, dtype: object"
      ]
     },
     "execution_count": 39,
     "metadata": {},
     "output_type": "execute_result"
    }
   ],
   "source": [
    "#check data with .loc to make sure crime data is split correctly\n",
    "population_census.loc[56]"
   ]
  },
  {
   "cell_type": "code",
   "execution_count": 40,
   "metadata": {},
   "outputs": [],
   "source": [
    "#Total crime rate\n",
    "crime_rate_pivot.loc[19,'Name']=\"Crime Rate All of Chicago\"\n",
    "crime_rate_pivot.loc[19,2012] = sum_2012[2]/sum_2012[3]\n",
    "crime_rate_pivot.loc[19,2013] = sum_2013[2]/sum_2013[3]\n",
    "crime_rate_pivot.loc[19,2014] = sum_2014[2]/sum_2014[3]\n",
    "crime_rate_pivot.loc[19,2015] = sum_2015[2]/sum_2015[3]"
   ]
  },
  {
   "cell_type": "code",
   "execution_count": 41,
   "metadata": {},
   "outputs": [
    {
     "data": {
      "text/html": [
       "<div>\n",
       "<style scoped>\n",
       "    .dataframe tbody tr th:only-of-type {\n",
       "        vertical-align: middle;\n",
       "    }\n",
       "\n",
       "    .dataframe tbody tr th {\n",
       "        vertical-align: top;\n",
       "    }\n",
       "\n",
       "    .dataframe thead th {\n",
       "        text-align: right;\n",
       "    }\n",
       "</style>\n",
       "<table border=\"1\" class=\"dataframe\">\n",
       "  <thead>\n",
       "    <tr style=\"text-align: right;\">\n",
       "      <th>Year</th>\n",
       "      <th>Name</th>\n",
       "      <th>2012</th>\n",
       "      <th>2013</th>\n",
       "      <th>2014</th>\n",
       "      <th>2015</th>\n",
       "    </tr>\n",
       "  </thead>\n",
       "  <tbody>\n",
       "    <tr>\n",
       "      <th>15</th>\n",
       "      <td>Chicago City (West)--North &amp; South Lawndale, H...</td>\n",
       "      <td>0.199579</td>\n",
       "      <td>0.192197</td>\n",
       "      <td>0.171807</td>\n",
       "      <td>0.160594</td>\n",
       "    </tr>\n",
       "    <tr>\n",
       "      <th>16</th>\n",
       "      <td>Chicago City (West)--West Town, Near West Side...</td>\n",
       "      <td>0.128130</td>\n",
       "      <td>0.113232</td>\n",
       "      <td>0.100742</td>\n",
       "      <td>0.096572</td>\n",
       "    </tr>\n",
       "    <tr>\n",
       "      <th>17</th>\n",
       "      <td>Cook County (North)--Maine, Norwood Park Towns...</td>\n",
       "      <td>0.009612</td>\n",
       "      <td>0.008209</td>\n",
       "      <td>0.008027</td>\n",
       "      <td>0.008226</td>\n",
       "    </tr>\n",
       "    <tr>\n",
       "      <th>18</th>\n",
       "      <td>Cook County (West)--Leyden, Norwood Park (Sout...</td>\n",
       "      <td>0.013990</td>\n",
       "      <td>0.016245</td>\n",
       "      <td>0.015251</td>\n",
       "      <td>0.013287</td>\n",
       "    </tr>\n",
       "    <tr>\n",
       "      <th>19</th>\n",
       "      <td>Crime Rate All of Chicago</td>\n",
       "      <td>0.107640</td>\n",
       "      <td>0.098232</td>\n",
       "      <td>0.087790</td>\n",
       "      <td>0.084232</td>\n",
       "    </tr>\n",
       "  </tbody>\n",
       "</table>\n",
       "</div>"
      ],
      "text/plain": [
       "Year                                               Name      2012      2013  \\\n",
       "15    Chicago City (West)--North & South Lawndale, H...  0.199579  0.192197   \n",
       "16    Chicago City (West)--West Town, Near West Side...  0.128130  0.113232   \n",
       "17    Cook County (North)--Maine, Norwood Park Towns...  0.009612  0.008209   \n",
       "18    Cook County (West)--Leyden, Norwood Park (Sout...  0.013990  0.016245   \n",
       "19                            Crime Rate All of Chicago  0.107640  0.098232   \n",
       "\n",
       "Year      2014      2015  \n",
       "15    0.171807  0.160594  \n",
       "16    0.100742  0.096572  \n",
       "17    0.008027  0.008226  \n",
       "18    0.015251  0.013287  \n",
       "19    0.087790  0.084232  "
      ]
     },
     "execution_count": 41,
     "metadata": {},
     "output_type": "execute_result"
    }
   ],
   "source": [
    "#show last row\n",
    "crime_rate_pivot.tail()"
   ]
  },
  {
   "cell_type": "code",
   "execution_count": 42,
   "metadata": {},
   "outputs": [],
   "source": [
    "#calculate percentage change of crime rate over time\n",
    "crime_rate_pivot[\"Net Change\"]=crime_rate_pivot.apply(lambda row: row[2015] - row[2012], axis=1)\n",
    "crime_rate_pivot[\"Percent Change\"]=crime_rate_pivot.apply(lambda row: row['Net Change'] / row[2012]*100, axis=1)"
   ]
  },
  {
   "cell_type": "code",
   "execution_count": 43,
   "metadata": {},
   "outputs": [
    {
     "data": {
      "text/html": [
       "<div>\n",
       "<style scoped>\n",
       "    .dataframe tbody tr th:only-of-type {\n",
       "        vertical-align: middle;\n",
       "    }\n",
       "\n",
       "    .dataframe tbody tr th {\n",
       "        vertical-align: top;\n",
       "    }\n",
       "\n",
       "    .dataframe thead th {\n",
       "        text-align: right;\n",
       "    }\n",
       "</style>\n",
       "<table border=\"1\" class=\"dataframe\">\n",
       "  <thead>\n",
       "    <tr style=\"text-align: right;\">\n",
       "      <th>Year</th>\n",
       "      <th>Name</th>\n",
       "      <th>2012</th>\n",
       "      <th>2013</th>\n",
       "      <th>2014</th>\n",
       "      <th>2015</th>\n",
       "      <th>Net Change</th>\n",
       "      <th>Percent Change</th>\n",
       "    </tr>\n",
       "  </thead>\n",
       "  <tbody>\n",
       "    <tr>\n",
       "      <th>0</th>\n",
       "      <td>Chicago City (Central)--Near North Side, Loop ...</td>\n",
       "      <td>0.164619</td>\n",
       "      <td>0.148385</td>\n",
       "      <td>0.131907</td>\n",
       "      <td>0.131038</td>\n",
       "      <td>-0.033580</td>\n",
       "      <td>-20.398925</td>\n",
       "    </tr>\n",
       "    <tr>\n",
       "      <th>1</th>\n",
       "      <td>Chicago City (North)--Edgewater, Uptown &amp; Roge...</td>\n",
       "      <td>0.078487</td>\n",
       "      <td>0.068419</td>\n",
       "      <td>0.060520</td>\n",
       "      <td>0.057836</td>\n",
       "      <td>-0.020651</td>\n",
       "      <td>-26.311137</td>\n",
       "    </tr>\n",
       "    <tr>\n",
       "      <th>2</th>\n",
       "      <td>Chicago City (North)--Lake View &amp; Lincoln Park...</td>\n",
       "      <td>0.078836</td>\n",
       "      <td>0.069587</td>\n",
       "      <td>0.059700</td>\n",
       "      <td>0.056632</td>\n",
       "      <td>-0.022204</td>\n",
       "      <td>-28.164533</td>\n",
       "    </tr>\n",
       "    <tr>\n",
       "      <th>3</th>\n",
       "      <td>Chicago City (North)--West Ridge, Lincoln Squa...</td>\n",
       "      <td>0.056866</td>\n",
       "      <td>0.052906</td>\n",
       "      <td>0.046492</td>\n",
       "      <td>0.042508</td>\n",
       "      <td>-0.014358</td>\n",
       "      <td>-25.249037</td>\n",
       "    </tr>\n",
       "    <tr>\n",
       "      <th>4</th>\n",
       "      <td>Chicago City (Northwest)--Irving Park, Albany ...</td>\n",
       "      <td>0.058006</td>\n",
       "      <td>0.050690</td>\n",
       "      <td>0.045137</td>\n",
       "      <td>0.047066</td>\n",
       "      <td>-0.010941</td>\n",
       "      <td>-18.861258</td>\n",
       "    </tr>\n",
       "  </tbody>\n",
       "</table>\n",
       "</div>"
      ],
      "text/plain": [
       "Year                                               Name      2012      2013  \\\n",
       "0     Chicago City (Central)--Near North Side, Loop ...  0.164619  0.148385   \n",
       "1     Chicago City (North)--Edgewater, Uptown & Roge...  0.078487  0.068419   \n",
       "2     Chicago City (North)--Lake View & Lincoln Park...  0.078836  0.069587   \n",
       "3     Chicago City (North)--West Ridge, Lincoln Squa...  0.056866  0.052906   \n",
       "4     Chicago City (Northwest)--Irving Park, Albany ...  0.058006  0.050690   \n",
       "\n",
       "Year      2014      2015  Net Change  Percent Change  \n",
       "0     0.131907  0.131038   -0.033580      -20.398925  \n",
       "1     0.060520  0.057836   -0.020651      -26.311137  \n",
       "2     0.059700  0.056632   -0.022204      -28.164533  \n",
       "3     0.046492  0.042508   -0.014358      -25.249037  \n",
       "4     0.045137  0.047066   -0.010941      -18.861258  "
      ]
     },
     "execution_count": 43,
     "metadata": {},
     "output_type": "execute_result"
    }
   ],
   "source": [
    "crime_rate_pivot.head()"
   ]
  },
  {
   "cell_type": "code",
   "execution_count": 44,
   "metadata": {},
   "outputs": [],
   "source": [
    "#calculate average crime rate\n",
    "crime_rate_pivot[\"Average\"]=crime_rate_pivot.apply(lambda row: (row[2012]+row[2013]+row[2014]+row[2015])/4, axis=1)"
   ]
  },
  {
   "cell_type": "code",
   "execution_count": 45,
   "metadata": {},
   "outputs": [
    {
     "data": {
      "text/html": [
       "<div>\n",
       "<style scoped>\n",
       "    .dataframe tbody tr th:only-of-type {\n",
       "        vertical-align: middle;\n",
       "    }\n",
       "\n",
       "    .dataframe tbody tr th {\n",
       "        vertical-align: top;\n",
       "    }\n",
       "\n",
       "    .dataframe thead th {\n",
       "        text-align: right;\n",
       "    }\n",
       "</style>\n",
       "<table border=\"1\" class=\"dataframe\">\n",
       "  <thead>\n",
       "    <tr style=\"text-align: right;\">\n",
       "      <th>Year</th>\n",
       "      <th>Name</th>\n",
       "      <th>2012</th>\n",
       "      <th>2013</th>\n",
       "      <th>2014</th>\n",
       "      <th>2015</th>\n",
       "      <th>Net Change</th>\n",
       "      <th>Percent Change</th>\n",
       "      <th>Average</th>\n",
       "    </tr>\n",
       "  </thead>\n",
       "  <tbody>\n",
       "    <tr>\n",
       "      <th>15</th>\n",
       "      <td>Chicago City (West)--North &amp; South Lawndale, H...</td>\n",
       "      <td>0.199579</td>\n",
       "      <td>0.192197</td>\n",
       "      <td>0.171807</td>\n",
       "      <td>0.160594</td>\n",
       "      <td>-0.038985</td>\n",
       "      <td>-19.53%</td>\n",
       "      <td>0.181044</td>\n",
       "    </tr>\n",
       "    <tr>\n",
       "      <th>16</th>\n",
       "      <td>Chicago City (West)--West Town, Near West Side...</td>\n",
       "      <td>0.128130</td>\n",
       "      <td>0.113232</td>\n",
       "      <td>0.100742</td>\n",
       "      <td>0.096572</td>\n",
       "      <td>-0.031557</td>\n",
       "      <td>-24.63%</td>\n",
       "      <td>0.109669</td>\n",
       "    </tr>\n",
       "    <tr>\n",
       "      <th>17</th>\n",
       "      <td>Cook County (North)--Maine, Norwood Park Towns...</td>\n",
       "      <td>0.009612</td>\n",
       "      <td>0.008209</td>\n",
       "      <td>0.008027</td>\n",
       "      <td>0.008226</td>\n",
       "      <td>-0.001385</td>\n",
       "      <td>-14.41%</td>\n",
       "      <td>0.008519</td>\n",
       "    </tr>\n",
       "    <tr>\n",
       "      <th>18</th>\n",
       "      <td>Cook County (West)--Leyden, Norwood Park (Sout...</td>\n",
       "      <td>0.013990</td>\n",
       "      <td>0.016245</td>\n",
       "      <td>0.015251</td>\n",
       "      <td>0.013287</td>\n",
       "      <td>-0.000703</td>\n",
       "      <td>-5.02%</td>\n",
       "      <td>0.014693</td>\n",
       "    </tr>\n",
       "    <tr>\n",
       "      <th>19</th>\n",
       "      <td>Crime Rate All of Chicago</td>\n",
       "      <td>0.107640</td>\n",
       "      <td>0.098232</td>\n",
       "      <td>0.087790</td>\n",
       "      <td>0.084232</td>\n",
       "      <td>-0.023407</td>\n",
       "      <td>-21.75%</td>\n",
       "      <td>0.094474</td>\n",
       "    </tr>\n",
       "  </tbody>\n",
       "</table>\n",
       "</div>"
      ],
      "text/plain": [
       "Year                                               Name      2012      2013  \\\n",
       "15    Chicago City (West)--North & South Lawndale, H...  0.199579  0.192197   \n",
       "16    Chicago City (West)--West Town, Near West Side...  0.128130  0.113232   \n",
       "17    Cook County (North)--Maine, Norwood Park Towns...  0.009612  0.008209   \n",
       "18    Cook County (West)--Leyden, Norwood Park (Sout...  0.013990  0.016245   \n",
       "19                            Crime Rate All of Chicago  0.107640  0.098232   \n",
       "\n",
       "Year      2014      2015  Net Change Percent Change   Average  \n",
       "15    0.171807  0.160594   -0.038985        -19.53%  0.181044  \n",
       "16    0.100742  0.096572   -0.031557        -24.63%  0.109669  \n",
       "17    0.008027  0.008226   -0.001385        -14.41%  0.008519  \n",
       "18    0.015251  0.013287   -0.000703         -5.02%  0.014693  \n",
       "19    0.087790  0.084232   -0.023407        -21.75%  0.094474  "
      ]
     },
     "execution_count": 45,
     "metadata": {},
     "output_type": "execute_result"
    }
   ],
   "source": [
    "#format percent column and display table\n",
    "crime_rate_pivot[\"Percent Change\"] = crime_rate_pivot[\"Percent Change\"].map(\"{:,.2f}%\".format)\n",
    "crime_rate_pivot.tail()"
   ]
  }
 ],
 "metadata": {
  "kernelspec": {
   "display_name": "Python 3",
   "language": "python",
   "name": "python3"
  },
  "language_info": {
   "codemirror_mode": {
    "name": "ipython",
    "version": 3
   },
   "file_extension": ".py",
   "mimetype": "text/x-python",
   "name": "python",
   "nbconvert_exporter": "python",
   "pygments_lexer": "ipython3",
   "version": "3.6.6"
  }
 },
 "nbformat": 4,
 "nbformat_minor": 2
}
