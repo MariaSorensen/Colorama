{
 "cells": [
  {
   "cell_type": "code",
   "execution_count": 2,
   "metadata": {},
   "outputs": [],
   "source": [
    "import pandas as pd"
   ]
  },
  {
   "cell_type": "code",
   "execution_count": 3,
   "metadata": {},
   "outputs": [],
   "source": [
    "#get the data from the site\n",
    "df=pd.read_json(\"https://data.cityofchicago.org/resource/crimes.json\")"
   ]
  },
  {
   "cell_type": "code",
   "execution_count": 4,
   "metadata": {},
   "outputs": [
    {
     "data": {
      "text/plain": [
       "array([2019], dtype=int64)"
      ]
     },
     "execution_count": 4,
     "metadata": {},
     "output_type": "execute_result"
    }
   ],
   "source": [
    "#look to see if all of the years are pulling in from the site\n",
    "unique_yr=df[\"year\"].unique()\n",
    "unique_yr"
   ]
  },
  {
   "cell_type": "code",
   "execution_count": 5,
   "metadata": {},
   "outputs": [
    {
     "data": {
      "text/html": [
       "<div>\n",
       "<style scoped>\n",
       "    .dataframe tbody tr th:only-of-type {\n",
       "        vertical-align: middle;\n",
       "    }\n",
       "\n",
       "    .dataframe tbody tr th {\n",
       "        vertical-align: top;\n",
       "    }\n",
       "\n",
       "    .dataframe thead th {\n",
       "        text-align: right;\n",
       "    }\n",
       "</style>\n",
       "<table border=\"1\" class=\"dataframe\">\n",
       "  <thead>\n",
       "    <tr style=\"text-align: right;\">\n",
       "      <th></th>\n",
       "      <th>beat</th>\n",
       "      <th>community_area</th>\n",
       "      <th>district</th>\n",
       "      <th>id</th>\n",
       "      <th>latitude</th>\n",
       "      <th>longitude</th>\n",
       "      <th>ward</th>\n",
       "      <th>x_coordinate</th>\n",
       "      <th>y_coordinate</th>\n",
       "      <th>year</th>\n",
       "    </tr>\n",
       "  </thead>\n",
       "  <tbody>\n",
       "    <tr>\n",
       "      <th>count</th>\n",
       "      <td>1000.000000</td>\n",
       "      <td>1000.000000</td>\n",
       "      <td>1000.000000</td>\n",
       "      <td>1.000000e+03</td>\n",
       "      <td>972.000000</td>\n",
       "      <td>972.000000</td>\n",
       "      <td>1000.00000</td>\n",
       "      <td>9.720000e+02</td>\n",
       "      <td>9.720000e+02</td>\n",
       "      <td>1000.0</td>\n",
       "    </tr>\n",
       "    <tr>\n",
       "      <th>mean</th>\n",
       "      <td>1115.357000</td>\n",
       "      <td>37.799000</td>\n",
       "      <td>10.931000</td>\n",
       "      <td>1.153262e+07</td>\n",
       "      <td>41.837866</td>\n",
       "      <td>-87.668259</td>\n",
       "      <td>22.82000</td>\n",
       "      <td>1.165496e+06</td>\n",
       "      <td>1.884216e+06</td>\n",
       "      <td>2019.0</td>\n",
       "    </tr>\n",
       "    <tr>\n",
       "      <th>std</th>\n",
       "      <td>689.148852</td>\n",
       "      <td>21.336538</td>\n",
       "      <td>6.885176</td>\n",
       "      <td>5.154394e+05</td>\n",
       "      <td>0.086022</td>\n",
       "      <td>0.058897</td>\n",
       "      <td>13.81211</td>\n",
       "      <td>1.617978e+04</td>\n",
       "      <td>3.127999e+04</td>\n",
       "      <td>0.0</td>\n",
       "    </tr>\n",
       "    <tr>\n",
       "      <th>min</th>\n",
       "      <td>111.000000</td>\n",
       "      <td>1.000000</td>\n",
       "      <td>1.000000</td>\n",
       "      <td>2.436800e+04</td>\n",
       "      <td>41.650927</td>\n",
       "      <td>-87.905227</td>\n",
       "      <td>1.00000</td>\n",
       "      <td>1.100658e+06</td>\n",
       "      <td>1.816376e+06</td>\n",
       "      <td>2019.0</td>\n",
       "    </tr>\n",
       "    <tr>\n",
       "      <th>25%</th>\n",
       "      <td>532.750000</td>\n",
       "      <td>23.000000</td>\n",
       "      <td>5.000000</td>\n",
       "      <td>1.155483e+07</td>\n",
       "      <td>41.764682</td>\n",
       "      <td>-87.710827</td>\n",
       "      <td>9.00000</td>\n",
       "      <td>1.153784e+06</td>\n",
       "      <td>1.857642e+06</td>\n",
       "      <td>2019.0</td>\n",
       "    </tr>\n",
       "    <tr>\n",
       "      <th>50%</th>\n",
       "      <td>1017.500000</td>\n",
       "      <td>32.000000</td>\n",
       "      <td>10.000000</td>\n",
       "      <td>1.155542e+07</td>\n",
       "      <td>41.855197</td>\n",
       "      <td>-87.662313</td>\n",
       "      <td>23.00000</td>\n",
       "      <td>1.167293e+06</td>\n",
       "      <td>1.890548e+06</td>\n",
       "      <td>2019.0</td>\n",
       "    </tr>\n",
       "    <tr>\n",
       "      <th>75%</th>\n",
       "      <td>1633.000000</td>\n",
       "      <td>56.000000</td>\n",
       "      <td>16.000000</td>\n",
       "      <td>1.155590e+07</td>\n",
       "      <td>41.898196</td>\n",
       "      <td>-87.626200</td>\n",
       "      <td>34.00000</td>\n",
       "      <td>1.176926e+06</td>\n",
       "      <td>1.906133e+06</td>\n",
       "      <td>2019.0</td>\n",
       "    </tr>\n",
       "    <tr>\n",
       "      <th>max</th>\n",
       "      <td>2535.000000</td>\n",
       "      <td>77.000000</td>\n",
       "      <td>25.000000</td>\n",
       "      <td>1.156190e+07</td>\n",
       "      <td>42.018867</td>\n",
       "      <td>-87.532867</td>\n",
       "      <td>50.00000</td>\n",
       "      <td>1.202852e+06</td>\n",
       "      <td>1.950165e+06</td>\n",
       "      <td>2019.0</td>\n",
       "    </tr>\n",
       "  </tbody>\n",
       "</table>\n",
       "</div>"
      ],
      "text/plain": [
       "              beat  community_area     district            id    latitude  \\\n",
       "count  1000.000000     1000.000000  1000.000000  1.000000e+03  972.000000   \n",
       "mean   1115.357000       37.799000    10.931000  1.153262e+07   41.837866   \n",
       "std     689.148852       21.336538     6.885176  5.154394e+05    0.086022   \n",
       "min     111.000000        1.000000     1.000000  2.436800e+04   41.650927   \n",
       "25%     532.750000       23.000000     5.000000  1.155483e+07   41.764682   \n",
       "50%    1017.500000       32.000000    10.000000  1.155542e+07   41.855197   \n",
       "75%    1633.000000       56.000000    16.000000  1.155590e+07   41.898196   \n",
       "max    2535.000000       77.000000    25.000000  1.156190e+07   42.018867   \n",
       "\n",
       "        longitude        ward  x_coordinate  y_coordinate    year  \n",
       "count  972.000000  1000.00000  9.720000e+02  9.720000e+02  1000.0  \n",
       "mean   -87.668259    22.82000  1.165496e+06  1.884216e+06  2019.0  \n",
       "std      0.058897    13.81211  1.617978e+04  3.127999e+04     0.0  \n",
       "min    -87.905227     1.00000  1.100658e+06  1.816376e+06  2019.0  \n",
       "25%    -87.710827     9.00000  1.153784e+06  1.857642e+06  2019.0  \n",
       "50%    -87.662313    23.00000  1.167293e+06  1.890548e+06  2019.0  \n",
       "75%    -87.626200    34.00000  1.176926e+06  1.906133e+06  2019.0  \n",
       "max    -87.532867    50.00000  1.202852e+06  1.950165e+06  2019.0  "
      ]
     },
     "execution_count": 5,
     "metadata": {},
     "output_type": "execute_result"
    }
   ],
   "source": [
    "#nope, but lets see whats in there anywy\n",
    "df.describe()"
   ]
  },
  {
   "cell_type": "code",
   "execution_count": 6,
   "metadata": {},
   "outputs": [
    {
     "data": {
      "text/plain": [
       "arrest                            bool\n",
       "beat                             int64\n",
       "block                           object\n",
       "case_number                     object\n",
       "community_area                   int64\n",
       "date                    datetime64[ns]\n",
       "description                     object\n",
       "district                         int64\n",
       "domestic                          bool\n",
       "fbi_code                        object\n",
       "id                               int64\n",
       "iucr                            object\n",
       "latitude                       float64\n",
       "location                        object\n",
       "location_description            object\n",
       "longitude                      float64\n",
       "primary_type                    object\n",
       "updated_on                      object\n",
       "ward                             int64\n",
       "x_coordinate                   float64\n",
       "y_coordinate                   float64\n",
       "year                             int64\n",
       "dtype: object"
      ]
     },
     "execution_count": 6,
     "metadata": {},
     "output_type": "execute_result"
    }
   ],
   "source": [
    "#oh, it looks like the last 1000 records are showing.  Lets keep looking at this stuff\n",
    "df.dtypes"
   ]
  },
  {
   "cell_type": "code",
   "execution_count": 7,
   "metadata": {},
   "outputs": [
    {
     "name": "stdout",
     "output_type": "stream",
     "text": [
      "   arrest  beat                   block case_number  community_area  \\\n",
      "0   False   411  080XX S DORCHESTER AVE    JC104184              45   \n",
      "1    True  2534      016XX N KARLOV AVE    JC103901              23   \n",
      "2   False   934         008XX W 52ND ST    JC103869              61   \n",
      "3    True  1031      026XX S KEELER AVE    JC103885              30   \n",
      "4    True   835     080XX S WESTERN AVE    JC103871              70   \n",
      "\n",
      "                 date                   description  district  domestic  \\\n",
      "0 2019-01-03 23:59:00                   TO PROPERTY         4     False   \n",
      "1 2019-01-03 23:35:00      UNLAWFUL POSS OF HANDGUN        25     False   \n",
      "2 2019-01-03 23:34:00  ATTEMPT: ARMED-OTHER FIREARM         9     False   \n",
      "3 2019-01-03 23:33:00     VEHICLE TITLE/REG OFFENSE        10     False   \n",
      "4 2019-01-03 23:30:00                   TO PROPERTY         8     False   \n",
      "\n",
      "  fbi_code  ...    latitude  \\\n",
      "0       14  ...   41.748878   \n",
      "1       15  ...   41.910662   \n",
      "2       03  ...   41.799767   \n",
      "3       26  ...   41.843612   \n",
      "4       14  ...   41.747091   \n",
      "\n",
      "                                            location  location_description  \\\n",
      "0  {'latitude': '41.748877977', 'human_address': ...             RESIDENCE   \n",
      "1  {'latitude': '41.910662034', 'human_address': ...                STREET   \n",
      "2  {'latitude': '41.799767262', 'human_address': ...                STREET   \n",
      "3  {'latitude': '41.843612132', 'human_address': ...                STREET   \n",
      "4  {'latitude': '41.747090733', 'human_address': ...                 OTHER   \n",
      "\n",
      "   longitude       primary_type           updated_on ward x_coordinate  \\\n",
      "0 -87.590563    CRIMINAL DAMAGE  2019-01-10T15:16:50    8    1186937.0   \n",
      "1 -87.728803  WEAPONS VIOLATION  2019-01-10T15:16:50   26    1148799.0   \n",
      "2 -87.645978            ROBBERY  2019-01-10T15:16:50   20    1171667.0   \n",
      "3 -87.729394      OTHER OFFENSE  2019-01-10T15:16:50   22    1148810.0   \n",
      "4 -87.682778    CRIMINAL DAMAGE  2019-01-10T15:16:50   18    1161778.0   \n",
      "\n",
      "   y_coordinate  year  \n",
      "0     1851957.0  2019  \n",
      "1     1910615.0  2019  \n",
      "2     1870375.0  2019  \n",
      "3     1886181.0  2019  \n",
      "4     1851102.0  2019  \n",
      "\n",
      "[5 rows x 22 columns]\n"
     ]
    }
   ],
   "source": [
    "#more looking at whats in here\n",
    "print(df.head())"
   ]
  },
  {
   "cell_type": "code",
   "execution_count": 25,
   "metadata": {},
   "outputs": [
    {
     "data": {
      "text/html": [
       "<div>\n",
       "<style scoped>\n",
       "    .dataframe tbody tr th:only-of-type {\n",
       "        vertical-align: middle;\n",
       "    }\n",
       "\n",
       "    .dataframe tbody tr th {\n",
       "        vertical-align: top;\n",
       "    }\n",
       "\n",
       "    .dataframe thead th {\n",
       "        text-align: right;\n",
       "    }\n",
       "</style>\n",
       "<table border=\"1\" class=\"dataframe\">\n",
       "  <thead>\n",
       "    <tr style=\"text-align: right;\">\n",
       "      <th></th>\n",
       "      <th>location_description</th>\n",
       "      <th>primary_type</th>\n",
       "      <th>description</th>\n",
       "      <th>updated_on</th>\n",
       "      <th>year</th>\n",
       "      <th>community_area</th>\n",
       "    </tr>\n",
       "  </thead>\n",
       "  <tbody>\n",
       "    <tr>\n",
       "      <th>0</th>\n",
       "      <td>RESIDENCE</td>\n",
       "      <td>CRIMINAL DAMAGE</td>\n",
       "      <td>TO PROPERTY</td>\n",
       "      <td>2019-01-10T15:16:50</td>\n",
       "      <td>2019</td>\n",
       "      <td>45</td>\n",
       "    </tr>\n",
       "    <tr>\n",
       "      <th>1</th>\n",
       "      <td>STREET</td>\n",
       "      <td>WEAPONS VIOLATION</td>\n",
       "      <td>UNLAWFUL POSS OF HANDGUN</td>\n",
       "      <td>2019-01-10T15:16:50</td>\n",
       "      <td>2019</td>\n",
       "      <td>23</td>\n",
       "    </tr>\n",
       "    <tr>\n",
       "      <th>2</th>\n",
       "      <td>STREET</td>\n",
       "      <td>ROBBERY</td>\n",
       "      <td>ATTEMPT: ARMED-OTHER FIREARM</td>\n",
       "      <td>2019-01-10T15:16:50</td>\n",
       "      <td>2019</td>\n",
       "      <td>61</td>\n",
       "    </tr>\n",
       "    <tr>\n",
       "      <th>3</th>\n",
       "      <td>STREET</td>\n",
       "      <td>OTHER OFFENSE</td>\n",
       "      <td>VEHICLE TITLE/REG OFFENSE</td>\n",
       "      <td>2019-01-10T15:16:50</td>\n",
       "      <td>2019</td>\n",
       "      <td>30</td>\n",
       "    </tr>\n",
       "    <tr>\n",
       "      <th>4</th>\n",
       "      <td>OTHER</td>\n",
       "      <td>CRIMINAL DAMAGE</td>\n",
       "      <td>TO PROPERTY</td>\n",
       "      <td>2019-01-10T15:16:50</td>\n",
       "      <td>2019</td>\n",
       "      <td>70</td>\n",
       "    </tr>\n",
       "  </tbody>\n",
       "</table>\n",
       "</div>"
      ],
      "text/plain": [
       "  location_description       primary_type                   description  \\\n",
       "0            RESIDENCE    CRIMINAL DAMAGE                   TO PROPERTY   \n",
       "1               STREET  WEAPONS VIOLATION      UNLAWFUL POSS OF HANDGUN   \n",
       "2               STREET            ROBBERY  ATTEMPT: ARMED-OTHER FIREARM   \n",
       "3               STREET      OTHER OFFENSE     VEHICLE TITLE/REG OFFENSE   \n",
       "4                OTHER    CRIMINAL DAMAGE                   TO PROPERTY   \n",
       "\n",
       "            updated_on  year  community_area  \n",
       "0  2019-01-10T15:16:50  2019              45  \n",
       "1  2019-01-10T15:16:50  2019              23  \n",
       "2  2019-01-10T15:16:50  2019              61  \n",
       "3  2019-01-10T15:16:50  2019              30  \n",
       "4  2019-01-10T15:16:50  2019              70  "
      ]
     },
     "execution_count": 25,
     "metadata": {},
     "output_type": "execute_result"
    }
   ],
   "source": [
    "#can I identify the columns that I want\n",
    "#create short names to make stuff easier\n",
    "# location description = ld\n",
    "# primary type = pt\n",
    "# description = d\n",
    "# updated on = up\n",
    "# year = yr\n",
    "# community area = ca\n",
    "df[[\"location_description\", \"primary_type\", \"description\", \"updated_on\", \"year\", \"community_area\"]].head()"
   ]
  },
  {
   "cell_type": "code",
   "execution_count": 9,
   "metadata": {},
   "outputs": [
    {
     "data": {
      "text/plain": [
       "array(['RESIDENCE', 'STREET', 'OTHER', 'VEHICLE NON-COMMERCIAL',\n",
       "       'CTA BUS', 'POLICE FACILITY/VEH PARKING LOT', 'APARTMENT', 'ALLEY',\n",
       "       'BANK', 'SIDEWALK', 'FACTORY/MANUFACTURING BUILDING',\n",
       "       'PARK PROPERTY', 'SMALL RETAIL STORE', 'RESIDENCE PORCH/HALLWAY',\n",
       "       'RESIDENTIAL YARD (FRONT/BACK)', 'CONVENIENCE STORE', 'CTA TRAIN',\n",
       "       'ATM (AUTOMATIC TELLER MACHINE)', 'COMMERCIAL / BUSINESS OFFICE',\n",
       "       'PARKING LOT/GARAGE(NON.RESID.)', 'RESTAURANT',\n",
       "       'HIGHWAY/EXPRESSWAY', 'CTA PLATFORM', 'DRIVEWAY - RESIDENTIAL',\n",
       "       'GAS STATION', 'VACANT LOT/LAND', 'SCHOOL, PUBLIC, GROUNDS',\n",
       "       'NURSING HOME/RETIREMENT HOME', 'AIRCRAFT', 'DRUG STORE',\n",
       "       'RESIDENCE-GARAGE', 'DEPARTMENT STORE', 'CTA STATION',\n",
       "       'GROCERY FOOD STORE', 'BAR OR TAVERN', 'CONSTRUCTION SITE',\n",
       "       'HOSPITAL BUILDING/GROUNDS', nan, 'CURRENCY EXCHANGE', 'AUTO',\n",
       "       'FEDERAL BUILDING', 'GOVERNMENT BUILDING/PROPERTY',\n",
       "       'AIRPORT TERMINAL LOWER LEVEL - NON-SECURE AREA',\n",
       "       'CHA PARKING LOT/GROUNDS', 'DAY CARE CENTER', 'ATHLETIC CLUB',\n",
       "       'AIRPORT TERMINAL LOWER LEVEL - SECURE AREA',\n",
       "       'CHURCH/SYNAGOGUE/PLACE OF WORSHIP', 'HOTEL/MOTEL',\n",
       "       'AUTO / BOAT / RV DEALERSHIP', 'ABANDONED BUILDING', 'TAXICAB',\n",
       "       'AIRPORT BUILDING NON-TERMINAL - NON-SECURE AREA',\n",
       "       'CTA GARAGE / OTHER PROPERTY', 'BOWLING ALLEY', 'CHA APARTMENT',\n",
       "       'SPORTS ARENA/STADIUM', 'VEHICLE-COMMERCIAL',\n",
       "       'CHA HALLWAY/STAIRWELL/ELEVATOR', 'WAREHOUSE',\n",
       "       'SCHOOL, PRIVATE, BUILDING', 'COLLEGE/UNIVERSITY RESIDENCE HALL'],\n",
       "      dtype=object)"
      ]
     },
     "execution_count": 9,
     "metadata": {},
     "output_type": "execute_result"
    }
   ],
   "source": [
    "#lets look at the uniue location descriptions\n",
    "unique_ld=df[\"location_description\"].unique()\n",
    "unique_ld"
   ]
  },
  {
   "cell_type": "code",
   "execution_count": 10,
   "metadata": {},
   "outputs": [
    {
     "data": {
      "text/plain": [
       "array(['CRIMINAL DAMAGE', 'WEAPONS VIOLATION', 'ROBBERY', 'OTHER OFFENSE',\n",
       "       'CRIMINAL TRESPASS', 'NARCOTICS', 'BATTERY', 'ASSAULT', 'THEFT',\n",
       "       'DECEPTIVE PRACTICE', 'PUBLIC PEACE VIOLATION', 'BURGLARY',\n",
       "       'PROSTITUTION', 'MOTOR VEHICLE THEFT',\n",
       "       'INTERFERENCE WITH PUBLIC OFFICER', 'HOMICIDE',\n",
       "       'OFFENSE INVOLVING CHILDREN', 'INTIMIDATION', 'SEX OFFENSE',\n",
       "       'CRIM SEXUAL ASSAULT', 'CONCEALED CARRY LICENSE VIOLATION'],\n",
       "      dtype=object)"
      ]
     },
     "execution_count": 10,
     "metadata": {},
     "output_type": "execute_result"
    }
   ],
   "source": [
    "#lets look at the unique primary types\n",
    "unique_pt=df[\"primary_type\"].unique()\n",
    "unique_pt"
   ]
  },
  {
   "cell_type": "code",
   "execution_count": 17,
   "metadata": {},
   "outputs": [
    {
     "data": {
      "text/plain": [
       "array(['TO PROPERTY', 'UNLAWFUL POSS OF HANDGUN',\n",
       "       'ATTEMPT: ARMED-OTHER FIREARM', 'VEHICLE TITLE/REG OFFENSE',\n",
       "       'TO VEHICLE', 'POSS: COCAINE', 'AGG PO HANDS NO/MIN INJURY',\n",
       "       'TO LAND', 'MANU/DELIVER:COCAINE', 'DOMESTIC BATTERY SIMPLE',\n",
       "       'SIMPLE', 'POSS: CANNABIS 30GMS OR LESS', '$500 AND UNDER',\n",
       "       'FORGERY', 'BOMB THREAT', 'FALSE/STOLEN/ALTERED TRP',\n",
       "       'AGGRAVATED DOMESTIC BATTERY: OTHER DANG WEAPON', 'ARMED: HANDGUN',\n",
       "       'TELEPHONE THREAT', 'POSS: HEROIN(WHITE)', 'FROM BUILDING',\n",
       "       'OVER $500', 'FORCIBLE ENTRY',\n",
       "       'FINANCIAL IDENTITY THEFT $300 AND UNDER', 'SOLICIT ON PUBLIC WAY',\n",
       "       'AGGRAVATED: HANDGUN', 'RETAIL THEFT',\n",
       "       'AGGRAVATED VEHICULAR HIJACKING', 'OTHER VEHICLE OFFENSE',\n",
       "       'TO RESIDENCE', 'THEFT/RECOVERY: AUTOMOBILE',\n",
       "       'TO CITY OF CHICAGO PROPERTY', 'VEHICULAR HIJACKING', 'AUTOMOBILE',\n",
       "       'POSS: CANNABIS MORE THAN 30GMS', 'MANU/DELIVER: METHAMPHETAMINES',\n",
       "       'AGGRAVATED DOMESTIC BATTERY: HANDS/FIST/FEET SERIOUS INJURY',\n",
       "       'BOGUS CHECK', 'COUNTERFEITING DOCUMENT', 'STRONGARM - NO WEAPON',\n",
       "       'HARASSMENT BY ELECTRONIC MEANS', 'POSS: CRACK',\n",
       "       'GUN OFFENDER: ANNUAL REGISTRATION',\n",
       "       'FINANCIAL IDENTITY THEFT OVER $ 300', 'OTHER VIOLATION',\n",
       "       'POCKET-PICKING', 'VIOLATE ORDER OF PROTECTION',\n",
       "       'SOLICIT NARCOTICS ON PUBLICWAY', 'FOUND SUSPECT NARCOTICS',\n",
       "       'MANU/DELIVER: HEROIN (WHITE)', 'AGGRAVATED:KNIFE/CUTTING INSTR',\n",
       "       'ARMED: OTHER DANGEROUS WEAPON', 'CREDIT CARD FRAUD',\n",
       "       'UNLAWFUL ENTRY', 'VIOLENT OFFENDER: DUTY TO REGISTER',\n",
       "       'RESIST/OBSTRUCT/DISARM OFFICER', 'ILLEGAL USE CASH CARD',\n",
       "       'THEFT BY LESSEE,MOTOR VEH', 'FRAUD OR CONFIDENCE GAME',\n",
       "       'ATTEMPT FORCIBLE ENTRY', 'MANU/DELIVER:BARBITUATES',\n",
       "       'GUN OFFENDER: DUTY TO REPORT CHANGE OF INFORMATION',\n",
       "       'RECKLESS FIREARM DISCHARGE', 'ATTEMPT THEFT',\n",
       "       'PRO EMP HANDS NO/MIN INJURY', 'AGGRAVATED: OTHER DANG WEAPON',\n",
       "       'FIRST DEGREE MURDER',\n",
       "       'AGGRAVATED DOMESTIC BATTERY: KNIFE/CUTTING INST', 'EMBEZZLEMENT',\n",
       "       'HARASSMENT BY TELEPHONE', 'POSS: SYNTHETIC DRUGS',\n",
       "       'OTHER OFFENSE', 'POSS: HEROIN(BRN/TAN)', 'PURSE-SNATCHING',\n",
       "       'COUNTERFEIT CHECK', 'VIO BAIL BOND: DOM VIOLENCE',\n",
       "       'LICENSE VIOLATION', 'RECKLESS CONDUCT',\n",
       "       'AGG SEX ASSLT OF CHILD FAM MBR', 'CRIMINAL DEFACEMENT',\n",
       "       'AGG PRO.EMP:KNIFE/CUTTING INST', 'ATT: AUTOMOBILE',\n",
       "       'MANU/DELIVER: HEROIN(BRN/TAN)', 'ARMED:KNIFE/CUTTING INSTRUMENT',\n",
       "       'ATTEMPT - FINANCIAL IDENTITY THEFT', 'INTIMIDATION',\n",
       "       'ATTEMPT: ARMED-OTHER DANG WEAP', 'AGGRAVATED OF A SENIOR CITIZEN',\n",
       "       'CRIMINAL SEXUAL ABUSE', 'AGGRAVATED PO: OTHER DANG WEAP',\n",
       "       'POSS: BARBITUATES', 'ATTEMPT: ARMED-HANDGUN',\n",
       "       'UNLAWFUL USE HANDGUN', 'POSSESSION OF DRUG EQUIPMENT',\n",
       "       'VIOLATION GPS MONITORING DEVICE', 'POSS: AMPHETAMINES',\n",
       "       'MANU/DEL:CANNABIS OVER 10 GMS', 'TO STATE SUP LAND',\n",
       "       'OBSTRUCTING IDENTIFICATION', 'AGGRAVATED',\n",
       "       'UNLAWFUL POSS OTHER FIREARM', 'THEFT OF LOST/MISLAID PROP',\n",
       "       'ARMED WHILE UNDER THE INFLUENCE', 'MANU/DELIVER:CRACK',\n",
       "       'THEFT OF LABOR/SERVICES', 'MANU/DEL:CANNABIS 10GM OR LESS',\n",
       "       'PUBLIC INDECENCY', 'INTERFERENCE JUDICIAL PROCESS',\n",
       "       'ATTEMPT: STRONGARM-NO WEAPON', 'HOME INVASION'], dtype=object)"
      ]
     },
     "execution_count": 17,
     "metadata": {},
     "output_type": "execute_result"
    }
   ],
   "source": [
    "#lets look at the unique descriptions\n",
    "unique_d=df[\"description\"].unique()\n",
    "unique_d"
   ]
  },
  {
   "cell_type": "code",
   "execution_count": 18,
   "metadata": {},
   "outputs": [
    {
     "data": {
      "text/plain": [
       "array(['2019-01-10T15:16:50'], dtype=object)"
      ]
     },
     "execution_count": 18,
     "metadata": {},
     "output_type": "execute_result"
    }
   ],
   "source": [
    "#lets look at the unique updated on\n",
    "unique_up=df[\"updated_on\"].unique()\n",
    "unique_up"
   ]
  },
  {
   "cell_type": "code",
   "execution_count": 19,
   "metadata": {},
   "outputs": [
    {
     "data": {
      "text/plain": [
       "array([2019], dtype=int64)"
      ]
     },
     "execution_count": 19,
     "metadata": {},
     "output_type": "execute_result"
    }
   ],
   "source": [
    "#lets look at the unique year\n",
    "unique_yr=df[\"year\"].unique()\n",
    "unique_yr"
   ]
  },
  {
   "cell_type": "code",
   "execution_count": 20,
   "metadata": {},
   "outputs": [
    {
     "data": {
      "text/plain": [
       "array([45, 23, 61, 30, 70, 46, 74, 25, 37, 73,  2, 48, 68, 24,  3, 67, 69,\n",
       "       28, 17, 29, 56, 54, 49,  1, 71, 44, 26, 65, 77,  8, 15, 19, 75, 41,\n",
       "        4, 14, 43, 21,  6, 40, 66, 57, 59,  7, 63, 20, 38, 22, 35, 32, 11,\n",
       "        5, 18, 76, 42, 39, 52, 27, 33, 58, 62, 51, 12, 50, 53, 60, 13, 16,\n",
       "       64, 31, 72, 10, 47,  9, 34, 55, 36], dtype=int64)"
      ]
     },
     "execution_count": 20,
     "metadata": {},
     "output_type": "execute_result"
    }
   ],
   "source": [
    "#lets look at the unique community area \n",
    "unique_ca=df[\"community_area\"].unique()\n",
    "unique_ca"
   ]
  },
  {
   "cell_type": "code",
   "execution_count": 11,
   "metadata": {},
   "outputs": [
    {
     "data": {
      "text/plain": [
       "STREET                                            244\n",
       "RESIDENCE                                         137\n",
       "APARTMENT                                         125\n",
       "SIDEWALK                                           65\n",
       "RESIDENCE PORCH/HALLWAY                            37\n",
       "OTHER                                              36\n",
       "RESTAURANT                                         31\n",
       "DEPARTMENT STORE                                   26\n",
       "PARKING LOT/GARAGE(NON.RESID.)                     26\n",
       "SMALL RETAIL STORE                                 25\n",
       "GAS STATION                                        22\n",
       "VEHICLE NON-COMMERCIAL                             20\n",
       "SCHOOL, PUBLIC, BUILDING                           18\n",
       "GROCERY FOOD STORE                                 16\n",
       "CTA TRAIN                                          14\n",
       "CONVENIENCE STORE                                  14\n",
       "ALLEY                                              13\n",
       "RESIDENCE-GARAGE                                   13\n",
       "RESIDENTIAL YARD (FRONT/BACK)                      12\n",
       "SCHOOL, PUBLIC, GROUNDS                             9\n",
       "COMMERCIAL / BUSINESS OFFICE                        7\n",
       "CTA STATION                                         6\n",
       "HOSPITAL BUILDING/GROUNDS                           6\n",
       "BAR OR TAVERN                                       5\n",
       "DRUG STORE                                          5\n",
       "HOTEL/MOTEL                                         5\n",
       "GOVERNMENT BUILDING/PROPERTY                        5\n",
       "CTA BUS                                             4\n",
       "BANK                                                3\n",
       "PARK PROPERTY                                       3\n",
       "DRIVEWAY - RESIDENTIAL                              3\n",
       "SCHOOL, PRIVATE, BUILDING                           3\n",
       "VACANT LOT/LAND                                     3\n",
       "NURSING HOME/RETIREMENT HOME                        3\n",
       "CONSTRUCTION SITE                                   3\n",
       "CTA GARAGE / OTHER PROPERTY                         2\n",
       "CHA APARTMENT                                       2\n",
       "POLICE FACILITY/VEH PARKING LOT                     2\n",
       "CTA BUS STOP                                        2\n",
       "CLEANING STORE                                      2\n",
       "LIBRARY                                             2\n",
       "OTHER RAILROAD PROP / TRAIN DEPOT                   2\n",
       "CTA PLATFORM                                        2\n",
       "PAWN SHOP                                           1\n",
       "CHA HALLWAY/STAIRWELL/ELEVATOR                      1\n",
       "AIRPORT TERMINAL LOWER LEVEL - NON-SECURE AREA      1\n",
       "ANIMAL HOSPITAL                                     1\n",
       "AIRPORT TERMINAL UPPER LEVEL - NON-SECURE AREA      1\n",
       "CHA PARKING LOT/GROUNDS                             1\n",
       "BOWLING ALLEY                                       1\n",
       "COLLEGE/UNIVERSITY GROUNDS                          1\n",
       "AIRPORT TERMINAL UPPER LEVEL - SECURE AREA          1\n",
       "AIRPORT EXTERIOR - SECURE AREA                      1\n",
       "MEDICAL/DENTAL OFFICE                               1\n",
       "SPORTS ARENA/STADIUM                                1\n",
       "VEHICLE-COMMERCIAL                                  1\n",
       "FACTORY/MANUFACTURING BUILDING                      1\n",
       "TAVERN/LIQUOR STORE                                 1\n",
       "PORCH                                               1\n",
       "Name: location_description, dtype: int64"
      ]
     },
     "execution_count": 11,
     "metadata": {},
     "output_type": "execute_result"
    }
   ],
   "source": [
    "#of the 1000 records, whats the spread for location_description\n",
    "count_ld=df[\"location_description\"].value_counts()\n",
    "count_ld"
   ]
  },
  {
   "cell_type": "code",
   "execution_count": 21,
   "metadata": {},
   "outputs": [
    {
     "data": {
      "text/plain": [
       "THEFT                                258\n",
       "BATTERY                              169\n",
       "CRIMINAL DAMAGE                      104\n",
       "ASSAULT                               74\n",
       "NARCOTICS                             71\n",
       "DECEPTIVE PRACTICE                    64\n",
       "OTHER OFFENSE                         62\n",
       "ROBBERY                               51\n",
       "BURGLARY                              49\n",
       "MOTOR VEHICLE THEFT                   31\n",
       "CRIMINAL TRESPASS                     25\n",
       "WEAPONS VIOLATION                     22\n",
       "INTERFERENCE WITH PUBLIC OFFICER       4\n",
       "PUBLIC PEACE VIOLATION                 3\n",
       "PROSTITUTION                           3\n",
       "SEX OFFENSE                            3\n",
       "OFFENSE INVOLVING CHILDREN             2\n",
       "HOMICIDE                               2\n",
       "CRIM SEXUAL ASSAULT                    1\n",
       "INTIMIDATION                           1\n",
       "CONCEALED CARRY LICENSE VIOLATION      1\n",
       "Name: primary_type, dtype: int64"
      ]
     },
     "execution_count": 21,
     "metadata": {},
     "output_type": "execute_result"
    }
   ],
   "source": [
    "#of the 1000 records, whats the spread for primary_type\n",
    "count_pt=df[\"primary_type\"].value_counts()\n",
    "count_pt"
   ]
  },
  {
   "cell_type": "code",
   "execution_count": 22,
   "metadata": {},
   "outputs": [
    {
     "data": {
      "text/plain": [
       "SIMPLE                                                100\n",
       "DOMESTIC BATTERY SIMPLE                                91\n",
       "$500 AND UNDER                                         81\n",
       "OVER $500                                              74\n",
       "TO VEHICLE                                             58\n",
       "TO PROPERTY                                            52\n",
       "RETAIL THEFT                                           43\n",
       "FROM BUILDING                                          42\n",
       "FORCIBLE ENTRY                                         30\n",
       "AUTOMOBILE                                             27\n",
       "POSS: HEROIN(WHITE)                                    17\n",
       "ARMED: HANDGUN                                         17\n",
       "UNLAWFUL POSS OF HANDGUN                               16\n",
       "AGGRAVATED: HANDGUN                                    16\n",
       "CREDIT CARD FRAUD                                      16\n",
       "UNLAWFUL ENTRY                                         15\n",
       "TELEPHONE THREAT                                       14\n",
       "STRONGARM - NO WEAPON                                  13\n",
       "POCKET-PICKING                                         13\n",
       "FINANCIAL IDENTITY THEFT OVER $ 300                    13\n",
       "TO LAND                                                10\n",
       "VEHICLE TITLE/REG OFFENSE                               9\n",
       "FRAUD OR CONFIDENCE GAME                                9\n",
       "AGGRAVATED:KNIFE/CUTTING INSTR                          9\n",
       "POSS: CANNABIS MORE THAN 30GMS                          8\n",
       "HARASSMENT BY ELECTRONIC MEANS                          7\n",
       "AGGRAVATED: OTHER DANG WEAPON                           7\n",
       "AGGRAVATED DOMESTIC BATTERY: OTHER DANG WEAPON          7\n",
       "SOLICIT NARCOTICS ON PUBLICWAY                          7\n",
       "POSS: CANNABIS 30GMS OR LESS                            7\n",
       "                                                     ... \n",
       "UNLAWFUL POSS OTHER FIREARM                             1\n",
       "BOMB THREAT                                             1\n",
       "ATTEMPT: STRONGARM-NO WEAPON                            1\n",
       "AGGRAVATED OF A SENIOR CITIZEN                          1\n",
       "ARMED WHILE UNDER THE INFLUENCE                         1\n",
       "RECKLESS CONDUCT                                        1\n",
       "AGGRAVATED PO: OTHER DANG WEAP                          1\n",
       "THEFT OF LABOR/SERVICES                                 1\n",
       "ATTEMPT: ARMED-OTHER FIREARM                            1\n",
       "POSS: SYNTHETIC DRUGS                                   1\n",
       "THEFT OF LOST/MISLAID PROP                              1\n",
       "MANU/DELIVER: METHAMPHETAMINES                          1\n",
       "HOME INVASION                                           1\n",
       "AGG SEX ASSLT OF CHILD FAM MBR                          1\n",
       "POSS: AMPHETAMINES                                      1\n",
       "OTHER VIOLATION                                         1\n",
       "POSS: HEROIN(BRN/TAN)                                   1\n",
       "AGGRAVATED                                              1\n",
       "BOGUS CHECK                                             1\n",
       "GUN OFFENDER: DUTY TO REPORT CHANGE OF INFORMATION      1\n",
       "TO STATE SUP LAND                                       1\n",
       "MANU/DELIVER: HEROIN(BRN/TAN)                           1\n",
       "COUNTERFEIT CHECK                                       1\n",
       "INTIMIDATION                                            1\n",
       "PUBLIC INDECENCY                                        1\n",
       "MANU/DELIVER:BARBITUATES                                1\n",
       "OBSTRUCTING IDENTIFICATION                              1\n",
       "EMBEZZLEMENT                                            1\n",
       "AGG PRO.EMP:KNIFE/CUTTING INST                          1\n",
       "OTHER OFFENSE                                           1\n",
       "Name: description, Length: 110, dtype: int64"
      ]
     },
     "execution_count": 22,
     "metadata": {},
     "output_type": "execute_result"
    }
   ],
   "source": [
    "#of the 1000 records, whats the spread for description\n",
    "count_d=df[\"description\"].value_counts()\n",
    "count_d"
   ]
  },
  {
   "cell_type": "code",
   "execution_count": 23,
   "metadata": {},
   "outputs": [
    {
     "data": {
      "text/plain": [
       "2019-01-10T15:16:50    1000\n",
       "Name: updated_on, dtype: int64"
      ]
     },
     "execution_count": 23,
     "metadata": {},
     "output_type": "execute_result"
    }
   ],
   "source": [
    "#of the 1000 records, whats the spread for updated_on\n",
    "count_up=df[\"updated_on\"].value_counts()\n",
    "count_up"
   ]
  },
  {
   "cell_type": "code",
   "execution_count": 26,
   "metadata": {},
   "outputs": [
    {
     "data": {
      "text/plain": [
       "2019    1000\n",
       "Name: year, dtype: int64"
      ]
     },
     "execution_count": 26,
     "metadata": {},
     "output_type": "execute_result"
    }
   ],
   "source": [
    "#of the 1000 records, whats the spread for year\n",
    "count_yr=df[\"year\"].value_counts()\n",
    "count_yr"
   ]
  },
  {
   "cell_type": "code",
   "execution_count": 27,
   "metadata": {},
   "outputs": [
    {
     "data": {
      "text/plain": [
       "25    47\n",
       "29    47\n",
       "8     46\n",
       "32    42\n",
       "43    42\n",
       "28    38\n",
       "23    31\n",
       "49    30\n",
       "67    30\n",
       "44    28\n",
       "69    27\n",
       "46    26\n",
       "68    25\n",
       "71    25\n",
       "22    24\n",
       "27    23\n",
       "24    23\n",
       "73    21\n",
       "3     20\n",
       "30    18\n",
       "19    18\n",
       "66    17\n",
       "26    17\n",
       "53    14\n",
       "1     14\n",
       "56    14\n",
       "6     13\n",
       "15    11\n",
       "61    11\n",
       "7     11\n",
       "      ..\n",
       "14     7\n",
       "4      7\n",
       "48     6\n",
       "31     6\n",
       "76     6\n",
       "54     6\n",
       "72     5\n",
       "50     4\n",
       "51     4\n",
       "57     4\n",
       "20     4\n",
       "17     4\n",
       "16     4\n",
       "5      3\n",
       "13     3\n",
       "74     3\n",
       "11     3\n",
       "37     3\n",
       "60     3\n",
       "47     3\n",
       "18     2\n",
       "64     2\n",
       "52     2\n",
       "33     2\n",
       "12     1\n",
       "9      1\n",
       "36     1\n",
       "55     1\n",
       "34     1\n",
       "59     1\n",
       "Name: community_area, Length: 77, dtype: int64"
      ]
     },
     "execution_count": 27,
     "metadata": {},
     "output_type": "execute_result"
    }
   ],
   "source": [
    "#of the 1000 records, whats the spread for community_area\n",
    "count_ca=df[\"community_area\"].value_counts()\n",
    "count_ca"
   ]
  },
  {
   "cell_type": "code",
   "execution_count": 28,
   "metadata": {},
   "outputs": [],
   "source": [
    "#on the site I downloaded the full dataset in csv.  I'm pulling that data in here\n",
    "csvdf=pd.read_csv(r\"\\Users\\nmitch\\Desktop\\Lessons\\Crimes_-_2001_to_present.csv\")"
   ]
  },
  {
   "cell_type": "code",
   "execution_count": 29,
   "metadata": {},
   "outputs": [
    {
     "data": {
      "text/html": [
       "<div>\n",
       "<style scoped>\n",
       "    .dataframe tbody tr th:only-of-type {\n",
       "        vertical-align: middle;\n",
       "    }\n",
       "\n",
       "    .dataframe tbody tr th {\n",
       "        vertical-align: top;\n",
       "    }\n",
       "\n",
       "    .dataframe thead th {\n",
       "        text-align: right;\n",
       "    }\n",
       "</style>\n",
       "<table border=\"1\" class=\"dataframe\">\n",
       "  <thead>\n",
       "    <tr style=\"text-align: right;\">\n",
       "      <th></th>\n",
       "      <th>ID</th>\n",
       "      <th>Beat</th>\n",
       "      <th>District</th>\n",
       "      <th>Ward</th>\n",
       "      <th>Community Area</th>\n",
       "      <th>X Coordinate</th>\n",
       "      <th>Y Coordinate</th>\n",
       "      <th>Year</th>\n",
       "      <th>Latitude</th>\n",
       "      <th>Longitude</th>\n",
       "    </tr>\n",
       "  </thead>\n",
       "  <tbody>\n",
       "    <tr>\n",
       "      <th>count</th>\n",
       "      <td>6.773682e+06</td>\n",
       "      <td>6.773682e+06</td>\n",
       "      <td>6.773635e+06</td>\n",
       "      <td>6.158828e+06</td>\n",
       "      <td>6.157653e+06</td>\n",
       "      <td>6.712965e+06</td>\n",
       "      <td>6.712965e+06</td>\n",
       "      <td>6.773682e+06</td>\n",
       "      <td>6.712965e+06</td>\n",
       "      <td>6.712965e+06</td>\n",
       "    </tr>\n",
       "    <tr>\n",
       "      <th>mean</th>\n",
       "      <td>6.245521e+06</td>\n",
       "      <td>1.191747e+03</td>\n",
       "      <td>1.130285e+01</td>\n",
       "      <td>2.267888e+01</td>\n",
       "      <td>3.757714e+01</td>\n",
       "      <td>1.164516e+06</td>\n",
       "      <td>1.885716e+06</td>\n",
       "      <td>2.008357e+03</td>\n",
       "      <td>4.184200e+01</td>\n",
       "      <td>-8.767181e+01</td>\n",
       "    </tr>\n",
       "    <tr>\n",
       "      <th>std</th>\n",
       "      <td>3.050983e+06</td>\n",
       "      <td>7.033765e+02</td>\n",
       "      <td>6.945591e+00</td>\n",
       "      <td>1.383195e+01</td>\n",
       "      <td>2.153173e+01</td>\n",
       "      <td>1.717072e+04</td>\n",
       "      <td>3.271135e+04</td>\n",
       "      <td>5.034063e+00</td>\n",
       "      <td>9.001337e-02</td>\n",
       "      <td>6.213696e-02</td>\n",
       "    </tr>\n",
       "    <tr>\n",
       "      <th>min</th>\n",
       "      <td>6.340000e+02</td>\n",
       "      <td>1.110000e+02</td>\n",
       "      <td>1.000000e+00</td>\n",
       "      <td>1.000000e+00</td>\n",
       "      <td>0.000000e+00</td>\n",
       "      <td>0.000000e+00</td>\n",
       "      <td>0.000000e+00</td>\n",
       "      <td>2.001000e+03</td>\n",
       "      <td>3.661945e+01</td>\n",
       "      <td>-9.168657e+01</td>\n",
       "    </tr>\n",
       "    <tr>\n",
       "      <th>25%</th>\n",
       "      <td>3.434680e+06</td>\n",
       "      <td>6.220000e+02</td>\n",
       "      <td>6.000000e+00</td>\n",
       "      <td>1.000000e+01</td>\n",
       "      <td>2.300000e+01</td>\n",
       "      <td>1.152934e+06</td>\n",
       "      <td>1.859186e+06</td>\n",
       "      <td>2.004000e+03</td>\n",
       "      <td>4.176891e+01</td>\n",
       "      <td>-8.771387e+01</td>\n",
       "    </tr>\n",
       "    <tr>\n",
       "      <th>50%</th>\n",
       "      <td>6.232130e+06</td>\n",
       "      <td>1.111000e+03</td>\n",
       "      <td>1.000000e+01</td>\n",
       "      <td>2.200000e+01</td>\n",
       "      <td>3.200000e+01</td>\n",
       "      <td>1.165988e+06</td>\n",
       "      <td>1.890574e+06</td>\n",
       "      <td>2.008000e+03</td>\n",
       "      <td>4.185524e+01</td>\n",
       "      <td>-8.766619e+01</td>\n",
       "    </tr>\n",
       "    <tr>\n",
       "      <th>75%</th>\n",
       "      <td>8.875089e+06</td>\n",
       "      <td>1.731000e+03</td>\n",
       "      <td>1.700000e+01</td>\n",
       "      <td>3.400000e+01</td>\n",
       "      <td>5.700000e+01</td>\n",
       "      <td>1.176352e+06</td>\n",
       "      <td>1.909318e+06</td>\n",
       "      <td>2.012000e+03</td>\n",
       "      <td>4.190687e+01</td>\n",
       "      <td>-8.762837e+01</td>\n",
       "    </tr>\n",
       "    <tr>\n",
       "      <th>max</th>\n",
       "      <td>1.154679e+07</td>\n",
       "      <td>2.535000e+03</td>\n",
       "      <td>3.100000e+01</td>\n",
       "      <td>5.000000e+01</td>\n",
       "      <td>7.700000e+01</td>\n",
       "      <td>1.205119e+06</td>\n",
       "      <td>1.951622e+06</td>\n",
       "      <td>2.018000e+03</td>\n",
       "      <td>4.202291e+01</td>\n",
       "      <td>-8.752453e+01</td>\n",
       "    </tr>\n",
       "  </tbody>\n",
       "</table>\n",
       "</div>"
      ],
      "text/plain": [
       "                 ID          Beat      District          Ward  Community Area  \\\n",
       "count  6.773682e+06  6.773682e+06  6.773635e+06  6.158828e+06    6.157653e+06   \n",
       "mean   6.245521e+06  1.191747e+03  1.130285e+01  2.267888e+01    3.757714e+01   \n",
       "std    3.050983e+06  7.033765e+02  6.945591e+00  1.383195e+01    2.153173e+01   \n",
       "min    6.340000e+02  1.110000e+02  1.000000e+00  1.000000e+00    0.000000e+00   \n",
       "25%    3.434680e+06  6.220000e+02  6.000000e+00  1.000000e+01    2.300000e+01   \n",
       "50%    6.232130e+06  1.111000e+03  1.000000e+01  2.200000e+01    3.200000e+01   \n",
       "75%    8.875089e+06  1.731000e+03  1.700000e+01  3.400000e+01    5.700000e+01   \n",
       "max    1.154679e+07  2.535000e+03  3.100000e+01  5.000000e+01    7.700000e+01   \n",
       "\n",
       "       X Coordinate  Y Coordinate          Year      Latitude     Longitude  \n",
       "count  6.712965e+06  6.712965e+06  6.773682e+06  6.712965e+06  6.712965e+06  \n",
       "mean   1.164516e+06  1.885716e+06  2.008357e+03  4.184200e+01 -8.767181e+01  \n",
       "std    1.717072e+04  3.271135e+04  5.034063e+00  9.001337e-02  6.213696e-02  \n",
       "min    0.000000e+00  0.000000e+00  2.001000e+03  3.661945e+01 -9.168657e+01  \n",
       "25%    1.152934e+06  1.859186e+06  2.004000e+03  4.176891e+01 -8.771387e+01  \n",
       "50%    1.165988e+06  1.890574e+06  2.008000e+03  4.185524e+01 -8.766619e+01  \n",
       "75%    1.176352e+06  1.909318e+06  2.012000e+03  4.190687e+01 -8.762837e+01  \n",
       "max    1.205119e+06  1.951622e+06  2.018000e+03  4.202291e+01 -8.752453e+01  "
      ]
     },
     "execution_count": 29,
     "metadata": {},
     "output_type": "execute_result"
    }
   ],
   "source": [
    "#now... what do I see 'notice the headers changed\n",
    "csvdf.describe()"
   ]
  },
  {
   "cell_type": "code",
   "execution_count": 30,
   "metadata": {},
   "outputs": [
    {
     "data": {
      "text/plain": [
       "ID                        int64\n",
       "Case Number              object\n",
       "Date                     object\n",
       "Block                    object\n",
       "IUCR                     object\n",
       "Primary Type             object\n",
       "Description              object\n",
       "Location Description     object\n",
       "Arrest                     bool\n",
       "Domestic                   bool\n",
       "Beat                      int64\n",
       "District                float64\n",
       "Ward                    float64\n",
       "Community Area          float64\n",
       "FBI Code                 object\n",
       "X Coordinate            float64\n",
       "Y Coordinate            float64\n",
       "Year                      int64\n",
       "Updated On               object\n",
       "Latitude                float64\n",
       "Longitude               float64\n",
       "Location                 object\n",
       "dtype: object"
      ]
     },
     "execution_count": 30,
     "metadata": {},
     "output_type": "execute_result"
    }
   ],
   "source": [
    "#some of the data types changed after pulling in csv too\n",
    "csvdf.dtypes"
   ]
  },
  {
   "cell_type": "code",
   "execution_count": 31,
   "metadata": {},
   "outputs": [
    {
     "data": {
      "text/plain": [
       "array([2015, 2014, 2002, 2008, 2006, 2004, 2001, 2005, 2016, 2017, 2009,\n",
       "       2012, 2013, 2018, 2003, 2011, 2007, 2010], dtype=int64)"
      ]
     },
     "execution_count": 31,
     "metadata": {},
     "output_type": "execute_result"
    }
   ],
   "source": [
    "#now, how many years are in there\n",
    "unique_cyr=csvdf[\"Year\"].unique()\n",
    "unique_cyr"
   ]
  },
  {
   "cell_type": "code",
   "execution_count": 32,
   "metadata": {
    "scrolled": true
   },
   "outputs": [
    {
     "data": {
      "text/plain": [
       "array(['STREET', 'APARTMENT', 'SIDEWALK', 'RESIDENCE PORCH/HALLWAY',\n",
       "       'PARKING LOT/GARAGE(NON.RESID.)', 'CTA GARAGE / OTHER PROPERTY',\n",
       "       'DRIVEWAY - RESIDENTIAL', 'GAS STATION', 'OTHER',\n",
       "       'GROCERY FOOD STORE', 'ALLEY', 'BAR OR TAVERN',\n",
       "       'VEHICLE NON-COMMERCIAL', 'RESIDENCE',\n",
       "       'FACTORY/MANUFACTURING BUILDING', 'CTA BUS STOP',\n",
       "       'SCHOOL, PUBLIC, BUILDING', 'DRUG STORE',\n",
       "       'COMMERCIAL / BUSINESS OFFICE', 'RESIDENCE-GARAGE',\n",
       "       'SMALL RETAIL STORE', 'NURSING HOME/RETIREMENT HOME',\n",
       "       'VACANT LOT/LAND', 'RESTAURANT', 'HOSPITAL BUILDING/GROUNDS',\n",
       "       'DEPARTMENT STORE', 'CHURCH/SYNAGOGUE/PLACE OF WORSHIP',\n",
       "       'SCHOOL, PUBLIC, GROUNDS', 'HOTEL/MOTEL', 'MEDICAL/DENTAL OFFICE',\n",
       "       'SCHOOL, PRIVATE, BUILDING', nan, 'CTA BUS',\n",
       "       'RESIDENTIAL YARD (FRONT/BACK)', 'GOVERNMENT BUILDING/PROPERTY',\n",
       "       'DAY CARE CENTER', 'AIRPORT/AIRCRAFT', 'CAR WASH', 'BANK',\n",
       "       'TAVERN/LIQUOR STORE', 'COLLEGE/UNIVERSITY RESIDENCE HALL',\n",
       "       'COLLEGE/UNIVERSITY GROUNDS', 'TAXICAB',\n",
       "       'AIRPORT TERMINAL UPPER LEVEL - SECURE AREA',\n",
       "       'SCHOOL, PRIVATE, GROUNDS', 'OTHER RAILROAD PROP / TRAIN DEPOT',\n",
       "       'BARBERSHOP', 'PARK PROPERTY', 'CTA TRACKS - RIGHT OF WAY',\n",
       "       'ATM (AUTOMATIC TELLER MACHINE)', 'VEHICLE-COMMERCIAL',\n",
       "       'ATHLETIC CLUB', 'CONVENIENCE STORE', 'CONSTRUCTION SITE',\n",
       "       'CHA APARTMENT', 'CHA PARKING LOT/GROUNDS', 'CTA PLATFORM',\n",
       "       'CLEANING STORE', 'OTHER COMMERCIAL TRANSPORTATION',\n",
       "       'AIRPORT TERMINAL LOWER LEVEL - SECURE AREA', 'CTA STATION',\n",
       "       'CURRENCY EXCHANGE', 'WAREHOUSE', 'CTA TRAIN',\n",
       "       'POLICE FACILITY/VEH PARKING LOT', 'AIRCRAFT',\n",
       "       'AIRPORT TERMINAL MEZZANINE - NON-SECURE AREA',\n",
       "       'AIRPORT VENDING ESTABLISHMENT',\n",
       "       'AIRPORT BUILDING NON-TERMINAL - NON-SECURE AREA',\n",
       "       'AIRPORT TERMINAL LOWER LEVEL - NON-SECURE AREA', 'HOUSE',\n",
       "       'SPORTS ARENA/STADIUM', 'MOVIE HOUSE/THEATER',\n",
       "       'AIRPORT TERMINAL UPPER LEVEL - NON-SECURE AREA',\n",
       "       'LAKEFRONT/WATERFRONT/RIVERBANK',\n",
       "       'AIRPORT EXTERIOR - NON-SECURE AREA',\n",
       "       'CHA HALLWAY/STAIRWELL/ELEVATOR', 'LIBRARY',\n",
       "       'JAIL / LOCK-UP FACILITY',\n",
       "       'AIRPORT BUILDING NON-TERMINAL - SECURE AREA',\n",
       "       'GAS STATION DRIVE/PROP.', 'ABANDONED BUILDING', 'ANIMAL HOSPITAL',\n",
       "       'APPLIANCE STORE', 'POOL ROOM', 'BOWLING ALLEY',\n",
       "       'AIRPORT PARKING LOT', 'FIRE STATION', 'PAWN SHOP',\n",
       "       'BOAT/WATERCRAFT', 'BRIDGE', 'PARKING LOT', 'AUTO', 'RETAIL STORE',\n",
       "       'VEHICLE - DELIVERY TRUCK', 'AIRPORT TRANSPORTATION SYSTEM (ATS)',\n",
       "       'CEMETARY', 'HIGHWAY/EXPRESSWAY', 'FEDERAL BUILDING',\n",
       "       'SAVINGS AND LOAN', 'FOREST PRESERVE', 'GARAGE', 'PORCH',\n",
       "       'NEWSSTAND', 'AIRPORT EXTERIOR - SECURE AREA', 'HALLWAY',\n",
       "       'VEHICLE - OTHER RIDE SERVICE', 'YARD', 'CREDIT UNION',\n",
       "       'VACANT LOT', 'COIN OPERATED MACHINE', 'BARBER SHOP/BEAUTY SALON',\n",
       "       'CHA HALLWAY', 'GANGWAY', 'ROOMING HOUSE', 'SCHOOL YARD', 'TAVERN',\n",
       "       'CTA PROPERTY', 'CHA PARKING LOT', 'STAIRWELL', 'HOTEL',\n",
       "       'AUTO / BOAT / RV DEALERSHIP', 'DELIVERY TRUCK',\n",
       "       'VEHICLE - OTHER RIDE SHARE SERVICE (E.G., UBER, LYFT)',\n",
       "       'DRIVEWAY', 'GARAGE/AUTO REPAIR', 'CHA STAIRWELL', 'BASEMENT',\n",
       "       'TRUCK', 'COACH HOUSE', 'CLUB', 'LOADING DOCK', 'CHA ELEVATOR',\n",
       "       'LAKE', 'RAILROAD PROPERTY', 'VESTIBULE', 'CHA PLAY LOT',\n",
       "       'CHA GROUNDS', 'GOVERNMENT BUILDING', 'HOSPITAL', 'RIVER',\n",
       "       'VEHICLE-COMMERCIAL - TROLLEY BUS',\n",
       "       'VEHICLE-COMMERCIAL - ENTERTAINMENT/PARTY BUS', 'LAGOON',\n",
       "       'DUMPSTER', 'HORSE STABLE', 'FARM', 'LIQUOR STORE', 'WOODED AREA',\n",
       "       'ELEVATOR', 'COUNTY JAIL', 'YMCA', 'CHURCH PROPERTY', 'SEWER',\n",
       "       'LIVERY STAND OFFICE', 'CHURCH', 'CHA BREEZEWAY', 'CHA LOBBY',\n",
       "       'PRAIRIE', 'PUBLIC GRAMMAR SCHOOL', 'JUNK YARD/GARBAGE DUMP',\n",
       "       'FUNERAL PARLOR', 'OFFICE', 'RIVER BANK', 'NURSING HOME',\n",
       "       'CLEANERS/LAUNDROMAT', 'MOTEL', 'EXPRESSWAY EMBANKMENT',\n",
       "       'CTA \"L\" PLATFORM', 'PUBLIC HIGH SCHOOL', 'TAXI CAB',\n",
       "       'CTA \"L\" TRAIN', 'TRUCKING TERMINAL', 'FACTORY', 'TRAILER',\n",
       "       'LAUNDRY ROOM', 'LIVERY AUTO', 'BANQUET HALL', 'POOLROOM',\n",
       "       'KENNEL'], dtype=object)"
      ]
     },
     "execution_count": 32,
     "metadata": {},
     "output_type": "execute_result"
    }
   ],
   "source": [
    "#now what do I see in location desctiption\n",
    "unique_cld=csvdf[\"Location Description\"].unique()\n",
    "unique_cld"
   ]
  },
  {
   "cell_type": "code",
   "execution_count": 33,
   "metadata": {},
   "outputs": [
    {
     "data": {
      "text/plain": [
       "STREET                            1776425\n",
       "RESIDENCE                         1147021\n",
       "APARTMENT                          700974\n",
       "SIDEWALK                           667255\n",
       "OTHER                              257530\n",
       "PARKING LOT/GARAGE(NON.RESID.)     194449\n",
       "ALLEY                              151319\n",
       "SCHOOL, PUBLIC, BUILDING           142681\n",
       "RESIDENCE-GARAGE                   131935\n",
       "SMALL RETAIL STORE                 119963\n",
       "RESIDENCE PORCH/HALLWAY            118500\n",
       "VEHICLE NON-COMMERCIAL             108735\n",
       "RESTAURANT                         106343\n",
       "GROCERY FOOD STORE                  87650\n",
       "DEPARTMENT STORE                    84195\n",
       "GAS STATION                         72345\n",
       "RESIDENTIAL YARD (FRONT/BACK)       69905\n",
       "CHA PARKING LOT/GROUNDS             55498\n",
       "PARK PROPERTY                       52404\n",
       "COMMERCIAL / BUSINESS OFFICE        49294\n",
       "CTA PLATFORM                        36386\n",
       "BAR OR TAVERN                       36196\n",
       "CHA APARTMENT                       36082\n",
       "DRUG STORE                          30693\n",
       "SCHOOL, PUBLIC, GROUNDS             29100\n",
       "HOTEL/MOTEL                         28153\n",
       "BANK                                27555\n",
       "CHA HALLWAY/STAIRWELL/ELEVATOR      24843\n",
       "CTA TRAIN                           24248\n",
       "VACANT LOT/LAND                     23974\n",
       "                                   ...   \n",
       "TRAILER                                 3\n",
       "SEWER                                   3\n",
       "LAKE                                    3\n",
       "HORSE STABLE                            3\n",
       "YMCA                                    3\n",
       "CTA \"L\" TRAIN                           2\n",
       "CHA ELEVATOR                            2\n",
       "FARM                                    2\n",
       "COUNTY JAIL                             2\n",
       "GOVERNMENT BUILDING                     2\n",
       "PRAIRIE                                 2\n",
       "ROOMING HOUSE                           2\n",
       "CHURCH PROPERTY                         2\n",
       "LAUNDRY ROOM                            2\n",
       "FACTORY                                 2\n",
       "LIVERY STAND OFFICE                     2\n",
       "PUBLIC HIGH SCHOOL                      2\n",
       "EXPRESSWAY EMBANKMENT                   1\n",
       "FUNERAL PARLOR                          1\n",
       "LAGOON                                  1\n",
       "TRUCKING TERMINAL                       1\n",
       "KENNEL                                  1\n",
       "BANQUET HALL                            1\n",
       "POOLROOM                                1\n",
       "LOADING DOCK                            1\n",
       "ELEVATOR                                1\n",
       "JUNK YARD/GARBAGE DUMP                  1\n",
       "PUBLIC GRAMMAR SCHOOL                   1\n",
       "LIVERY AUTO                             1\n",
       "CLEANERS/LAUNDROMAT                     1\n",
       "Name: Location Description, Length: 179, dtype: int64"
      ]
     },
     "execution_count": 33,
     "metadata": {},
     "output_type": "execute_result"
    }
   ],
   "source": [
    "#new location descrption counts\n",
    "count_cld=csvdf[\"Location Description\"].value_counts()\n",
    "count_cld"
   ]
  },
  {
   "cell_type": "code",
   "execution_count": 34,
   "metadata": {},
   "outputs": [
    {
     "data": {
      "text/html": [
       "<div>\n",
       "<style scoped>\n",
       "    .dataframe tbody tr th:only-of-type {\n",
       "        vertical-align: middle;\n",
       "    }\n",
       "\n",
       "    .dataframe tbody tr th {\n",
       "        vertical-align: top;\n",
       "    }\n",
       "\n",
       "    .dataframe thead th {\n",
       "        text-align: right;\n",
       "    }\n",
       "</style>\n",
       "<table border=\"1\" class=\"dataframe\">\n",
       "  <thead>\n",
       "    <tr style=\"text-align: right;\">\n",
       "      <th></th>\n",
       "      <th>Year</th>\n",
       "      <th>Primary Type</th>\n",
       "      <th>Description</th>\n",
       "      <th>Updated On</th>\n",
       "      <th>Location Description</th>\n",
       "      <th>Community Area</th>\n",
       "    </tr>\n",
       "  </thead>\n",
       "  <tbody>\n",
       "    <tr>\n",
       "      <th>0</th>\n",
       "      <td>2015</td>\n",
       "      <td>BATTERY</td>\n",
       "      <td>AGGRAVATED: HANDGUN</td>\n",
       "      <td>02/10/2018 03:50:01 PM</td>\n",
       "      <td>STREET</td>\n",
       "      <td>25.0</td>\n",
       "    </tr>\n",
       "    <tr>\n",
       "      <th>1</th>\n",
       "      <td>2015</td>\n",
       "      <td>OTHER OFFENSE</td>\n",
       "      <td>PAROLE VIOLATION</td>\n",
       "      <td>02/10/2018 03:50:01 PM</td>\n",
       "      <td>STREET</td>\n",
       "      <td>67.0</td>\n",
       "    </tr>\n",
       "    <tr>\n",
       "      <th>2</th>\n",
       "      <td>2015</td>\n",
       "      <td>BATTERY</td>\n",
       "      <td>DOMESTIC BATTERY SIMPLE</td>\n",
       "      <td>02/10/2018 03:50:01 PM</td>\n",
       "      <td>APARTMENT</td>\n",
       "      <td>39.0</td>\n",
       "    </tr>\n",
       "    <tr>\n",
       "      <th>3</th>\n",
       "      <td>2015</td>\n",
       "      <td>BATTERY</td>\n",
       "      <td>SIMPLE</td>\n",
       "      <td>02/10/2018 03:50:01 PM</td>\n",
       "      <td>APARTMENT</td>\n",
       "      <td>40.0</td>\n",
       "    </tr>\n",
       "    <tr>\n",
       "      <th>4</th>\n",
       "      <td>2015</td>\n",
       "      <td>ROBBERY</td>\n",
       "      <td>ARMED: HANDGUN</td>\n",
       "      <td>02/10/2018 03:50:01 PM</td>\n",
       "      <td>SIDEWALK</td>\n",
       "      <td>25.0</td>\n",
       "    </tr>\n",
       "  </tbody>\n",
       "</table>\n",
       "</div>"
      ],
      "text/plain": [
       "   Year   Primary Type              Description              Updated On  \\\n",
       "0  2015        BATTERY      AGGRAVATED: HANDGUN  02/10/2018 03:50:01 PM   \n",
       "1  2015  OTHER OFFENSE         PAROLE VIOLATION  02/10/2018 03:50:01 PM   \n",
       "2  2015        BATTERY  DOMESTIC BATTERY SIMPLE  02/10/2018 03:50:01 PM   \n",
       "3  2015        BATTERY                   SIMPLE  02/10/2018 03:50:01 PM   \n",
       "4  2015        ROBBERY           ARMED: HANDGUN  02/10/2018 03:50:01 PM   \n",
       "\n",
       "  Location Description  Community Area  \n",
       "0               STREET            25.0  \n",
       "1               STREET            67.0  \n",
       "2            APARTMENT            39.0  \n",
       "3            APARTMENT            40.0  \n",
       "4             SIDEWALK            25.0  "
      ]
     },
     "execution_count": 34,
     "metadata": {},
     "output_type": "execute_result"
    }
   ],
   "source": [
    "#alright, all that looks good.  I'll pull out the headers that I want\n",
    "clncsv=csvdf[[\"Year\", \"Primary Type\", \"Description\", \"Updated On\", \"Location Description\", \"Community Area\"]]\n",
    "clncsv.head()"
   ]
  },
  {
   "cell_type": "code",
   "execution_count": 36,
   "metadata": {},
   "outputs": [],
   "source": [
    "#lets export the clean data\n",
    "clncsv.to_csv(r\"\\Users\\nmitch\\Desktop\\Lessons\\CleanCrimeData.csv\", encoding=\"utf-8\", index=False, header=True)"
   ]
  },
  {
   "cell_type": "code",
   "execution_count": null,
   "metadata": {},
   "outputs": [],
   "source": []
  },
  {
   "cell_type": "code",
   "execution_count": null,
   "metadata": {},
   "outputs": [],
   "source": []
  }
 ],
 "metadata": {
  "kernelspec": {
   "display_name": "Python 3",
   "language": "python",
   "name": "python3"
  },
  "language_info": {
   "codemirror_mode": {
    "name": "ipython",
    "version": 3
   },
   "file_extension": ".py",
   "mimetype": "text/x-python",
   "name": "python",
   "nbconvert_exporter": "python",
   "pygments_lexer": "ipython3",
   "version": "3.7.0"
  }
 },
 "nbformat": 4,
 "nbformat_minor": 2
}
