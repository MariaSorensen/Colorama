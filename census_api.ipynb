{
 "cells": [
  {
   "cell_type": "code",
   "execution_count": null,
   "metadata": {},
   "outputs": [],
   "source": [
    "#dependencies\n",
    "#for consistency with the course I am keeping all api keys in one file named config.py\n",
    "import requests\n",
    "from config import census_api_key\n",
    "import pandas as pd"
   ]
  },
  {
   "cell_type": "markdown",
   "metadata": {},
   "source": [
    "### Census Api basic info\n",
    "Here is the link to the American Community Survey API for 2011-2017\n",
    "    - https://www.census.gov/data/developers/data-sets/acs-1year.html\n",
    "\n",
    "Chart with all the types of variables you can look up\n",
    "    - https://api.census.gov/data/2017/acs/acs1.html\n",
    "Variables - breaking down the data by sex/age/ethnicity\n",
    "    - https://api.census.gov/data/2017/acs1/variables.html\n",
    "Geographies - breaking down the data by different geographic areas/sizes\n",
    "    - https://api.census.gov/data/2017/acs/acs1/geography.html\n"
   ]
  },
  {
   "cell_type": "code",
   "execution_count": null,
   "metadata": {},
   "outputs": [],
   "source": [
    "#Census Data Notes\n",
    "#base API structure\n",
    "    #base url + year + data set + data type (variable) + geographic area + API key\n",
    "    #if you want to show all of a variable type <*> instead of a number/code\n",
    "        #example - to get information for all states you would type <in=state:*>\n",
    "base_url = \"https://api.census.gov/data\"\n",
    "year = \"year here\"\n",
    "data_set = \"acs1\" #American Community Survey\n",
    "#state codes for census\n",
    "#https://www.census.gov/govs/www/gidstate.html\n",
    "    #Illinois = 14\n",
    "\n",
    "#Variable types (aka age/sex/ethnicity) for 1-year American Community Surveys\n",
    "#api.census.gov/data/2013/acs1/variables.html\n",
    "\n",
    "data_type = \"B01003_001E\" #total population\n",
    "data_type_error = \"B01003_001M\" #population margin of error"
   ]
  },
  {
   "cell_type": "code",
   "execution_count": null,
   "metadata": {},
   "outputs": [],
   "source": [
    "#Chicago has 77 Community Areas\n",
    "#state public use micro area has combined community areas\n",
    "#example from census website\n",
    "#https://api.census.gov/data/2013/acs1?get=NAME,B01001_001E&for=public%20use%20microdata%20area:*&in=state:*&key=YOUR_KEY_GOES_HERE\n",
    "\n",
    "geographic_area = \"public%20use%20microdata%20area\""
   ]
  },
  {
   "cell_type": "code",
   "execution_count": null,
   "metadata": {},
   "outputs": [],
   "source": [
    "#build query url\n",
    "query_url = f\"{base_url}/{year}/{data_set}?get=NAME,{data_type}&for={geographic_area}:*&in=state:14&key={census_api_key}\""
   ]
  }
 ],
 "metadata": {
  "kernelspec": {
   "display_name": "Python 3",
   "language": "python",
   "name": "python3"
  },
  "language_info": {
   "codemirror_mode": {
    "name": "ipython",
    "version": 3
   },
   "file_extension": ".py",
   "mimetype": "text/x-python",
   "name": "python",
   "nbconvert_exporter": "python",
   "pygments_lexer": "ipython3",
   "version": "3.6.6"
  }
 },
 "nbformat": 4,
 "nbformat_minor": 2
}
