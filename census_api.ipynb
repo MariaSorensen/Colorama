{
 "cells": [
  {
   "cell_type": "code",
   "execution_count": null,
   "metadata": {},
   "outputs": [],
   "source": [
    "#dependencies\n",
    "import requests\n",
    "from config import census_api_key\n",
    "import pandas as pd"
   ]
  },
  {
   "cell_type": "code",
   "execution_count": null,
   "metadata": {},
   "outputs": [],
   "source": [
    "#Census Data Notes\n",
    "#base API structure\n",
    "base_url = \"https://api.census.gov/data\"\n",
    "year = \"year here\"\n",
    "data_set = \"acs1\" #American Community Survey\n",
    "#state codes for census\n",
    "#https://www.census.gov/govs/www/gidstate.html\n",
    "    #Illinois = 14\n",
    "\n",
    "#Variable types for 1-year American Community Surveys\n",
    "#api.census.gov/data/2013/acs1/variables.html\n",
    "\n",
    "data_type = \"B01003_001E\" #total population\n",
    "data_error = \"B01003_001M\" #population margin of error"
   ]
  },
  {
   "cell_type": "code",
   "execution_count": null,
   "metadata": {},
   "outputs": [],
   "source": [
    "#Chicago has 77 Community Areas\n",
    "#state public use micro area has combined community areas\n",
    "#example from census website\n",
    "#https://api.census.gov/data/2013/acs1?get=NAME,B01001_001E&for=public%20use%20microdata%20area:*&in=state:*&key=YOUR_KEY_GOES_HERE\n",
    "#school district? (unified vs secondary vs elementary)\n",
    "#example from census website\n",
    "#https://api.census.gov/data/2013/acs1?get=NAME,B01001_001E&for=school%20district%20(unified):00007&in=state:01&key=YOUR_KEY_GOES_HERE\n",
    "\n",
    "# :* means wildcard, all of the areas will be shown\n",
    "geographic_area = \"public%20use%20microdata%20area\""
   ]
  },
  {
   "cell_type": "code",
   "execution_count": null,
   "metadata": {},
   "outputs": [],
   "source": [
    "#build query url\n",
    "query_url = f\"{base_url}/{year}/{data_set}?get=NAME,{data_type}&for={geographic_area}:*&in=state:14&key={census_api_key}\""
   ]
  }
 ],
 "metadata": {
  "kernelspec": {
   "display_name": "Python 3",
   "language": "python",
   "name": "python3"
  },
  "language_info": {
   "codemirror_mode": {
    "name": "ipython",
    "version": 3
   },
   "file_extension": ".py",
   "mimetype": "text/x-python",
   "name": "python",
   "nbconvert_exporter": "python",
   "pygments_lexer": "ipython3",
   "version": "3.6.6"
  }
 },
 "nbformat": 4,
 "nbformat_minor": 2
}
