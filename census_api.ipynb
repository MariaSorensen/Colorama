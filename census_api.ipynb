{
 "cells": [
  {
   "cell_type": "code",
   "execution_count": 1,
   "metadata": {},
   "outputs": [],
   "source": [
    "#dependencies\n",
    "#for consistency with the course I am keeping all api keys in one file named config.py\n",
    "import requests\n",
    "from config import census_api_key\n",
    "import pandas as pd"
   ]
  },
  {
   "cell_type": "markdown",
   "metadata": {},
   "source": [
    "### Census Api basic info\n",
    "Here is the link to the American Community Survey API for 2011-2017\n",
    "    - https://www.census.gov/data/developers/data-sets/acs-1year.html\n",
    "\n",
    "Chart with all the types of variables you can look up\n",
    "    - https://api.census.gov/data/2017/acs/acs1.html\n",
    "Variables - breaking down the data by sex/age/ethnicity\n",
    "    - https://api.census.gov/data/2017/acs1/variables.html\n",
    "Geographies - breaking down the data by different geographic areas/sizes\n",
    "    - https://api.census.gov/data/2017/acs/acs1/geography.html\n"
   ]
  },
  {
   "cell_type": "code",
   "execution_count": 2,
   "metadata": {},
   "outputs": [],
   "source": [
    "#Census Data Notes\n",
    "#base API structure\n",
    "    #base url + year + data set + data type (variable) + geographic area + API key\n",
    "    #if you want to show all of a variable type <*> instead of a number/code\n",
    "        #example - to get information for all states you would type <in=state:*>\n",
    "base_url = \"https://api.census.gov/data\"\n",
    "years = [2012,2013,2014,2015]\n",
    "data_set = \"acs5\" #American Community Survey\n",
    "#state codes for census\n",
    "#https://www.census.gov/govs/www/gidstate.html\n",
    "    #Illinois = 17\n",
    "\n",
    "#Variable types (aka age/sex/ethnicity) for 1-year American Community Surveys\n",
    "#api.census.gov/data/2013/acs1/variables.html\n",
    "\n",
    "data_type = \"B01003_001E\" #total population\n",
    "#data_type_error = \"B01003_001M\" #population margin of error\n",
    "\n",
    "population_df=pd.DataFrame()"
   ]
  },
  {
   "cell_type": "markdown",
   "metadata": {},
   "source": [
    "Notes: \n",
    "The Chicago crime database has data from 2001-present, American Community Surveys contain data up to 2017.\n",
    "We originally were looking at data from 2011-2017, but data from 2011 and earlier has different community areas than 2012 on. Additionally the data is not available yet when we try to search for 2016 and 2017, so we are looking at data from 2012-2015."
   ]
  },
  {
   "cell_type": "code",
   "execution_count": 3,
   "metadata": {},
   "outputs": [],
   "source": [
    "#Chicago has 77 Community Areas\n",
    "#state public use micro area has combined community areas\n",
    "#example from census website\n",
    "#https://api.census.gov/data/2013/acs1?get=NAME,B01001_001E&for=public%20use%20microdata%20area:*&in=state:*&key=YOUR_KEY_GOES_HERE\n",
    "\n",
    "geographic_area = \"public%20use%20microdata%20area\""
   ]
  },
  {
   "cell_type": "code",
   "execution_count": 4,
   "metadata": {},
   "outputs": [],
   "source": [
    "#loop through years\n",
    "for year in years:\n",
    "    try:\n",
    "        #build query url\n",
    "        query_url = f\"{base_url}/{year}/{data_set}?get=NAME,{data_type}&for={geographic_area}:*&in=state:17&key={census_api_key}\"\n",
    "        #make request\n",
    "        res = requests.get(query_url)\n",
    "        res = res.json()\n",
    "        #change response into dataframe\n",
    "        df = pd.DataFrame.from_records(res)\n",
    "        #add year column to datafram\n",
    "        df[\"year\"] = year\n",
    "        #add to population_df\n",
    "        population_df = population_df.append(df, sort=\"True\")\n",
    "    except ValueError:\n",
    "        print(f\"Error {year}\")"
   ]
  },
  {
   "cell_type": "code",
   "execution_count": 5,
   "metadata": {},
   "outputs": [],
   "source": [
    "#From try/except errors and df\n",
    "    #Errors with years 2016,2017\n",
    "    #different data sorting 2011\n",
    "#Only using years 2012-2015"
   ]
  },
  {
   "cell_type": "code",
   "execution_count": 6,
   "metadata": {},
   "outputs": [
    {
     "data": {
      "text/html": [
       "<div>\n",
       "<style scoped>\n",
       "    .dataframe tbody tr th:only-of-type {\n",
       "        vertical-align: middle;\n",
       "    }\n",
       "\n",
       "    .dataframe tbody tr th {\n",
       "        vertical-align: top;\n",
       "    }\n",
       "\n",
       "    .dataframe thead th {\n",
       "        text-align: right;\n",
       "    }\n",
       "</style>\n",
       "<table border=\"1\" class=\"dataframe\">\n",
       "  <thead>\n",
       "    <tr style=\"text-align: right;\">\n",
       "      <th></th>\n",
       "      <th>0</th>\n",
       "      <th>1</th>\n",
       "      <th>2</th>\n",
       "      <th>3</th>\n",
       "      <th>year</th>\n",
       "    </tr>\n",
       "  </thead>\n",
       "  <tbody>\n",
       "    <tr>\n",
       "      <th>0</th>\n",
       "      <td>NAME</td>\n",
       "      <td>B01003_001E</td>\n",
       "      <td>state</td>\n",
       "      <td>public use microdata area</td>\n",
       "      <td>2012</td>\n",
       "    </tr>\n",
       "    <tr>\n",
       "      <th>1</th>\n",
       "      <td>Jo Daviess, Carroll, Whiteside &amp; Lee Counties ...</td>\n",
       "      <td>132179</td>\n",
       "      <td>17</td>\n",
       "      <td>00104</td>\n",
       "      <td>2012</td>\n",
       "    </tr>\n",
       "    <tr>\n",
       "      <th>2</th>\n",
       "      <td>Rock Island County PUMA, Illinois</td>\n",
       "      <td>147504</td>\n",
       "      <td>17</td>\n",
       "      <td>00105</td>\n",
       "      <td>2012</td>\n",
       "    </tr>\n",
       "    <tr>\n",
       "      <th>3</th>\n",
       "      <td>Henry, Mercer, Henderson, Warren, Hancock, McD...</td>\n",
       "      <td>180417</td>\n",
       "      <td>17</td>\n",
       "      <td>00202</td>\n",
       "      <td>2012</td>\n",
       "    </tr>\n",
       "    <tr>\n",
       "      <th>4</th>\n",
       "      <td>Adams, Pike, Brown, Schuyler &amp; Mason Counties ...</td>\n",
       "      <td>112582</td>\n",
       "      <td>17</td>\n",
       "      <td>00300</td>\n",
       "      <td>2012</td>\n",
       "    </tr>\n",
       "  </tbody>\n",
       "</table>\n",
       "</div>"
      ],
      "text/plain": [
       "                                                   0            1      2  \\\n",
       "0                                               NAME  B01003_001E  state   \n",
       "1  Jo Daviess, Carroll, Whiteside & Lee Counties ...       132179     17   \n",
       "2                  Rock Island County PUMA, Illinois       147504     17   \n",
       "3  Henry, Mercer, Henderson, Warren, Hancock, McD...       180417     17   \n",
       "4  Adams, Pike, Brown, Schuyler & Mason Counties ...       112582     17   \n",
       "\n",
       "                           3  year  \n",
       "0  public use microdata area  2012  \n",
       "1                      00104  2012  \n",
       "2                      00105  2012  \n",
       "3                      00202  2012  \n",
       "4                      00300  2012  "
      ]
     },
     "execution_count": 6,
     "metadata": {},
     "output_type": "execute_result"
    }
   ],
   "source": [
    "population_df.head()"
   ]
  },
  {
   "cell_type": "code",
   "execution_count": 7,
   "metadata": {},
   "outputs": [
    {
     "data": {
      "text/plain": [
       "03411                        4\n",
       "02601                        4\n",
       "03420                        4\n",
       "03503                        4\n",
       "02700                        4\n",
       "03207                        4\n",
       "public use microdata area    4\n",
       "03525                        4\n",
       "00900                        4\n",
       "03414                        4\n",
       "01204                        4\n",
       "03310                        4\n",
       "03531                        4\n",
       "00501                        4\n",
       "03602                        4\n",
       "03407                        4\n",
       "01104                        4\n",
       "03205                        4\n",
       "01300                        4\n",
       "00105                        4\n",
       "03005                        4\n",
       "00700                        4\n",
       "01701                        4\n",
       "02100                        4\n",
       "00401                        4\n",
       "03413                        4\n",
       "03412                        4\n",
       "03204                        4\n",
       "01001                        4\n",
       "03524                        4\n",
       "                            ..\n",
       "03208                        4\n",
       "03202                        4\n",
       "03529                        4\n",
       "03309                        4\n",
       "00800                        4\n",
       "03009                        4\n",
       "03421                        4\n",
       "02400                        4\n",
       "01900                        4\n",
       "03532                        4\n",
       "03105                        4\n",
       "03308                        4\n",
       "03530                        4\n",
       "00600                        4\n",
       "03422                        4\n",
       "00104                        4\n",
       "03502                        4\n",
       "03501                        4\n",
       "02200                        4\n",
       "03408                        4\n",
       "03504                        4\n",
       "00300                        4\n",
       "03209                        4\n",
       "03108                        4\n",
       "03522                        4\n",
       "03419                        4\n",
       "03307                        4\n",
       "01602                        4\n",
       "01105                        4\n",
       "02901                        4\n",
       "Name: 3, Length: 89, dtype: int64"
      ]
     },
     "execution_count": 7,
     "metadata": {},
     "output_type": "execute_result"
    }
   ],
   "source": [
    "#groupby year\n",
    "population_df[3].value_counts()"
   ]
  },
  {
   "cell_type": "code",
   "execution_count": 8,
   "metadata": {},
   "outputs": [
    {
     "data": {
      "text/plain": [
       "Index([0, 1, 2, 3, 'year'], dtype='object')"
      ]
     },
     "execution_count": 8,
     "metadata": {},
     "output_type": "execute_result"
    }
   ],
   "source": [
    "population_df.columns"
   ]
  },
  {
   "cell_type": "code",
   "execution_count": null,
   "metadata": {},
   "outputs": [],
   "source": []
  },
  {
   "cell_type": "code",
   "execution_count": null,
   "metadata": {},
   "outputs": [],
   "source": []
  }
 ],
 "metadata": {
  "kernelspec": {
   "display_name": "Python 3",
   "language": "python",
   "name": "python3"
  },
  "language_info": {
   "codemirror_mode": {
    "name": "ipython",
    "version": 3
   },
   "file_extension": ".py",
   "mimetype": "text/x-python",
   "name": "python",
   "nbconvert_exporter": "python",
   "pygments_lexer": "ipython3",
   "version": "3.6.6"
  }
 },
 "nbformat": 4,
 "nbformat_minor": 2
}
