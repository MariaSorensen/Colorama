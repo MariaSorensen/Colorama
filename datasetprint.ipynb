{
 "cells": [
  {
   "cell_type": "code",
   "execution_count": 2,
   "metadata": {},
   "outputs": [
    {
     "name": "stdout",
     "output_type": "stream",
     "text": [
      "                                         description  \\\n",
      "0  The NCVS (National Crime Victimization Survey)...   \n",
      "1  The NCVS (National Crime Victimization Survey)...   \n",
      "2  The NCVS (National Crime Victimization Survey)...   \n",
      "3  The NCVS (National Crime Victimization Survey)...   \n",
      "4  The NCVS (National Crime Victimization Survey)...   \n",
      "\n",
      "                                            title  \\\n",
      "0  National Crime Victimization Survey (NCVS) API   \n",
      "1  National Crime Victimization Survey (NCVS) API   \n",
      "2  National Crime Victimization Survey (NCVS) API   \n",
      "3  National Crime Victimization Survey (NCVS) API   \n",
      "4  National Crime Victimization Survey (NCVS) API   \n",
      "\n",
      "                                        personalData  \n",
      "0  {'weight': '2522.8037', 'year': '2010', 'ager'...  \n",
      "1  {'weight': '1512.6871', 'year': '2010', 'ager'...  \n",
      "2  {'weight': '2459.9512', 'year': '2010', 'ager'...  \n",
      "3  {'weight': '3315.6816', 'year': '2010', 'ager'...  \n",
      "4  {'weight': '5334.461', 'year': '2010', 'ager':...  \n"
     ]
    }
   ],
   "source": [
    "from pprint import pprint\n",
    "import pandas as pd\n",
    "\n",
    "df = pd.read_json(\"NCVS_2010_PERSONAL.json\")\n",
    "\n",
    "print(df.head())"
   ]
  },
  {
   "cell_type": "code",
   "execution_count": 5,
   "metadata": {},
   "outputs": [
    {
     "data": {
      "text/plain": [
       "Index(['ager', 'direl', 'ethnic1R', 'gender', 'hincome', 'hispanic', 'injury',\n",
       "       'locationr', 'marital2', 'msa', 'newcrime', 'newoff', 'notify',\n",
       "       'popsize', 'race1R', 'region', 'seriousviolent', 'treatment',\n",
       "       'vicservices', 'weapcat', 'weapon', 'weight', 'year'],\n",
       "      dtype='object')"
      ]
     },
     "execution_count": 5,
     "metadata": {},
     "output_type": "execute_result"
    }
   ],
   "source": [
    "#df2 = pd.read_json(df[\"personalData\"])\n",
    "#df2.head()\n",
    "from pandas.io.json import json_normalize\n",
    "json_normalize(df.personalData).columns\n"
   ]
  },
  {
   "cell_type": "code",
   "execution_count": null,
   "metadata": {},
   "outputs": [],
   "source": []
  }
 ],
 "metadata": {
  "kernelspec": {
   "display_name": "Python 3",
   "language": "python",
   "name": "python3"
  },
  "language_info": {
   "codemirror_mode": {
    "name": "ipython",
    "version": 3
   },
   "file_extension": ".py",
   "mimetype": "text/x-python",
   "name": "python",
   "nbconvert_exporter": "python",
   "pygments_lexer": "ipython3",
   "version": "3.7.0"
  }
 },
 "nbformat": 4,
 "nbformat_minor": 2
}
